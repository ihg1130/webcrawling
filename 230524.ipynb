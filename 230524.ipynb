{
 "cells": [
  {
   "cell_type": "code",
   "execution_count": 1,
   "id": "87a91ac8",
   "metadata": {},
   "outputs": [],
   "source": [
    "from selenium import webdriver  as wb\n",
    "from selenium.webdriver.common.keys import Keys\n",
    "from selenium.webdriver.common.by import By\n",
    "import time\n",
    "import pandas as pd\n",
    "from bs4 import BeautifulSoup as bs"
   ]
  },
  {
   "cell_type": "code",
   "execution_count": 2,
   "id": "bf30e649",
   "metadata": {},
   "outputs": [],
   "source": [
    "driver=wb.Chrome()"
   ]
  },
  {
   "cell_type": "code",
   "execution_count": 3,
   "id": "258c54e3",
   "metadata": {},
   "outputs": [],
   "source": [
    "driver.get(\"https://www.daum.net/\")"
   ]
  },
  {
   "cell_type": "code",
   "execution_count": 7,
   "id": "58976fdd",
   "metadata": {},
   "outputs": [],
   "source": [
    "#q\n",
    "input_box = driver.find_element(By.ID, 'q')\n",
    "input_box.send_keys('크롤링')\n",
    "input_box.send_keys(Keys.ENTER)"
   ]
  },
  {
   "cell_type": "markdown",
   "id": "ff6a8daf",
   "metadata": {},
   "source": [
    "# 인스타그램 자동 로그인 처리 및 키워드 검색"
   ]
  },
  {
   "cell_type": "code",
   "execution_count": 15,
   "id": "d002669b",
   "metadata": {},
   "outputs": [],
   "source": [
    "driver=wb.Chrome()\n",
    "driver.get(\"http://www.instagram.com\")"
   ]
  },
  {
   "cell_type": "code",
   "execution_count": 16,
   "id": "69eca231",
   "metadata": {},
   "outputs": [],
   "source": [
    "loginid=driver.find_element(By.NAME, 'username')\n",
    "loginpw=driver.find_element(By.NAME, 'password')"
   ]
  },
  {
   "cell_type": "code",
   "execution_count": 17,
   "id": "0ab41673",
   "metadata": {},
   "outputs": [],
   "source": [
    "loginid.send_keys('---')\n",
    "loginpw.send_keys('---')\n",
    "loginpw.send_keys(Keys.ENTER)"
   ]
  },
  {
   "cell_type": "code",
   "execution_count": 22,
   "id": "369f4149",
   "metadata": {},
   "outputs": [],
   "source": [
    "# 검색 버튼 클릭 (찾아보기)\n",
    "find = driver.find_element(By.CLASS_NAME, 'x1i10hfl')\n",
    "find.send_keys(Keys.ENTER)"
   ]
  },
  {
   "cell_type": "code",
   "execution_count": 23,
   "id": "c8f9d6e9",
   "metadata": {},
   "outputs": [],
   "source": [
    "# 입력박스에 \"양림동맛집\" 키워드 넣고 enter\n",
    "find = driver.find_element(By.CLASS_NAME, '_aauy')\n",
    "find.send_keys(\"양림동맛집\")"
   ]
  },
  {
   "cell_type": "code",
   "execution_count": 25,
   "id": "a21c07e0",
   "metadata": {},
   "outputs": [],
   "source": [
    "# RETURN : 엔터와 같은 기능\n",
    "find.send_keys(Keys.RETURN)"
   ]
  },
  {
   "cell_type": "markdown",
   "id": "f533fe4e",
   "metadata": {},
   "source": [
    "### 네이버 자동 로그인하기"
   ]
  },
  {
   "cell_type": "code",
   "execution_count": 29,
   "id": "b0b0e657",
   "metadata": {},
   "outputs": [],
   "source": [
    "import pyperclip"
   ]
  },
  {
   "cell_type": "code",
   "execution_count": 59,
   "id": "aeee6eeb",
   "metadata": {},
   "outputs": [],
   "source": [
    "driver = wb.Chrome()\n",
    "driver.get(\"https://nid.naver.com/nidlogin.login?mode=form&url=https%3A%2F%2Fwww.naver.com\")\n",
    "time.sleep(1)"
   ]
  },
  {
   "cell_type": "code",
   "execution_count": 69,
   "id": "b8a2e9ae",
   "metadata": {},
   "outputs": [],
   "source": [
    "# 로그인창에 아이디, 비밀번호 복사 입력\n",
    "loginid = \"---\"\n",
    "pyperclip.copy(loginid)\n",
    "driver.find_element(\"xpath\",\"//*[@id='id']\").send_keys(Keys.COMMAND+'v')"
   ]
  },
  {
   "cell_type": "code",
   "execution_count": 72,
   "id": "b3b977d3",
   "metadata": {},
   "outputs": [],
   "source": [
    "time.sleep(1)\n",
    "# 로그인창에 비밀번호 복사하기\n",
    "loginpw = \"---\"\n",
    "pyperclip.copy(loginpw)\n",
    "driver.find_element(\"xpath\",\"//*[@id='pw']\").send_keys(Keys.COMMAND+'v')"
   ]
  },
  {
   "cell_type": "code",
   "execution_count": 73,
   "id": "2d6d7ae6",
   "metadata": {},
   "outputs": [],
   "source": [
    "# 로그인버튼 클릭하기\n",
    "driver.find_element(\"xpath\", \"//*[@id='log.login']\").send_keys(Keys.RETURN)"
   ]
  },
  {
   "cell_type": "markdown",
   "id": "4947b5e8",
   "metadata": {},
   "source": [
    "### 페이스북 자동 로그인 처리 및 검색기능 구현하기 (실습)\n",
    "- 아이디 비밀번호 자동입력\n",
    "- 엔터 클릭"
   ]
  },
  {
   "cell_type": "code",
   "execution_count": 86,
   "id": "3184999e",
   "metadata": {},
   "outputs": [],
   "source": [
    "driver=wb.Chrome()\n",
    "driver.get(\"http://www.facebook.com\")"
   ]
  },
  {
   "cell_type": "code",
   "execution_count": 87,
   "id": "087512bf",
   "metadata": {},
   "outputs": [],
   "source": [
    "loginid = driver.find_element(By.NAME, 'email')\n",
    "loginpw = driver.find_element(By.NAME, 'pass')"
   ]
  },
  {
   "cell_type": "code",
   "execution_count": 88,
   "id": "c66eef97",
   "metadata": {},
   "outputs": [],
   "source": [
    "loginid.send_keys('---')\n",
    "loginpw.send_keys('---')\n",
    "loginpw.send_keys(Keys.ENTER)"
   ]
  },
  {
   "cell_type": "markdown",
   "id": "b888f6ce",
   "metadata": {},
   "source": [
    "### g마켓 베스트상품"
   ]
  },
  {
   "cell_type": "code",
   "execution_count": 89,
   "id": "0fb397f2",
   "metadata": {},
   "outputs": [],
   "source": [
    "# g마켓 베스트 들어가기\n",
    "driver = wb.Chrome()\n",
    "driver.get(\"http://corners.gmarket.co.kr/Bestsellers\")"
   ]
  },
  {
   "cell_type": "code",
   "execution_count": 111,
   "id": "5511ace2",
   "metadata": {},
   "outputs": [],
   "source": [
    "imgs = driver.find_elements(By.CLASS_NAME, 'image__lazy.image__load')\n",
    "imgs[0].click()"
   ]
  },
  {
   "cell_type": "code",
   "execution_count": 107,
   "id": "1a306a2f",
   "metadata": {},
   "outputs": [
    {
     "data": {
      "text/plain": [
       "'카누호환캡슐 6종 4개골라담기 /(5.7gx40캡슐)/네스프레소 호환/쿠폰가18530원'"
      ]
     },
     "execution_count": 107,
     "metadata": {},
     "output_type": "execute_result"
    }
   ],
   "source": [
    "title = driver.find_element(By.CLASS_NAME, 'itemtit')\n",
    "title.text"
   ]
  },
  {
   "cell_type": "code",
   "execution_count": 108,
   "id": "cf068f51",
   "metadata": {},
   "outputs": [
    {
     "data": {
      "text/plain": [
       "'23,160원'"
      ]
     },
     "execution_count": 108,
     "metadata": {},
     "output_type": "execute_result"
    }
   ],
   "source": [
    "price = driver.find_element(By.CLASS_NAME, \"price_real\")\n",
    "price.text"
   ]
  },
  {
   "cell_type": "code",
   "execution_count": 116,
   "id": "fd7e5e43",
   "metadata": {},
   "outputs": [],
   "source": [
    "driver.back()"
   ]
  },
  {
   "cell_type": "code",
   "execution_count": 121,
   "id": "2d245951",
   "metadata": {},
   "outputs": [
    {
     "name": "stdout",
     "output_type": "stream",
     "text": [
      "상품명 : 카누호환캡슐 6종 4개골라담기 /(5.7gx40캡슐)/네스프레소 호환/쿠폰가18530원, 가격 : 23,160원\n",
      "상품명 : 5장세트 남성 아이스드로즈 남자팬티 냉감 쿨 남자속옷 사각팬티 무봉제 심리스, 가격 : 11,800원\n",
      "상품명 : 호주청정우 인기부위 총출동 차돌박이 척롤 부채살 우삼겹외, 가격 : 23,500원\n",
      "상품명 : 하남쭈꾸미쭈꾸미볶음 500g 3팩, 가격 : 33,900원\n",
      "상품명 : (스마일클럽)일반예매권2D-주중/주말, 가격 : 8,900원\n",
      "상품명 : Dole 후룻팝 얼려먹는 주스 혼합 4박스 32입 (파인애플+피치+망고+오렌지) + 쿨러백 증정, 가격 : 18,200원\n",
      "상품명 : 1+1 늘어나는 벨트 남여공용 캐쥬얼 데일리, 가격 : 7,900원\n",
      "상품명 : 덕산농협 진천 백다다기 오이 20개 4kg 내외, 가격 : 14,000원\n",
      "상품명 : 집으로ON 대구식파육개장 500g x 4개(기한 23.8.18)+(증정)곤약젤리 풋사과 150gx2개, 가격 : 12,900원\n",
      "상품명 : 백명란젓 저염 숙성 파지(특동가리) 1kg/2개 구매시 오징어젓갈 250g 증정, 가격 : 20,900원\n",
      "상품명 : 목우촌 주부9단 오곡순살치킨 + 양념치킨소스 530g X 2개, 가격 : 16,440원\n",
      "상품명 : 대추방울토마토 5kg(4번과)/중소과, 가격 : 20,900원\n",
      "상품명 : (신세계강남점)23 S/S 이글아쿠아 운동화 3종 할인가 39000, 가격 : 30,500원\n",
      "상품명 : 포스트 아몬드후레이크 620gx3 +위글위글트레이1개증정, 가격 : 17,110원\n",
      "상품명 : 베베쥬 여름신상 오픈/몸페팬츠상하복여아원피스레깅스데일리룩, 가격 : 8,500원\n",
      "상품명 : 동아오츠카 T 라인바싸 탄산수/탄산음료 500ml 2박스 ( 20입+20입 ), 가격 : 17,250원\n",
      "상품명 : (다산스쿨) 놀라운 어휘 학습도구어 1~5권 세트 (전5권), 가격 : 55,000원\n",
      "상품명 : 깜짝특가 1+1 여름 남성 에어쿨 베이직 팬츠, 가격 : 14,630원\n",
      "상품명 : 습기타파 대용량 제습제 570ml x 24개입, 가격 : 15,900원\n",
      "상품명 : 기프트코드 10만원 / 구글 기프트카드, 가격 : 95,000원\n"
     ]
    }
   ],
   "source": [
    "title_list = []\n",
    "price_list = []\n",
    "\n",
    "for i in range(20) :\n",
    "    # 1. 20개의 이미지 찾기\n",
    "    imgs = driver.find_elements(By.CLASS_NAME, 'image__lazy.image__load')\n",
    "    # 2. i번째 이미지 클릭\n",
    "    imgs[i].click()\n",
    "    time.sleep(1)\n",
    "    # 3. 상품명 가져오기\n",
    "    title = driver.find_element(By.CLASS_NAME, 'itemtit')\n",
    "    # 4. 가격 가져오기\n",
    "    price = driver.find_element(By.CLASS_NAME, 'price_real')\n",
    "    # 5. 리스트에 추가 (.append)\n",
    "    title_list.append(title.text)\n",
    "    price_list.append(price.text)\n",
    "    # 6. 리스트 출력하기\n",
    "    print(f\"상품명 : {title_list[i]}, 가격 : {price_list[i]}\")\n",
    "    driver.back()\n",
    "    time.sleep(1)"
   ]
  },
  {
   "cell_type": "code",
   "execution_count": 119,
   "id": "92eaa3a7",
   "metadata": {},
   "outputs": [
    {
     "data": {
      "text/plain": [
       "['카누호환캡슐 6종 4개골라담기 /(5.7gx40캡슐)/네스프레소 호환/쿠폰가18530원',\n",
       " '5장세트 남성 아이스드로즈 남자팬티 냉감 쿨 남자속옷 사각팬티 무봉제 심리스',\n",
       " '호주청정우 인기부위 총출동 차돌박이 척롤 부채살 우삼겹외',\n",
       " '하남쭈꾸미쭈꾸미볶음 500g 3팩',\n",
       " '(스마일클럽)일반예매권2D-주중/주말',\n",
       " 'Dole 후룻팝 얼려먹는 주스 혼합 4박스 32입 (파인애플+피치+망고+오렌지) + 쿨러백 증정',\n",
       " '1+1 늘어나는 벨트 남여공용 캐쥬얼 데일리',\n",
       " '덕산농협 진천 백다다기 오이 20개 4kg 내외',\n",
       " '집으로ON 대구식파육개장 500g x 4개(기한 23.8.18)+(증정)곤약젤리 풋사과 150gx2개',\n",
       " '백명란젓 저염 숙성 파지(특동가리) 1kg/2개 구매시 오징어젓갈 250g 증정',\n",
       " '목우촌 주부9단 오곡순살치킨 + 양념치킨소스 530g X 2개',\n",
       " '대추방울토마토 5kg(4번과)/중소과',\n",
       " '(신세계강남점)23 S/S 이글아쿠아 운동화 3종 할인가 39000',\n",
       " '포스트 아몬드후레이크 620gx3 +위글위글트레이1개증정',\n",
       " '베베쥬 여름신상 오픈/몸페팬츠상하복여아원피스레깅스데일리룩',\n",
       " '동아오츠카 T 라인바싸 탄산수/탄산음료 500ml 2박스 ( 20입+20입 )',\n",
       " '(다산스쿨) 놀라운 어휘 학습도구어 1~5권 세트 (전5권)',\n",
       " '깜짝특가 1+1 여름 남성 에어쿨 베이직 팬츠',\n",
       " '습기타파 대용량 제습제 570ml x 24개입',\n",
       " '기프트코드 10만원 / 구글 기프트카드']"
      ]
     },
     "execution_count": 119,
     "metadata": {},
     "output_type": "execute_result"
    }
   ],
   "source": [
    "title_list"
   ]
  },
  {
   "cell_type": "code",
   "execution_count": 120,
   "id": "2cd974d8",
   "metadata": {},
   "outputs": [
    {
     "data": {
      "text/plain": [
       "['23,160원',\n",
       " '11,800원',\n",
       " '23,500원',\n",
       " '33,900원',\n",
       " '8,900원',\n",
       " '18,200원',\n",
       " '7,900원',\n",
       " '14,000원',\n",
       " '12,900원',\n",
       " '20,900원',\n",
       " '16,440원',\n",
       " '20,900원',\n",
       " '30,500원',\n",
       " '17,110원',\n",
       " '8,500원',\n",
       " '17,250원',\n",
       " '55,000원',\n",
       " '14,630원',\n",
       " '15,900원',\n",
       " '95,000원']"
      ]
     },
     "execution_count": 120,
     "metadata": {},
     "output_type": "execute_result"
    }
   ],
   "source": [
    "price_list"
   ]
  },
  {
   "cell_type": "code",
   "execution_count": 122,
   "id": "4aca0845",
   "metadata": {},
   "outputs": [
    {
     "data": {
      "text/html": [
       "<div>\n",
       "<style scoped>\n",
       "    .dataframe tbody tr th:only-of-type {\n",
       "        vertical-align: middle;\n",
       "    }\n",
       "\n",
       "    .dataframe tbody tr th {\n",
       "        vertical-align: top;\n",
       "    }\n",
       "\n",
       "    .dataframe thead th {\n",
       "        text-align: right;\n",
       "    }\n",
       "</style>\n",
       "<table border=\"1\" class=\"dataframe\">\n",
       "  <thead>\n",
       "    <tr style=\"text-align: right;\">\n",
       "      <th></th>\n",
       "      <th>상품명</th>\n",
       "      <th>가격</th>\n",
       "    </tr>\n",
       "  </thead>\n",
       "  <tbody>\n",
       "    <tr>\n",
       "      <th>0</th>\n",
       "      <td>카누호환캡슐 6종 4개골라담기 /(5.7gx40캡슐)/네스프레소 호환/쿠폰가18530원</td>\n",
       "      <td>23,160원</td>\n",
       "    </tr>\n",
       "    <tr>\n",
       "      <th>1</th>\n",
       "      <td>5장세트 남성 아이스드로즈 남자팬티 냉감 쿨 남자속옷 사각팬티 무봉제 심리스</td>\n",
       "      <td>11,800원</td>\n",
       "    </tr>\n",
       "    <tr>\n",
       "      <th>2</th>\n",
       "      <td>호주청정우 인기부위 총출동 차돌박이 척롤 부채살 우삼겹외</td>\n",
       "      <td>23,500원</td>\n",
       "    </tr>\n",
       "    <tr>\n",
       "      <th>3</th>\n",
       "      <td>하남쭈꾸미쭈꾸미볶음 500g 3팩</td>\n",
       "      <td>33,900원</td>\n",
       "    </tr>\n",
       "    <tr>\n",
       "      <th>4</th>\n",
       "      <td>(스마일클럽)일반예매권2D-주중/주말</td>\n",
       "      <td>8,900원</td>\n",
       "    </tr>\n",
       "  </tbody>\n",
       "</table>\n",
       "</div>"
      ],
      "text/plain": [
       "                                                상품명       가격\n",
       "0  카누호환캡슐 6종 4개골라담기 /(5.7gx40캡슐)/네스프레소 호환/쿠폰가18530원  23,160원\n",
       "1        5장세트 남성 아이스드로즈 남자팬티 냉감 쿨 남자속옷 사각팬티 무봉제 심리스  11,800원\n",
       "2                   호주청정우 인기부위 총출동 차돌박이 척롤 부채살 우삼겹외  23,500원\n",
       "3                                하남쭈꾸미쭈꾸미볶음 500g 3팩  33,900원\n",
       "4                              (스마일클럽)일반예매권2D-주중/주말   8,900원"
      ]
     },
     "execution_count": 122,
     "metadata": {},
     "output_type": "execute_result"
    }
   ],
   "source": [
    "bestseller = {\"상품명\" : title_list, '가격' : price_list}\n",
    "\n",
    "bestsellers = pd.DataFrame(bestseller, columns=['상품명', '가격'])\n",
    "bestsellers.head()"
   ]
  },
  {
   "cell_type": "code",
   "execution_count": 123,
   "id": "73dd7aa0",
   "metadata": {},
   "outputs": [],
   "source": [
    "bestsellers.to_csv('/Users/mac/Desktop/Coding/polytech/2학년 1학기/웹크롤링/csv/bestseller.csv', index=False, encoding='euc-kr')"
   ]
  }
 ],
 "metadata": {
  "kernelspec": {
   "display_name": "Python 3 (ipykernel)",
   "language": "python",
   "name": "python3"
  },
  "language_info": {
   "codemirror_mode": {
    "name": "ipython",
    "version": 3
   },
   "file_extension": ".py",
   "mimetype": "text/x-python",
   "name": "python",
   "nbconvert_exporter": "python",
   "pygments_lexer": "ipython3",
   "version": "3.9.13"
  }
 },
 "nbformat": 4,
 "nbformat_minor": 5
}
