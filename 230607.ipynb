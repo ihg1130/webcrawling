{
 "cells": [
  {
   "cell_type": "markdown",
   "id": "861abb7f",
   "metadata": {},
   "source": [
    "## 네이버블로그_자동스크롤내리기"
   ]
  },
  {
   "cell_type": "code",
   "execution_count": 1,
   "id": "0bb8dd0a",
   "metadata": {},
   "outputs": [],
   "source": [
    "from selenium import webdriver  as wb\n",
    "from selenium.webdriver.common.keys import Keys\n",
    "from selenium.webdriver.common.by import By\n",
    "import time\n",
    "import pandas as pd\n",
    "from bs4 import BeautifulSoup as bs"
   ]
  },
  {
   "cell_type": "code",
   "execution_count": 2,
   "id": "800fa07d",
   "metadata": {},
   "outputs": [],
   "source": [
    "driver = wb.Chrome()\n",
    "driver.get('http://www.naver.com')\n",
    "time.sleep(2)"
   ]
  },
  {
   "cell_type": "code",
   "execution_count": 3,
   "id": "b5ceab12",
   "metadata": {},
   "outputs": [],
   "source": [
    "#1. id가  query인곳에 키워드를 \"인공지능\" 입력하고 클릭\n",
    "search=driver.find_element(By.ID,'query')\n",
    "search.send_keys(\"인공지능\")\n",
    "search.submit()  #click()과 같음 \n",
    "time.sleep(1)"
   ]
  },
  {
   "cell_type": "code",
   "execution_count": 4,
   "id": "81f75c20",
   "metadata": {},
   "outputs": [],
   "source": [
    "#2.VIEW 메뉴를 클릭\n",
    "# //*[@id=\"lnb\"]/div[1]/div/ul/li[6]/a\n",
    "driver.find_element(By.XPATH,'//*[@id=\"lnb\"]/div[1]/div/ul/li[6]/a').click()"
   ]
  },
  {
   "cell_type": "code",
   "execution_count": 5,
   "id": "109cbdb1",
   "metadata": {},
   "outputs": [],
   "source": [
    "#3.VIEW 메뉴 중에서 '전체'에서 '블로그'클릭 \n",
    "# //*[@id=\"snb\"]/div[1]/div/div[1]/a[2]\n",
    "driver.find_element(By.XPATH,'//*[@id=\"snb\"]/div[1]/div/div[1]/a[2]').click()"
   ]
  },
  {
   "cell_type": "code",
   "execution_count": 6,
   "id": "107aead0",
   "metadata": {},
   "outputs": [],
   "source": [
    "#4.옵션 클릭 \n",
    "# //*[@id=\"snb\"]/div[1]/div/div[2]/a\n",
    "driver.find_element(By.XPATH,'//*[@id=\"snb\"]/div[1]/div/div[2]/a').click()"
   ]
  },
  {
   "cell_type": "code",
   "execution_count": 7,
   "id": "78f6b902",
   "metadata": {},
   "outputs": [],
   "source": [
    "#5.정렬에 최신순 클릭 \n",
    "# //*[@id=\"snb\"]/div[2]/ul/li[2]/div/div/a[2]\n",
    "driver.find_element(By.XPATH,'//*[@id=\"snb\"]/div[2]/ul/li[2]/div/div/a[2]').click()"
   ]
  },
  {
   "cell_type": "markdown",
   "id": "4eb7d1ee",
   "metadata": {},
   "source": [
    "#### 스크롤바 내리기 \n",
    "- driver.execute_script함수 \n",
    "- driver.execute_script(\"window.scrollTo(x좌표,y좌표)\")\n",
    "#### 사용법 \n",
    "<pre>\n",
    "1. x좌표는 0 y좌표는 500까지 \n",
    "- driver.execute_script(\"window.scrollTo(0,500)\")\n",
    "2. x좌표는 0 ,y좌표는 웹페이지 맨아래로 스크롤\n",
    "- driver.execute_script(\"window.scrollTo(0,document.body.scrollHeight)\")\n",
    "</pre>"
   ]
  },
  {
   "cell_type": "code",
   "execution_count": 8,
   "id": "f2cff855",
   "metadata": {},
   "outputs": [],
   "source": [
    "driver.execute_script(\"window.scrollTo(0,document.body.scrollHeight)\")\n",
    "time.sleep(1)"
   ]
  },
  {
   "cell_type": "code",
   "execution_count": 9,
   "id": "d7c2b536",
   "metadata": {},
   "outputs": [],
   "source": [
    "for i in range(6) :\n",
    "    driver.execute_script(\"window.scrollTo(0, document.body.scrollHeight)\")\n",
    "    time.sleep(1)"
   ]
  },
  {
   "cell_type": "markdown",
   "id": "ff17019b",
   "metadata": {},
   "source": [
    "### 게시글 제목, 내용, 작성자, 작성일\n"
   ]
  },
  {
   "cell_type": "code",
   "execution_count": 10,
   "id": "fe954880",
   "metadata": {},
   "outputs": [],
   "source": [
    "html = driver.page_source\n",
    "soup = bs(html, 'html.parser')"
   ]
  },
  {
   "cell_type": "code",
   "execution_count": 11,
   "id": "0baeb7f3",
   "metadata": {},
   "outputs": [],
   "source": [
    "# soup"
   ]
  },
  {
   "cell_type": "code",
   "execution_count": 38,
   "id": "67e5f523",
   "metadata": {},
   "outputs": [
    {
     "data": {
      "text/plain": [
       "240"
      ]
     },
     "execution_count": 38,
     "metadata": {},
     "output_type": "execute_result"
    }
   ],
   "source": [
    "# 게시글 제목\n",
    "titles = soup.find_all('a', 'api_txt_lines total_tit')\n",
    "len(titles)"
   ]
  },
  {
   "cell_type": "code",
   "execution_count": 41,
   "id": "2e2cc53b",
   "metadata": {},
   "outputs": [
    {
     "data": {
      "text/plain": [
       "240"
      ]
     },
     "execution_count": 41,
     "metadata": {},
     "output_type": "execute_result"
    }
   ],
   "source": [
    "# 게시글 내용\n",
    "contents = soup.find_all('div', 'api_txt_lines dsc_txt')\n",
    "len(contents)"
   ]
  },
  {
   "cell_type": "code",
   "execution_count": 42,
   "id": "5cbe12ce",
   "metadata": {},
   "outputs": [
    {
     "data": {
      "text/plain": [
       "240"
      ]
     },
     "execution_count": 42,
     "metadata": {},
     "output_type": "execute_result"
    }
   ],
   "source": [
    "# 게시글 작성자\n",
    "users = soup.find_all('a', 'sub_txt sub_name')\n",
    "len(users)"
   ]
  },
  {
   "cell_type": "code",
   "execution_count": 45,
   "id": "88324f7a",
   "metadata": {},
   "outputs": [
    {
     "data": {
      "text/plain": [
       "240"
      ]
     },
     "execution_count": 45,
     "metadata": {},
     "output_type": "execute_result"
    }
   ],
   "source": [
    "# 게시글 작성일\n",
    "date = soup.find_all('span', 'sub_time sub_txt')\n",
    "len(date)"
   ]
  },
  {
   "cell_type": "code",
   "execution_count": 12,
   "id": "eb479dab",
   "metadata": {},
   "outputs": [
    {
     "name": "stdout",
     "output_type": "stream",
     "text": [
      "==============================blog_list==============================\n"
     ]
    },
    {
     "ename": "FileNotFoundError",
     "evalue": "[Errno 2] No such file or directory: 'txt/인공지능.txt'",
     "output_type": "error",
     "traceback": [
      "\u001b[1;31m---------------------------------------------------------------------------\u001b[0m",
      "\u001b[1;31mFileNotFoundError\u001b[0m                         Traceback (most recent call last)",
      "\u001b[1;32m~\\AppData\\Local\\Temp\\ipykernel_21920\\4181080425.py\u001b[0m in \u001b[0;36m<module>\u001b[1;34m\u001b[0m\n\u001b[0;32m      9\u001b[0m \u001b[1;33m\u001b[0m\u001b[0m\n\u001b[0;32m     10\u001b[0m \u001b[0mno\u001b[0m \u001b[1;33m=\u001b[0m \u001b[1;36m1\u001b[0m\u001b[1;33m\u001b[0m\u001b[1;33m\u001b[0m\u001b[0m\n\u001b[1;32m---> 11\u001b[1;33m \u001b[0mf\u001b[0m \u001b[1;33m=\u001b[0m \u001b[0mopen\u001b[0m\u001b[1;33m(\u001b[0m\u001b[1;34m\"txt/인공지능.txt\"\u001b[0m\u001b[1;33m,\u001b[0m \u001b[1;34m'w'\u001b[0m\u001b[1;33m,\u001b[0m \u001b[0mencoding\u001b[0m\u001b[1;33m=\u001b[0m\u001b[1;34m'UTF-8'\u001b[0m\u001b[1;33m)\u001b[0m\u001b[1;33m\u001b[0m\u001b[1;33m\u001b[0m\u001b[0m\n\u001b[0m\u001b[0;32m     12\u001b[0m \u001b[1;33m\u001b[0m\u001b[0m\n\u001b[0;32m     13\u001b[0m \u001b[1;32mfor\u001b[0m \u001b[0mi\u001b[0m \u001b[1;32min\u001b[0m \u001b[0mblog_list\u001b[0m \u001b[1;33m:\u001b[0m\u001b[1;33m\u001b[0m\u001b[1;33m\u001b[0m\u001b[0m\n",
      "\u001b[1;31mFileNotFoundError\u001b[0m: [Errno 2] No such file or directory: 'txt/인공지능.txt'"
     ]
    }
   ],
   "source": [
    "no_list = []\n",
    "titles_list = []\n",
    "contents_list = []\n",
    "users_list = []\n",
    "dates_list = []\n",
    "\n",
    "blog_list = soup.find_all('div', 'total_wrap api_ani_send')\n",
    "print(\"=\" * 30 + 'blog_list' + \"=\" * 30)\n",
    "\n",
    "no = 1\n",
    "f = open(\"txt/인공지능.txt\", 'w', encoding='UTF-8')\n",
    "\n",
    "for i in blog_list :\n",
    "    # 게시글 번호\n",
    "    no_list.append(no)\n",
    "    f.write('번호 : ' + str(no) + '\\n') # txt에 번호쓰기\n",
    "    # print('번호 : %s' % no)\n",
    "    print(f'번호 : {no}')\n",
    "    \n",
    "    # 게시글 제목\n",
    "    title = i.find('a', 'api_txt_lines total_tit').text\n",
    "    titles_list.append(title)\n",
    "    f.write('제목 : ' + str(title) + '\\n')\n",
    "    print(f'제목 : {title}')\n",
    "    \n",
    "    # 게시글 내용\n",
    "    content = i.find('div', 'api_txt_lines dsc_txt').text\n",
    "    contents_list.append(content)\n",
    "    f.write('내용 : ' + str(content) + '\\n')\n",
    "    print(f'내용 : {content}')\n",
    "    \n",
    "    # 게시글 작성자\n",
    "    user = i.find('a', 'sub_txt sub_name').text\n",
    "    users_list.append(user)\n",
    "    f.write('작성자 : ' + str(user) + '\\n')\n",
    "    print(f'작성자 : {user}')\n",
    "        \n",
    "    # 게시글 작성일\n",
    "    date = i.find('span', 'sub_time sub_txt').text\n",
    "    dates_list.append(date)\n",
    "    f.write('작성일 : ' + str(date) + '\\n\\n')\n",
    "    print(f'작성일 : {date}')\n",
    "    \n",
    "    print('=' * 80)\n",
    "    no += 1\n",
    "    \n",
    "f.close()\n",
    "    "
   ]
  },
  {
   "cell_type": "code",
   "execution_count": 59,
   "id": "6e49377e",
   "metadata": {},
   "outputs": [
    {
     "data": {
      "text/html": [
       "<div>\n",
       "<style scoped>\n",
       "    .dataframe tbody tr th:only-of-type {\n",
       "        vertical-align: middle;\n",
       "    }\n",
       "\n",
       "    .dataframe tbody tr th {\n",
       "        vertical-align: top;\n",
       "    }\n",
       "\n",
       "    .dataframe thead th {\n",
       "        text-align: right;\n",
       "    }\n",
       "</style>\n",
       "<table border=\"1\" class=\"dataframe\">\n",
       "  <thead>\n",
       "    <tr style=\"text-align: right;\">\n",
       "      <th></th>\n",
       "      <th>제목</th>\n",
       "      <th>내용</th>\n",
       "      <th>작성자</th>\n",
       "      <th>작성일</th>\n",
       "    </tr>\n",
       "    <tr>\n",
       "      <th>번호</th>\n",
       "      <th></th>\n",
       "      <th></th>\n",
       "      <th></th>\n",
       "      <th></th>\n",
       "    </tr>\n",
       "  </thead>\n",
       "  <tbody>\n",
       "    <tr>\n",
       "      <th>1</th>\n",
       "      <td>[보도/의료] \"집에서도 정확한 수면 단계 측정…인공지능...</td>\n",
       "      <td>있는 인공지능(AI) 모델을 개발했다고 7일 밝혔다. (후략) 출처 : 아시아경제,...</td>\n",
       "      <td>디지털존 전자문서사업본부 메드서티</td>\n",
       "      <td>3분 전</td>\n",
       "    </tr>\n",
       "    <tr>\n",
       "      <th>2</th>\n",
       "      <td>2023. 06. 07. 경제, 부동산 신문</td>\n",
       "      <td>오늘의 운세, 6월 7일 [음력 4월 19일] 일진: 병신(丙申) 〈쥐띠〉 96, ...</td>\n",
       "      <td>D.GRAY의 부동산 알아가기~</td>\n",
       "      <td>4분 전</td>\n",
       "    </tr>\n",
       "    <tr>\n",
       "      <th>3</th>\n",
       "      <td>해운대 주간보호센터 행복케어 부산좌동점</td>\n",
       "      <td>가능한 인공지능 로봇 활용 프로그램을 제공하며, 24시간 실시간 바이탈 체크 및.....</td>\n",
       "      <td>미코랑열무랑ㅎㅎ</td>\n",
       "      <td>5분 전</td>\n",
       "    </tr>\n",
       "    <tr>\n",
       "      <th>4</th>\n",
       "      <td>‘23년 제2호 스마트물류센터 4개소 신규 인증-CJ대한통운...</td>\n",
       "      <td>*인공지능(AI), 로봇 등 첨단 기술을 물류 장비 및 시스템에 도입하여 효율성‧안...</td>\n",
       "      <td>하이거</td>\n",
       "      <td>7분 전</td>\n",
       "    </tr>\n",
       "    <tr>\n",
       "      <th>5</th>\n",
       "      <td>[부천국어학원] 고1, 고2 찬샘 7월, 8월 과정을 소개합니다:)</td>\n",
       "      <td>1회 인공 지능이 만드는 진화 음악(과학, 기술) 7월 2주차 삼포 가는 길 선거 ...</td>\n",
       "      <td>찬샘국어전문학원</td>\n",
       "      <td>7분 전</td>\n",
       "    </tr>\n",
       "  </tbody>\n",
       "</table>\n",
       "</div>"
      ],
      "text/plain": [
       "                                       제목  \\\n",
       "번호                                          \n",
       "1     [보도/의료] \"집에서도 정확한 수면 단계 측정…인공지능...    \n",
       "2                2023. 06. 07. 경제, 부동산 신문   \n",
       "3                   해운대 주간보호센터 행복케어 부산좌동점   \n",
       "4   ‘23년 제2호 스마트물류센터 4개소 신규 인증-CJ대한통운...    \n",
       "5   [부천국어학원] 고1, 고2 찬샘 7월, 8월 과정을 소개합니다:)   \n",
       "\n",
       "                                                   내용                 작성자  \\\n",
       "번호                                                                          \n",
       "1   있는 인공지능(AI) 모델을 개발했다고 7일 밝혔다. (후략) 출처 : 아시아경제,...  디지털존 전자문서사업본부 메드서티   \n",
       "2   오늘의 운세, 6월 7일 [음력 4월 19일] 일진: 병신(丙申) 〈쥐띠〉 96, ...   D.GRAY의 부동산 알아가기~   \n",
       "3   가능한 인공지능 로봇 활용 프로그램을 제공하며, 24시간 실시간 바이탈 체크 및.....            미코랑열무랑ㅎㅎ   \n",
       "4   *인공지능(AI), 로봇 등 첨단 기술을 물류 장비 및 시스템에 도입하여 효율성‧안...                 하이거   \n",
       "5   1회 인공 지능이 만드는 진화 음악(과학, 기술) 7월 2주차 삼포 가는 길 선거 ...            찬샘국어전문학원   \n",
       "\n",
       "     작성일  \n",
       "번호        \n",
       "1   3분 전  \n",
       "2   4분 전  \n",
       "3   5분 전  \n",
       "4   7분 전  \n",
       "5   7분 전  "
      ]
     },
     "execution_count": 59,
     "metadata": {},
     "output_type": "execute_result"
    }
   ],
   "source": [
    "info = {'번호' : no_list, '제목' : titles_list, '내용' : contents_list, '작성자' : users_list, '작성일' : dates_list}\n",
    "blog = pd.DataFrame(info)\n",
    "\n",
    "blog.set_index('번호', inplace=True)\n",
    "blog.head(5)"
   ]
  },
  {
   "cell_type": "code",
   "execution_count": 60,
   "id": "b9ff7037",
   "metadata": {},
   "outputs": [],
   "source": [
    "blog.to_csv('csv/blog.csv', index=False, encoding='UTF-8')"
   ]
  },
  {
   "cell_type": "code",
   "execution_count": 61,
   "id": "0f3793c4",
   "metadata": {},
   "outputs": [
    {
     "data": {
      "text/html": [
       "<div>\n",
       "<style scoped>\n",
       "    .dataframe tbody tr th:only-of-type {\n",
       "        vertical-align: middle;\n",
       "    }\n",
       "\n",
       "    .dataframe tbody tr th {\n",
       "        vertical-align: top;\n",
       "    }\n",
       "\n",
       "    .dataframe thead th {\n",
       "        text-align: right;\n",
       "    }\n",
       "</style>\n",
       "<table border=\"1\" class=\"dataframe\">\n",
       "  <thead>\n",
       "    <tr style=\"text-align: right;\">\n",
       "      <th></th>\n",
       "      <th>제목</th>\n",
       "      <th>내용</th>\n",
       "      <th>작성자</th>\n",
       "      <th>작성일</th>\n",
       "    </tr>\n",
       "  </thead>\n",
       "  <tbody>\n",
       "    <tr>\n",
       "      <th>0</th>\n",
       "      <td>[보도/의료] \"집에서도 정확한 수면 단계 측정…인공지능...</td>\n",
       "      <td>있는 인공지능(AI) 모델을 개발했다고 7일 밝혔다. (후략) 출처 : 아시아경제,...</td>\n",
       "      <td>디지털존 전자문서사업본부 메드서티</td>\n",
       "      <td>3분 전</td>\n",
       "    </tr>\n",
       "    <tr>\n",
       "      <th>1</th>\n",
       "      <td>2023. 06. 07. 경제, 부동산 신문</td>\n",
       "      <td>오늘의 운세, 6월 7일 [음력 4월 19일] 일진: 병신(丙申) 〈쥐띠〉 96, ...</td>\n",
       "      <td>D.GRAY의 부동산 알아가기~</td>\n",
       "      <td>4분 전</td>\n",
       "    </tr>\n",
       "    <tr>\n",
       "      <th>2</th>\n",
       "      <td>해운대 주간보호센터 행복케어 부산좌동점</td>\n",
       "      <td>가능한 인공지능 로봇 활용 프로그램을 제공하며, 24시간 실시간 바이탈 체크 및.....</td>\n",
       "      <td>미코랑열무랑ㅎㅎ</td>\n",
       "      <td>5분 전</td>\n",
       "    </tr>\n",
       "    <tr>\n",
       "      <th>3</th>\n",
       "      <td>‘23년 제2호 스마트물류센터 4개소 신규 인증-CJ대한통운...</td>\n",
       "      <td>*인공지능(AI), 로봇 등 첨단 기술을 물류 장비 및 시스템에 도입하여 효율성‧안...</td>\n",
       "      <td>하이거</td>\n",
       "      <td>7분 전</td>\n",
       "    </tr>\n",
       "    <tr>\n",
       "      <th>4</th>\n",
       "      <td>[부천국어학원] 고1, 고2 찬샘 7월, 8월 과정을 소개합니다:)</td>\n",
       "      <td>1회 인공 지능이 만드는 진화 음악(과학, 기술) 7월 2주차 삼포 가는 길 선거 ...</td>\n",
       "      <td>찬샘국어전문학원</td>\n",
       "      <td>7분 전</td>\n",
       "    </tr>\n",
       "  </tbody>\n",
       "</table>\n",
       "</div>"
      ],
      "text/plain": [
       "                                      제목  \\\n",
       "0    [보도/의료] \"집에서도 정확한 수면 단계 측정…인공지능...    \n",
       "1               2023. 06. 07. 경제, 부동산 신문   \n",
       "2                  해운대 주간보호센터 행복케어 부산좌동점   \n",
       "3  ‘23년 제2호 스마트물류센터 4개소 신규 인증-CJ대한통운...    \n",
       "4  [부천국어학원] 고1, 고2 찬샘 7월, 8월 과정을 소개합니다:)   \n",
       "\n",
       "                                                  내용                 작성자   작성일  \n",
       "0  있는 인공지능(AI) 모델을 개발했다고 7일 밝혔다. (후략) 출처 : 아시아경제,...  디지털존 전자문서사업본부 메드서티  3분 전  \n",
       "1  오늘의 운세, 6월 7일 [음력 4월 19일] 일진: 병신(丙申) 〈쥐띠〉 96, ...   D.GRAY의 부동산 알아가기~  4분 전  \n",
       "2  가능한 인공지능 로봇 활용 프로그램을 제공하며, 24시간 실시간 바이탈 체크 및.....            미코랑열무랑ㅎㅎ  5분 전  \n",
       "3  *인공지능(AI), 로봇 등 첨단 기술을 물류 장비 및 시스템에 도입하여 효율성‧안...                 하이거  7분 전  \n",
       "4  1회 인공 지능이 만드는 진화 음악(과학, 기술) 7월 2주차 삼포 가는 길 선거 ...            찬샘국어전문학원  7분 전  "
      ]
     },
     "execution_count": 61,
     "metadata": {},
     "output_type": "execute_result"
    }
   ],
   "source": [
    "blog = pd.read_csv('csv/blog.csv', encoding='utf-8')\n",
    "blog.head(5)"
   ]
  },
  {
   "cell_type": "markdown",
   "id": "d1311378",
   "metadata": {},
   "source": [
    "#### 파일 생성하기\n",
    "- 파일객체 = open(\"파일이름\", \"파일열기모드\")\n",
    "- 파일열기모드\n",
    "    * r : 일기\n",
    "    * w : 쓰기\n",
    "    * a : 추가\n",
    "<pre>\n",
    "    f = open(\"새파일이름\", \"w\")\n",
    "    f.close()\n",
    "</pre>"
   ]
  },
  {
   "cell_type": "code",
   "execution_count": 46,
   "id": "79cce109",
   "metadata": {},
   "outputs": [],
   "source": [
    "f = open('/Users/mac/Desktop/Coding/polytech/2학년 1학기/웹크롤링/txt/text.txt', 'w')"
   ]
  },
  {
   "cell_type": "code",
   "execution_count": 47,
   "id": "9e113238",
   "metadata": {},
   "outputs": [
    {
     "data": {
      "text/plain": [
       "14"
      ]
     },
     "execution_count": 47,
     "metadata": {},
     "output_type": "execute_result"
    }
   ],
   "source": [
    "f.write(\"폴리텍 대학 AI융합학과\")\n",
    "f.write(\"2211110348 이규환\")"
   ]
  },
  {
   "cell_type": "code",
   "execution_count": 48,
   "id": "ff63a212",
   "metadata": {},
   "outputs": [],
   "source": [
    "f.close()"
   ]
  },
  {
   "cell_type": "code",
   "execution_count": 49,
   "id": "75b9c9e7",
   "metadata": {},
   "outputs": [
    {
     "name": "stdout",
     "output_type": "stream",
     "text": [
      "폴리텍 대학 AI융합학과2211110348 이규환\n"
     ]
    }
   ],
   "source": [
    "f = open('txt/text.txt','r')\n",
    "data = f.read()\n",
    "print(data)\n",
    "f.close()"
   ]
  }
 ],
 "metadata": {
  "kernelspec": {
   "display_name": "Python 3 (ipykernel)",
   "language": "python",
   "name": "python3"
  },
  "language_info": {
   "codemirror_mode": {
    "name": "ipython",
    "version": 3
   },
   "file_extension": ".py",
   "mimetype": "text/x-python",
   "name": "python",
   "nbconvert_exporter": "python",
   "pygments_lexer": "ipython3",
   "version": "3.9.13"
  }
 },
 "nbformat": 4,
 "nbformat_minor": 5
}
