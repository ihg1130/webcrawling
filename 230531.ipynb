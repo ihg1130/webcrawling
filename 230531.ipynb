{
 "cells": [
  {
   "cell_type": "code",
   "execution_count": 3,
   "metadata": {},
   "outputs": [],
   "source": [
    "from selenium import webdriver as wb\n",
    "from selenium.webdriver.common.keys import Keys\n",
    "from selenium.webdriver.common.by import By\n",
    "import time\n",
    "import pandas as pd"
   ]
  },
  {
   "cell_type": "markdown",
   "metadata": {},
   "source": [
    "### 유튜브 댓글 수집"
   ]
  },
  {
   "cell_type": "code",
   "execution_count": 8,
   "metadata": {},
   "outputs": [],
   "source": [
    "# 1. 브라우저 실행\n",
    "driver = wb.Chrome()"
   ]
  },
  {
   "cell_type": "code",
   "execution_count": 9,
   "metadata": {},
   "outputs": [],
   "source": [
    "driver.get(\"https://www.youtube.com/watch?v=jejLBWMsyHk\")"
   ]
  },
  {
   "cell_type": "code",
   "execution_count": 12,
   "metadata": {},
   "outputs": [
    {
     "data": {
      "text/plain": [
       "20"
      ]
     },
     "execution_count": 12,
     "metadata": {},
     "output_type": "execute_result"
    }
   ],
   "source": [
    "# 2. 댓글 정보 수집하기\n",
    "review = driver.find_elements(By.XPATH, '//*[@id=\"content-text\"]')\n",
    "len(review)"
   ]
  },
  {
   "cell_type": "code",
   "execution_count": 8,
   "metadata": {},
   "outputs": [
    {
     "name": "stdout",
     "output_type": "stream",
     "text": [
      "this is so wholesome \n",
      "I felt the best for Bobby, because he had never been on a holiday. What a way to start.\n",
      "I love how calm Armand always is, max is like \"WOO COME ON\" love that and Armand is like \"I'm shaking omg\"\n",
      "Came back here again after watching the last episode of their trip. They've been my stress reliever for months now. Im going to miss these young amazing lads \n",
      "우와 학교가 안전하다는 걸 인식한다는 거에 진짜 놀랍다.\n",
      "한국 학생들은 학교가 사회적으로 자기들을 보호한다는걸 깨닫는 사람이 몇이나 될까?\n",
      "I've watched and re-watch this 5 times since the series started, and I am still tearing up and smiling at the same time. Their pure wholesome excitement is so soo precious\n",
      "I can’t thank you enough for this life changing opportunity you have given my son Bobby.  ️\n",
      "As a Korean-American myself… I was actually never proud of my Korean side because of all the mono-culture and politics… but this. This series has ignited a little bit of pride knowing that some open minded younger generation kids with great palettes are showing so much love for the food and that I should be grateful for my parents and how much they’ve given me easily the experiences these boys are just going through now. \n",
      "What an amazing opportunity and gift to give these wonderful young men! It will certainly help shape their lives, and give them so many experiences and memories.  These boys are just fabulous, so kind and polite.  Can't wait to see the videos!!!\n",
      "I am a professor in Latin america...and I can't be happier and proud of you (Korean Englishman and JOLLY) as they will give these guys an experience they will never forget in their lives, because it's not always easy to know other cultures, and you give them a great opportunity, as a teacher, i thank you.<3\n",
      "Sorry for the English is not the best.\n",
      "아이들이 순수하게 기뻐하고 설레는 모습이 너무 사랑스러워요. 그리고 익숙치 않은 나라의 문화에 대해 알려주고, 직접 경험해볼 기회를 제공한 영국남자팀의 마음씨에도 감동했어요. 그것에 감사하는 아이들 모습에 또 더 감동.. 꼭 한국이라서가 아니라 아이들에게 새로운 경험을 할 수 있는 기회를 준다는 건 얼마나 멋지고 값진 일인지!\n",
      "Bobby's reaction to the reveal that they're Korean bound was priceless & timely reminder for me to never take opportunities to travel overseas for granted - to savour every moment!\n",
      "Lol this needs its own netflix show. These guys make learning about other cultures so much fun.\n",
      "Thanks for making such wholesome videos! \n",
      "준비하시면서… 우리 한국에 가요.. 알려주기바로 전까지 얼마나 설레셨을까요 조쉬의 기쁨과 학생들 설렘이 정말 눈물나게 좋네요 학생들 우정과 그 나이에 하기 어려운 경험 정말정말 부럽습니다. 이런 경험을 선물해줄수 있는 조쉬는 얼마나 행복하겠어요\n",
      "What an amazing thing you’ve done here Josh and Olly. I believe this will be something these guys will remember all of their life. It’s been so much fun seeing them experience Korean food with you guys, I’m pretty excited to see them experience Korea. \n",
      "\n",
      "side note: Am I the only one who thinks Armand could be Josh’s little brother?? Lol\n",
      "these kids are hilarious. And its not even them trying to be funny, its just their wholesomeness of being a kid. Ah hope these lads enjoyed themselves! Such a great graduation trip! So funny when Bobby started connecting the dots that his mum knew, “big things ahead”\n",
      "Their reactions are adorable, pure happiness and excitement. But my fav is Max who is over the top with joy he even lifts Armand :3\n",
      "“I’m bringing two suitcases , one going be empty just for ssamjang” LMAO I love these kids they’re so hilarious \n",
      "It’s crazy if we think that this was published half a year ago already. It feels almost surreal  but I’m happy that there are more things to look forward to that are just as wholesome as this series\n"
     ]
    }
   ],
   "source": [
    "for i in review :\n",
    "    print(i.text)"
   ]
  },
  {
   "cell_type": "code",
   "execution_count": 9,
   "metadata": {},
   "outputs": [
    {
     "ename": "KeyboardInterrupt",
     "evalue": "",
     "output_type": "error",
     "traceback": [
      "\u001b[0;31m---------------------------------------------------------------------------\u001b[0m",
      "\u001b[0;31mKeyboardInterrupt\u001b[0m                         Traceback (most recent call last)",
      "\u001b[0;32m/var/folders/f_/7gnd_rgs47j399dl8xm_d91w0000gn/T/ipykernel_6119/1546942841.py\u001b[0m in \u001b[0;36m<module>\u001b[0;34m\u001b[0m\n\u001b[1;32m      3\u001b[0m     \u001b[0mbody\u001b[0m \u001b[0;34m=\u001b[0m \u001b[0mdriver\u001b[0m\u001b[0;34m.\u001b[0m\u001b[0mfind_element\u001b[0m\u001b[0;34m(\u001b[0m\u001b[0mBy\u001b[0m\u001b[0;34m.\u001b[0m\u001b[0mTAG_NAME\u001b[0m\u001b[0;34m,\u001b[0m \u001b[0;34m'body'\u001b[0m\u001b[0;34m)\u001b[0m\u001b[0;34m\u001b[0m\u001b[0;34m\u001b[0m\u001b[0m\n\u001b[1;32m      4\u001b[0m     \u001b[0mbody\u001b[0m\u001b[0;34m.\u001b[0m\u001b[0msend_keys\u001b[0m\u001b[0;34m(\u001b[0m\u001b[0mKeys\u001b[0m\u001b[0;34m.\u001b[0m\u001b[0mEND\u001b[0m\u001b[0;34m)\u001b[0m\u001b[0;34m\u001b[0m\u001b[0;34m\u001b[0m\u001b[0m\n\u001b[0;32m----> 5\u001b[0;31m     \u001b[0mtime\u001b[0m\u001b[0;34m.\u001b[0m\u001b[0msleep\u001b[0m\u001b[0;34m(\u001b[0m\u001b[0;36m0.5\u001b[0m\u001b[0;34m)\u001b[0m\u001b[0;34m\u001b[0m\u001b[0;34m\u001b[0m\u001b[0m\n\u001b[0m",
      "\u001b[0;31mKeyboardInterrupt\u001b[0m: "
     ]
    }
   ],
   "source": [
    "# 3. 댓글정보 갱신을 위해 키보드 end키 사용하기\n",
    "while True :\n",
    "    body = driver.find_element(By.TAG_NAME, 'body')\n",
    "    body.send_keys(Keys.END)\n",
    "    time.sleep(0.5) "
   ]
  },
  {
   "cell_type": "markdown",
   "metadata": {},
   "source": [
    "### 카카오맵 데이터 수집"
   ]
  },
  {
   "cell_type": "code",
   "execution_count": 11,
   "metadata": {},
   "outputs": [],
   "source": [
    "driver = wb.Chrome()\n",
    "driver.get(\"https://map.kakao.com/\")"
   ]
  },
  {
   "cell_type": "code",
   "execution_count": 14,
   "metadata": {},
   "outputs": [
    {
     "ename": "ElementNotInteractableException",
     "evalue": "Message: element not interactable\n  (Session info: chrome=113.0.5672.126)\nStacktrace:\n0   chromedriver                        0x00000001024d9598 chromedriver + 4973976\n1   chromedriver                        0x00000001024d0913 chromedriver + 4938003\n2   chromedriver                        0x000000010208db50 chromedriver + 469840\n3   chromedriver                        0x00000001020d2ea6 chromedriver + 753318\n4   chromedriver                        0x00000001020c5671 chromedriver + 697969\n5   chromedriver                        0x00000001020f59c2 chromedriver + 895426\n6   chromedriver                        0x00000001020c4e51 chromedriver + 695889\n7   chromedriver                        0x00000001020f5b7e chromedriver + 895870\n8   chromedriver                        0x0000000102110856 chromedriver + 1005654\n9   chromedriver                        0x00000001020f5793 chromedriver + 894867\n10  chromedriver                        0x00000001020c321f chromedriver + 688671\n11  chromedriver                        0x00000001020c456e chromedriver + 693614\n12  chromedriver                        0x0000000102493bb7 chromedriver + 4688823\n13  chromedriver                        0x0000000102498a51 chromedriver + 4708945\n14  chromedriver                        0x000000010249f40f chromedriver + 4736015\n15  chromedriver                        0x000000010249991a chromedriver + 4712730\n16  chromedriver                        0x000000010246c87c chromedriver + 4528252\n17  chromedriver                        0x00000001024b8f28 chromedriver + 4841256\n18  chromedriver                        0x00000001024b90a7 chromedriver + 4841639\n19  chromedriver                        0x00000001024ca28f chromedriver + 4911759\n20  libsystem_pthread.dylib             0x00007ff80faab259 _pthread_start + 125\n21  libsystem_pthread.dylib             0x00007ff80faa6c7b thread_start + 15\n",
     "output_type": "error",
     "traceback": [
      "\u001b[0;31m---------------------------------------------------------------------------\u001b[0m",
      "\u001b[0;31mElementNotInteractableException\u001b[0m           Traceback (most recent call last)",
      "\u001b[0;32m/var/folders/f_/7gnd_rgs47j399dl8xm_d91w0000gn/T/ipykernel_6119/3341956823.py\u001b[0m in \u001b[0;36m<module>\u001b[0;34m\u001b[0m\n\u001b[1;32m      1\u001b[0m \u001b[0mlayer\u001b[0m \u001b[0;34m=\u001b[0m \u001b[0mdriver\u001b[0m\u001b[0;34m.\u001b[0m\u001b[0mfind_element\u001b[0m\u001b[0;34m(\u001b[0m\u001b[0mBy\u001b[0m\u001b[0;34m.\u001b[0m\u001b[0mID\u001b[0m\u001b[0;34m,\u001b[0m \u001b[0;34m'dimmedLayer'\u001b[0m\u001b[0;34m)\u001b[0m\u001b[0;34m\u001b[0m\u001b[0;34m\u001b[0m\u001b[0m\n\u001b[0;32m----> 2\u001b[0;31m \u001b[0mlayer\u001b[0m\u001b[0;34m.\u001b[0m\u001b[0mclick\u001b[0m\u001b[0;34m(\u001b[0m\u001b[0;34m)\u001b[0m\u001b[0;34m\u001b[0m\u001b[0;34m\u001b[0m\u001b[0m\n\u001b[0m",
      "\u001b[0;32m/opt/anaconda3/lib/python3.9/site-packages/selenium/webdriver/remote/webelement.py\u001b[0m in \u001b[0;36mclick\u001b[0;34m(self)\u001b[0m\n\u001b[1;32m     92\u001b[0m     \u001b[0;32mdef\u001b[0m \u001b[0mclick\u001b[0m\u001b[0;34m(\u001b[0m\u001b[0mself\u001b[0m\u001b[0;34m)\u001b[0m \u001b[0;34m->\u001b[0m \u001b[0;32mNone\u001b[0m\u001b[0;34m:\u001b[0m\u001b[0;34m\u001b[0m\u001b[0;34m\u001b[0m\u001b[0m\n\u001b[1;32m     93\u001b[0m         \u001b[0;34m\"\"\"Clicks the element.\"\"\"\u001b[0m\u001b[0;34m\u001b[0m\u001b[0;34m\u001b[0m\u001b[0m\n\u001b[0;32m---> 94\u001b[0;31m         \u001b[0mself\u001b[0m\u001b[0;34m.\u001b[0m\u001b[0m_execute\u001b[0m\u001b[0;34m(\u001b[0m\u001b[0mCommand\u001b[0m\u001b[0;34m.\u001b[0m\u001b[0mCLICK_ELEMENT\u001b[0m\u001b[0;34m)\u001b[0m\u001b[0;34m\u001b[0m\u001b[0;34m\u001b[0m\u001b[0m\n\u001b[0m\u001b[1;32m     95\u001b[0m \u001b[0;34m\u001b[0m\u001b[0m\n\u001b[1;32m     96\u001b[0m     \u001b[0;32mdef\u001b[0m \u001b[0msubmit\u001b[0m\u001b[0;34m(\u001b[0m\u001b[0mself\u001b[0m\u001b[0;34m)\u001b[0m\u001b[0;34m:\u001b[0m\u001b[0;34m\u001b[0m\u001b[0;34m\u001b[0m\u001b[0m\n",
      "\u001b[0;32m/opt/anaconda3/lib/python3.9/site-packages/selenium/webdriver/remote/webelement.py\u001b[0m in \u001b[0;36m_execute\u001b[0;34m(self, command, params)\u001b[0m\n\u001b[1;32m    401\u001b[0m             \u001b[0mparams\u001b[0m \u001b[0;34m=\u001b[0m \u001b[0;34m{\u001b[0m\u001b[0;34m}\u001b[0m\u001b[0;34m\u001b[0m\u001b[0;34m\u001b[0m\u001b[0m\n\u001b[1;32m    402\u001b[0m         \u001b[0mparams\u001b[0m\u001b[0;34m[\u001b[0m\u001b[0;34m\"id\"\u001b[0m\u001b[0;34m]\u001b[0m \u001b[0;34m=\u001b[0m \u001b[0mself\u001b[0m\u001b[0;34m.\u001b[0m\u001b[0m_id\u001b[0m\u001b[0;34m\u001b[0m\u001b[0;34m\u001b[0m\u001b[0m\n\u001b[0;32m--> 403\u001b[0;31m         \u001b[0;32mreturn\u001b[0m \u001b[0mself\u001b[0m\u001b[0;34m.\u001b[0m\u001b[0m_parent\u001b[0m\u001b[0;34m.\u001b[0m\u001b[0mexecute\u001b[0m\u001b[0;34m(\u001b[0m\u001b[0mcommand\u001b[0m\u001b[0;34m,\u001b[0m \u001b[0mparams\u001b[0m\u001b[0;34m)\u001b[0m\u001b[0;34m\u001b[0m\u001b[0;34m\u001b[0m\u001b[0m\n\u001b[0m\u001b[1;32m    404\u001b[0m \u001b[0;34m\u001b[0m\u001b[0m\n\u001b[1;32m    405\u001b[0m     \u001b[0;32mdef\u001b[0m \u001b[0mfind_element\u001b[0m\u001b[0;34m(\u001b[0m\u001b[0mself\u001b[0m\u001b[0;34m,\u001b[0m \u001b[0mby\u001b[0m\u001b[0;34m=\u001b[0m\u001b[0mBy\u001b[0m\u001b[0;34m.\u001b[0m\u001b[0mID\u001b[0m\u001b[0;34m,\u001b[0m \u001b[0mvalue\u001b[0m\u001b[0;34m=\u001b[0m\u001b[0;32mNone\u001b[0m\u001b[0;34m)\u001b[0m \u001b[0;34m->\u001b[0m \u001b[0mWebElement\u001b[0m\u001b[0;34m:\u001b[0m\u001b[0;34m\u001b[0m\u001b[0;34m\u001b[0m\u001b[0m\n",
      "\u001b[0;32m/opt/anaconda3/lib/python3.9/site-packages/selenium/webdriver/remote/webdriver.py\u001b[0m in \u001b[0;36mexecute\u001b[0;34m(self, driver_command, params)\u001b[0m\n\u001b[1;32m    438\u001b[0m         \u001b[0mresponse\u001b[0m \u001b[0;34m=\u001b[0m \u001b[0mself\u001b[0m\u001b[0;34m.\u001b[0m\u001b[0mcommand_executor\u001b[0m\u001b[0;34m.\u001b[0m\u001b[0mexecute\u001b[0m\u001b[0;34m(\u001b[0m\u001b[0mdriver_command\u001b[0m\u001b[0;34m,\u001b[0m \u001b[0mparams\u001b[0m\u001b[0;34m)\u001b[0m\u001b[0;34m\u001b[0m\u001b[0;34m\u001b[0m\u001b[0m\n\u001b[1;32m    439\u001b[0m         \u001b[0;32mif\u001b[0m \u001b[0mresponse\u001b[0m\u001b[0;34m:\u001b[0m\u001b[0;34m\u001b[0m\u001b[0;34m\u001b[0m\u001b[0m\n\u001b[0;32m--> 440\u001b[0;31m             \u001b[0mself\u001b[0m\u001b[0;34m.\u001b[0m\u001b[0merror_handler\u001b[0m\u001b[0;34m.\u001b[0m\u001b[0mcheck_response\u001b[0m\u001b[0;34m(\u001b[0m\u001b[0mresponse\u001b[0m\u001b[0;34m)\u001b[0m\u001b[0;34m\u001b[0m\u001b[0;34m\u001b[0m\u001b[0m\n\u001b[0m\u001b[1;32m    441\u001b[0m             \u001b[0mresponse\u001b[0m\u001b[0;34m[\u001b[0m\u001b[0;34m\"value\"\u001b[0m\u001b[0;34m]\u001b[0m \u001b[0;34m=\u001b[0m \u001b[0mself\u001b[0m\u001b[0;34m.\u001b[0m\u001b[0m_unwrap_value\u001b[0m\u001b[0;34m(\u001b[0m\u001b[0mresponse\u001b[0m\u001b[0;34m.\u001b[0m\u001b[0mget\u001b[0m\u001b[0;34m(\u001b[0m\u001b[0;34m\"value\"\u001b[0m\u001b[0;34m,\u001b[0m \u001b[0;32mNone\u001b[0m\u001b[0;34m)\u001b[0m\u001b[0;34m)\u001b[0m\u001b[0;34m\u001b[0m\u001b[0;34m\u001b[0m\u001b[0m\n\u001b[1;32m    442\u001b[0m             \u001b[0;32mreturn\u001b[0m \u001b[0mresponse\u001b[0m\u001b[0;34m\u001b[0m\u001b[0;34m\u001b[0m\u001b[0m\n",
      "\u001b[0;32m/opt/anaconda3/lib/python3.9/site-packages/selenium/webdriver/remote/errorhandler.py\u001b[0m in \u001b[0;36mcheck_response\u001b[0;34m(self, response)\u001b[0m\n\u001b[1;32m    243\u001b[0m                 \u001b[0malert_text\u001b[0m \u001b[0;34m=\u001b[0m \u001b[0mvalue\u001b[0m\u001b[0;34m[\u001b[0m\u001b[0;34m\"alert\"\u001b[0m\u001b[0;34m]\u001b[0m\u001b[0;34m.\u001b[0m\u001b[0mget\u001b[0m\u001b[0;34m(\u001b[0m\u001b[0;34m\"text\"\u001b[0m\u001b[0;34m)\u001b[0m\u001b[0;34m\u001b[0m\u001b[0;34m\u001b[0m\u001b[0m\n\u001b[1;32m    244\u001b[0m             \u001b[0;32mraise\u001b[0m \u001b[0mexception_class\u001b[0m\u001b[0;34m(\u001b[0m\u001b[0mmessage\u001b[0m\u001b[0;34m,\u001b[0m \u001b[0mscreen\u001b[0m\u001b[0;34m,\u001b[0m \u001b[0mstacktrace\u001b[0m\u001b[0;34m,\u001b[0m \u001b[0malert_text\u001b[0m\u001b[0;34m)\u001b[0m  \u001b[0;31m# type: ignore[call-arg]  # mypy is not smart enough here\u001b[0m\u001b[0;34m\u001b[0m\u001b[0;34m\u001b[0m\u001b[0m\n\u001b[0;32m--> 245\u001b[0;31m         \u001b[0;32mraise\u001b[0m \u001b[0mexception_class\u001b[0m\u001b[0;34m(\u001b[0m\u001b[0mmessage\u001b[0m\u001b[0;34m,\u001b[0m \u001b[0mscreen\u001b[0m\u001b[0;34m,\u001b[0m \u001b[0mstacktrace\u001b[0m\u001b[0;34m)\u001b[0m\u001b[0;34m\u001b[0m\u001b[0;34m\u001b[0m\u001b[0m\n\u001b[0m",
      "\u001b[0;31mElementNotInteractableException\u001b[0m: Message: element not interactable\n  (Session info: chrome=113.0.5672.126)\nStacktrace:\n0   chromedriver                        0x00000001024d9598 chromedriver + 4973976\n1   chromedriver                        0x00000001024d0913 chromedriver + 4938003\n2   chromedriver                        0x000000010208db50 chromedriver + 469840\n3   chromedriver                        0x00000001020d2ea6 chromedriver + 753318\n4   chromedriver                        0x00000001020c5671 chromedriver + 697969\n5   chromedriver                        0x00000001020f59c2 chromedriver + 895426\n6   chromedriver                        0x00000001020c4e51 chromedriver + 695889\n7   chromedriver                        0x00000001020f5b7e chromedriver + 895870\n8   chromedriver                        0x0000000102110856 chromedriver + 1005654\n9   chromedriver                        0x00000001020f5793 chromedriver + 894867\n10  chromedriver                        0x00000001020c321f chromedriver + 688671\n11  chromedriver                        0x00000001020c456e chromedriver + 693614\n12  chromedriver                        0x0000000102493bb7 chromedriver + 4688823\n13  chromedriver                        0x0000000102498a51 chromedriver + 4708945\n14  chromedriver                        0x000000010249f40f chromedriver + 4736015\n15  chromedriver                        0x000000010249991a chromedriver + 4712730\n16  chromedriver                        0x000000010246c87c chromedriver + 4528252\n17  chromedriver                        0x00000001024b8f28 chromedriver + 4841256\n18  chromedriver                        0x00000001024b90a7 chromedriver + 4841639\n19  chromedriver                        0x00000001024ca28f chromedriver + 4911759\n20  libsystem_pthread.dylib             0x00007ff80faab259 _pthread_start + 125\n21  libsystem_pthread.dylib             0x00007ff80faa6c7b thread_start + 15\n"
     ]
    }
   ],
   "source": [
    "layer = driver.find_element(By.ID, 'dimmedLayer')\n",
    "layer.click()"
   ]
  },
  {
   "cell_type": "code",
   "execution_count": 22,
   "metadata": {},
   "outputs": [],
   "source": [
    "# 광주맛집키워드 입력하고 엔터누르기\n",
    "# keyword = driver.find_element(By.CLASS_NAME, \"query\")\n",
    "search = driver.find_element(By.CSS_SELECTOR, '#search\\.keyword\\.query')\n",
    "search.send_keys(\"광주맛집\")\n",
    "search.send_keys(Keys.ENTER)"
   ]
  },
  {
   "cell_type": "code",
   "execution_count": 25,
   "metadata": {},
   "outputs": [
    {
     "name": "stdout",
     "output_type": "stream",
     "text": [
      "광주휴대폰맛집\n",
      "광주맛집금탑소머리국밥 오치점\n",
      "광주맛집효심싸닭갈비\n",
      "광주맛집\n",
      "자성화맛집코다리네 광주점\n",
      "맛집장어구이 광주점\n",
      "사계절맛집\n",
      "코다리맛집\n",
      "맛집튀김1번가\n",
      "광주한방꽃차소믈리에\n",
      "우리동네행복맛집\n",
      "애돈(광주본점)\n",
      "광주곱창마을\n",
      "이디야 광주동림하늘채점\n",
      "금돼지솥뚜껑고기맛집\n"
     ]
    }
   ],
   "source": [
    "# class명이 .link_name 검색하여 맛집 출력\n",
    "title = driver.find_elements(By.CLASS_NAME, \"link_name\")\n",
    "\n",
    "for i in title :\n",
    "    print(i.text)"
   ]
  },
  {
   "cell_type": "markdown",
   "metadata": {},
   "source": [
    "### 네이버지도 데이터 수집"
   ]
  },
  {
   "cell_type": "code",
   "execution_count": 30,
   "metadata": {},
   "outputs": [],
   "source": [
    "driver = wb.Chrome()\n",
    "driver.get(\"https://map.naver.com/v5/search/%EA%B4%91%EC%A3%BC%EB%A7%9B%EC%A7%91?c=14117032.5098384,4185726.6182519,11,0,0,0,dh\")"
   ]
  },
  {
   "cell_type": "code",
   "execution_count": 38,
   "metadata": {},
   "outputs": [],
   "source": [
    "driver.switch_to.frame('searchIframe')"
   ]
  },
  {
   "cell_type": "code",
   "execution_count": 39,
   "metadata": {},
   "outputs": [
    {
     "name": "stdout",
     "output_type": "stream",
     "text": [
      "참좋은참치 봉선점\n",
      "더파크림\n",
      "정동 돈까스 광주수완점\n",
      "광주상무본점 칸세이스시\n",
      "피터테이블 수완점\n",
      "대성콩물 중흥본점\n",
      "여간좋은날 수완점\n",
      "솔밭솥밥 동명점\n",
      "25시참숯구이\n",
      "빽다방 상무1호점\n"
     ]
    }
   ],
   "source": [
    "# .place_bluelink.TyaxT\n",
    "title = driver.find_elements(By.CLASS_NAME, 'place_bluelink.TYaxT')\n",
    "\n",
    "for i in title :\n",
    "    print(i.text)"
   ]
  },
  {
   "cell_type": "markdown",
   "metadata": {},
   "source": [
    "### 네이버 금융 크롤링 하기"
   ]
  },
  {
   "cell_type": "code",
   "execution_count": 40,
   "metadata": {},
   "outputs": [],
   "source": [
    "driver = wb.Chrome()\n",
    "driver.get('https://finance.naver.com/item/coinfo.naver?code=035420&target=finsum_more')\n"
   ]
  },
  {
   "cell_type": "code",
   "execution_count": 41,
   "metadata": {},
   "outputs": [],
   "source": [
    "# iframe전환하기\n",
    "driver.switch_to.frame(\"coinfo_cp\")"
   ]
  },
  {
   "cell_type": "code",
   "execution_count": 44,
   "metadata": {},
   "outputs": [
    {
     "name": "stdout",
     "output_type": "stream",
     "text": [
      "['주요지표 2022/12(A) 2023/12(E)', 'PER 43.48 33.64', 'PBR 1.33 1.29', 'PCR 22.74 20.82', 'EV/EBITDA 17.86 15.06', 'EPS 4,634원 5,991원', 'BPS 151,646원 156,128원', 'EBITDA 18,655.7억원 21,857.0억원', '현금DPS 914원 954원', '현금배당수익률 0.45% 0.47%', '회계기준 연결 연결']\n"
     ]
    }
   ],
   "source": [
    "# //*[@id=\"wrapper\"]/div[7]/table\n",
    "found_table = driver.find_element(\"xpath\", '//*[@id=\"wrapper\"]/div[7]/table')\n",
    "# print(found_table.text)\n",
    "split_table = found_table.text.split(\"\\n\")\n",
    "print(split_table)"
   ]
  },
  {
   "cell_type": "markdown",
   "metadata": {},
   "source": [
    "### 네이버 블로그에서 스크롤바로 이동하기"
   ]
  },
  {
   "cell_type": "code",
   "execution_count": 45,
   "metadata": {},
   "outputs": [],
   "source": [
    "driver = wb.Chrome()\n",
    "driver.get('http://www.naver.com')\n",
    "time.sleep(2)"
   ]
  },
  {
   "cell_type": "code",
   "execution_count": 52,
   "metadata": {},
   "outputs": [],
   "source": [
    "# 1. id가 query인 곳에 키워드를 \"인공지능\" 입력하고 클릭\n",
    "search = driver.find_element(By.ID, 'query')\n",
    "search.send_keys(\"인공지능\")\n",
    "# search.send_keys(Keys.ENTER)\n",
    "search.submit() # click과 같음\n",
    "time.sleep(1)"
   ]
  },
  {
   "cell_type": "code",
   "execution_count": 54,
   "metadata": {},
   "outputs": [],
   "source": [
    "# 2. View 메뉴를 클릭\n",
    "# //*[@id=\"lnb\"]/div[1]/div/ul/li[6]\n",
    "# menu = driver.find_element(By.CSS_SELECTOR, \"#lnb > div.lnb_group > div > ul > li:nth-child(6)\")\n",
    "# menu.click()\n",
    "\n",
    "menu = driver.find_element(\"xpath\", '//*[@id=\"lnb\"]/div[1]/div/ul/li[6]')\n",
    "menu.click()"
   ]
  },
  {
   "cell_type": "code",
   "execution_count": 55,
   "metadata": {},
   "outputs": [],
   "source": [
    "# 3. View 메뉴 중에서 '블로그'로 교체\n",
    "# //*[@id=\"snb\"]/div[1]/div/div[1]/a[2]\n",
    "# blog = driver.find_element(By.CSS_SELECTOR, \"#snb > div.api_group_option_filter._search_option_simple_wrap > div > div.option_area.type_sort > a:nth-child(2)\")\n",
    "# blog.click()\n",
    "\n",
    "blog = driver.find_element(By.XPATH, '//*[@id=\"snb\"]/div[1]/div/div[1]/a[2]')\n",
    "blog.click()"
   ]
  },
  {
   "cell_type": "code",
   "execution_count": 56,
   "metadata": {},
   "outputs": [],
   "source": [
    "# 4. 옵션 클릭\n",
    "# //*[@id=\"snb\"]/div[1]/div/div[2]/a\n",
    "option = driver.find_element(By.XPATH, '//*[@id=\"snb\"]/div[1]/div/div[2]/a')\n",
    "option.click()"
   ]
  },
  {
   "cell_type": "code",
   "execution_count": 60,
   "metadata": {},
   "outputs": [],
   "source": [
    "# 5. 최신순 클릭\n",
    "# //*[@id=\"snb\"]/div[2]/ul/li[2]/div/div/a[2]\n",
    "\n",
    "new = driver.find_element(\"xpath\", '//*[@id=\"snb\"]/div[2]/ul/li[2]/div/div/a[2]')\n",
    "new.click()"
   ]
  },
  {
   "cell_type": "markdown",
   "metadata": {},
   "source": [
    "### 스크롤바 내리기\n",
    "- driver.execute_script 함수\n",
    "- driver.execute_script(\"window.scrollTo(X좌표, Y좌표)\")\n",
    "  \n",
    "* 사용법\n",
    "<pre>\n",
    "    - 1. x좌표는 0 y좌표는 500까지\n",
    "    driver.execute_script(\"window.scrollTo(0, 500)\")\n",
    "    - 2. x좌표는 0, y좌표는 웹페이지 맨아래로 스크롤\n",
    "    driver.execute_script(\"window.scrollTo(0, document.body.scrollHeight)\")\n",
    "<pre>"
   ]
  },
  {
   "cell_type": "code",
   "execution_count": 70,
   "metadata": {},
   "outputs": [],
   "source": [
    "driver.execute_script(\"window.scrollTo(0, document.body.scrollHeight)\")\n",
    "time.sleep(1)"
   ]
  },
  {
   "cell_type": "code",
   "execution_count": 71,
   "metadata": {},
   "outputs": [],
   "source": [
    "for i in range(5) :\n",
    "    driver.execute_script(\"window.scrollTo(0, document.body.scrollHeight)\")\n",
    "    time.sleep(1)"
   ]
  }
 ],
 "metadata": {
  "kernelspec": {
   "display_name": "Python 3 (ipykernel)",
   "language": "python",
   "name": "python3"
  },
  "language_info": {
   "codemirror_mode": {
    "name": "ipython",
    "version": 3
   },
   "file_extension": ".py",
   "mimetype": "text/x-python",
   "name": "python",
   "nbconvert_exporter": "python",
   "pygments_lexer": "ipython3",
   "version": "3.9.13"
  }
 },
 "nbformat": 4,
 "nbformat_minor": 2
}
