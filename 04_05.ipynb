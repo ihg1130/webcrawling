{
 "cells": [
  {
   "cell_type": "code",
   "execution_count": 1,
   "id": "d3656bff",
   "metadata": {},
   "outputs": [],
   "source": [
    "import requests as req\n",
    "from bs4 import BeautifulSoup as bs\n",
    "import pandas as pd"
   ]
  },
  {
   "cell_type": "code",
   "execution_count": 3,
   "id": "0cb8d82e",
   "metadata": {},
   "outputs": [],
   "source": [
    "res = req.get(\"https://finance.naver.com/sise/\")\n",
    "soup = bs(res.content, \"html.parser\")"
   ]
  },
  {
   "cell_type": "code",
   "execution_count": 26,
   "id": "47dc037e",
   "metadata": {},
   "outputs": [],
   "source": [
    "data = soup.select(\"ul.lst_major\")"
   ]
  },
  {
   "cell_type": "code",
   "execution_count": 27,
   "id": "0b65d8a1",
   "metadata": {},
   "outputs": [
    {
     "name": "stdout",
     "output_type": "stream",
     "text": [
      "['다우산업33,402.38하락', '나스닥12,126.33하락', '홍콩H6,875.47하락', '상해종합3,312.56상승', '니케이22528,111.04하락']\n"
     ]
    }
   ],
   "source": [
    "for i in data:\n",
    "    print(i.text.split())"
   ]
  },
  {
   "cell_type": "code",
   "execution_count": 35,
   "id": "c903ec91",
   "metadata": {},
   "outputs": [
    {
     "name": "stdout",
     "output_type": "stream",
     "text": [
      "지수이름 :  다우산업 현재지수 :  33,402.38 등락률 :  하락\n",
      "지수이름 :   나스닥 현재지수 :  12,126.33 등락률 :  하락\n",
      "지수이름 :   홍콩H 현재지수 :  6,875.47 등락률 :  하락\n",
      "지수이름 :   상해종합 현재지수 :  3,312.56 등락률 :  상승\n",
      "지수이름 :   니케이225 현재지수 :  28,111.04 등락률 :  하락\n"
     ]
    }
   ],
   "source": [
    "data = soup.select(\"ul.lst_major > li\")\n",
    "for i in data:\n",
    "    print(\"지수이름 : \", i.select_one('a').text, \"현재지수 : \", i.select_one('span').text, \"등락률 : \", i.select_one('em').text)\n",
    "    "
   ]
  },
  {
   "cell_type": "markdown",
   "id": "c5e1a613",
   "metadata": {},
   "source": [
    "### 위키문헌 윤동주 작품 가져오기"
   ]
  },
  {
   "cell_type": "code",
   "execution_count": 39,
   "id": "f864daab",
   "metadata": {},
   "outputs": [],
   "source": [
    "url=\"https://ko.wikisource.org/wiki/%EC%A0%80%EC%9E%90:%EC%9C%A4%EB%8F%99%EC%A3%BC\"\n",
    "res = req.get(url)\n",
    "soup = bs(res.content, \"html.parser\")"
   ]
  },
  {
   "cell_type": "code",
   "execution_count": 44,
   "id": "64930421",
   "metadata": {},
   "outputs": [],
   "source": [
    "list = soup.select(\"#mw-content-text > div.mw-parser-output > ul > li a\")"
   ]
  },
  {
   "cell_type": "code",
   "execution_count": 46,
   "id": "376384d8",
   "metadata": {},
   "outputs": [
    {
     "name": "stdout",
     "output_type": "stream",
     "text": [
      "- 하늘과 바람과 별과 시\n",
      "- 증보판\n",
      "- 서시\n",
      "- 자화상\n",
      "- 소년\n",
      "- 눈 오는 지도\n",
      "- 돌아와 보는 밤\n",
      "- 병원\n",
      "- 새로운 길\n",
      "- 간판 없는 거리\n",
      "- 태초의 아침\n",
      "- 또 태초의 아침\n",
      "- 새벽이 올 때까지\n",
      "- 무서운 시간\n",
      "- 십자가\n",
      "- 바람이 불어\n",
      "- 슬픈 족속\n",
      "- 눈감고 간다\n",
      "- 또 다른 고향\n",
      "- 길\n",
      "- 별 헤는 밤\n",
      "- 흰 그림자\n",
      "- 사랑스런 추억\n",
      "- 흐르는 거리\n",
      "- 쉽게 씌어진 시\n",
      "- 봄\n",
      "- 참회록\n",
      "- 간(肝)\n",
      "- 위로\n",
      "- 팔복\n",
      "- 못자는밤\n",
      "- 달같이\n",
      "- 고추밭\n",
      "- 아우의 인상화\n",
      "- 사랑의 전당\n",
      "- 이적\n",
      "- 비오는 밤\n",
      "- 산골물\n",
      "- 유언\n",
      "- 창\n",
      "- 바다\n",
      "- 비로봉\n",
      "- 산협의 오후\n",
      "- 명상\n",
      "- 소낙비\n",
      "- 한난계\n",
      "- 풍경\n",
      "- 달밤\n",
      "- 장\n",
      "- 밤\n",
      "- 황혼이 바다가 되어\n",
      "- 아침\n",
      "- 빨래\n",
      "- 꿈은 깨어지고\n",
      "- 산림\n",
      "- 이런날\n",
      "- 산상\n",
      "- 양지쪽\n",
      "- 닭\n",
      "- 가슴 1\n",
      "- 가슴 2\n",
      "- 비둘기\n",
      "- 황혼\n",
      "- 남쪽 하늘\n",
      "- 창공\n",
      "- 거리에서\n",
      "- 삶과 죽음\n",
      "- 초한대\n",
      "- 산울림\n",
      "- 해바라기 얼굴\n",
      "- 귀뚜라미와 나와\n",
      "- 애기의 새벽\n",
      "- 햇빛·바람\n",
      "- 반디불\n",
      "- 둘 다\n",
      "- 거짓부리\n",
      "- 눈\n",
      "- 참새\n",
      "- 버선본\n",
      "- 편지\n",
      "- 봄\n",
      "- 무얼 먹구 사나\n",
      "- 굴뚝\n",
      "- 햇비\n",
      "- 빗자루\n",
      "- 기왓장 내외\n",
      "- 오줌싸개 지도\n",
      "- 병아리\n",
      "- 조개껍질\n",
      "- 겨울\n",
      "- 트루게네프의 언덕\n",
      "- 달을 쏘다\n",
      "- 별똥 떨어진 데\n",
      "- 화원에 꽃이 핀다\n",
      "- 종시\n"
     ]
    }
   ],
   "source": [
    "for i in list:\n",
    "    print(\"-\",i.text)"
   ]
  },
  {
   "cell_type": "code",
   "execution_count": 49,
   "id": "faea4c9c",
   "metadata": {},
   "outputs": [],
   "source": [
    "work_list=[]\n",
    "for i in list:\n",
    "    work_list.append(i.text)"
   ]
  },
  {
   "cell_type": "code",
   "execution_count": 50,
   "id": "1ac03616",
   "metadata": {},
   "outputs": [
    {
     "data": {
      "text/plain": [
       "['하늘과 바람과 별과 시',\n",
       " '증보판',\n",
       " '서시',\n",
       " '자화상',\n",
       " '소년',\n",
       " '눈 오는 지도',\n",
       " '돌아와 보는 밤',\n",
       " '병원',\n",
       " '새로운 길',\n",
       " '간판 없는 거리',\n",
       " '태초의 아침',\n",
       " '또 태초의 아침',\n",
       " '새벽이 올 때까지',\n",
       " '무서운 시간',\n",
       " '십자가',\n",
       " '바람이 불어',\n",
       " '슬픈 족속',\n",
       " '눈감고 간다',\n",
       " '또 다른 고향',\n",
       " '길',\n",
       " '별 헤는 밤',\n",
       " '흰 그림자',\n",
       " '사랑스런 추억',\n",
       " '흐르는 거리',\n",
       " '쉽게 씌어진 시',\n",
       " '봄',\n",
       " '참회록',\n",
       " '간(肝)',\n",
       " '위로',\n",
       " '팔복',\n",
       " '못자는밤',\n",
       " '달같이',\n",
       " '고추밭',\n",
       " '아우의 인상화',\n",
       " '사랑의 전당',\n",
       " '이적',\n",
       " '비오는 밤',\n",
       " '산골물',\n",
       " '유언',\n",
       " '창',\n",
       " '바다',\n",
       " '비로봉',\n",
       " '산협의 오후',\n",
       " '명상',\n",
       " '소낙비',\n",
       " '한난계',\n",
       " '풍경',\n",
       " '달밤',\n",
       " '장',\n",
       " '밤',\n",
       " '황혼이 바다가 되어',\n",
       " '아침',\n",
       " '빨래',\n",
       " '꿈은 깨어지고',\n",
       " '산림',\n",
       " '이런날',\n",
       " '산상',\n",
       " '양지쪽',\n",
       " '닭',\n",
       " '가슴 1',\n",
       " '가슴 2',\n",
       " '비둘기',\n",
       " '황혼',\n",
       " '남쪽 하늘',\n",
       " '창공',\n",
       " '거리에서',\n",
       " '삶과 죽음',\n",
       " '초한대',\n",
       " '산울림',\n",
       " '해바라기 얼굴',\n",
       " '귀뚜라미와 나와',\n",
       " '애기의 새벽',\n",
       " '햇빛·바람',\n",
       " '반디불',\n",
       " '둘 다',\n",
       " '거짓부리',\n",
       " '눈',\n",
       " '참새',\n",
       " '버선본',\n",
       " '편지',\n",
       " '봄',\n",
       " '무얼 먹구 사나',\n",
       " '굴뚝',\n",
       " '햇비',\n",
       " '빗자루',\n",
       " '기왓장 내외',\n",
       " '오줌싸개 지도',\n",
       " '병아리',\n",
       " '조개껍질',\n",
       " '겨울',\n",
       " '트루게네프의 언덕',\n",
       " '달을 쏘다',\n",
       " '별똥 떨어진 데',\n",
       " '화원에 꽃이 핀다',\n",
       " '종시']"
      ]
     },
     "execution_count": 50,
     "metadata": {},
     "output_type": "execute_result"
    }
   ],
   "source": [
    "work_list"
   ]
  },
  {
   "cell_type": "code",
   "execution_count": 51,
   "id": "362f78d4",
   "metadata": {},
   "outputs": [
    {
     "data": {
      "text/plain": [
       "95"
      ]
     },
     "execution_count": 51,
     "metadata": {},
     "output_type": "execute_result"
    }
   ],
   "source": [
    "len(work_list)"
   ]
  },
  {
   "cell_type": "code",
   "execution_count": 54,
   "id": "fca127a6",
   "metadata": {},
   "outputs": [
    {
     "data": {
      "text/html": [
       "<div>\n",
       "<style scoped>\n",
       "    .dataframe tbody tr th:only-of-type {\n",
       "        vertical-align: middle;\n",
       "    }\n",
       "\n",
       "    .dataframe tbody tr th {\n",
       "        vertical-align: top;\n",
       "    }\n",
       "\n",
       "    .dataframe thead th {\n",
       "        text-align: right;\n",
       "    }\n",
       "</style>\n",
       "<table border=\"1\" class=\"dataframe\">\n",
       "  <thead>\n",
       "    <tr style=\"text-align: right;\">\n",
       "      <th></th>\n",
       "      <th>작품</th>\n",
       "    </tr>\n",
       "  </thead>\n",
       "  <tbody>\n",
       "    <tr>\n",
       "      <th>0</th>\n",
       "      <td>하늘과 바람과 별과 시</td>\n",
       "    </tr>\n",
       "    <tr>\n",
       "      <th>1</th>\n",
       "      <td>증보판</td>\n",
       "    </tr>\n",
       "    <tr>\n",
       "      <th>2</th>\n",
       "      <td>서시</td>\n",
       "    </tr>\n",
       "    <tr>\n",
       "      <th>3</th>\n",
       "      <td>자화상</td>\n",
       "    </tr>\n",
       "    <tr>\n",
       "      <th>4</th>\n",
       "      <td>소년</td>\n",
       "    </tr>\n",
       "    <tr>\n",
       "      <th>...</th>\n",
       "      <td>...</td>\n",
       "    </tr>\n",
       "    <tr>\n",
       "      <th>90</th>\n",
       "      <td>트루게네프의 언덕</td>\n",
       "    </tr>\n",
       "    <tr>\n",
       "      <th>91</th>\n",
       "      <td>달을 쏘다</td>\n",
       "    </tr>\n",
       "    <tr>\n",
       "      <th>92</th>\n",
       "      <td>별똥 떨어진 데</td>\n",
       "    </tr>\n",
       "    <tr>\n",
       "      <th>93</th>\n",
       "      <td>화원에 꽃이 핀다</td>\n",
       "    </tr>\n",
       "    <tr>\n",
       "      <th>94</th>\n",
       "      <td>종시</td>\n",
       "    </tr>\n",
       "  </tbody>\n",
       "</table>\n",
       "<p>95 rows × 1 columns</p>\n",
       "</div>"
      ],
      "text/plain": [
       "              작품\n",
       "0   하늘과 바람과 별과 시\n",
       "1            증보판\n",
       "2             서시\n",
       "3            자화상\n",
       "4             소년\n",
       "..           ...\n",
       "90     트루게네프의 언덕\n",
       "91         달을 쏘다\n",
       "92      별똥 떨어진 데\n",
       "93     화원에 꽃이 핀다\n",
       "94            종시\n",
       "\n",
       "[95 rows x 1 columns]"
      ]
     },
     "execution_count": 54,
     "metadata": {},
     "output_type": "execute_result"
    }
   ],
   "source": [
    "df = pd.DataFrame(work_list,columns=[\"작품\"])\n",
    "df"
   ]
  },
  {
   "cell_type": "code",
   "execution_count": 56,
   "id": "515eb990",
   "metadata": {},
   "outputs": [],
   "source": [
    "df.to_csv(\"work_list.csv\", encoding='utf-8', index=False)"
   ]
  },
  {
   "cell_type": "code",
   "execution_count": 57,
   "id": "06a01ede",
   "metadata": {},
   "outputs": [
    {
     "data": {
      "text/html": [
       "<div>\n",
       "<style scoped>\n",
       "    .dataframe tbody tr th:only-of-type {\n",
       "        vertical-align: middle;\n",
       "    }\n",
       "\n",
       "    .dataframe tbody tr th {\n",
       "        vertical-align: top;\n",
       "    }\n",
       "\n",
       "    .dataframe thead th {\n",
       "        text-align: right;\n",
       "    }\n",
       "</style>\n",
       "<table border=\"1\" class=\"dataframe\">\n",
       "  <thead>\n",
       "    <tr style=\"text-align: right;\">\n",
       "      <th></th>\n",
       "      <th>작품</th>\n",
       "    </tr>\n",
       "  </thead>\n",
       "  <tbody>\n",
       "    <tr>\n",
       "      <th>0</th>\n",
       "      <td>하늘과 바람과 별과 시</td>\n",
       "    </tr>\n",
       "    <tr>\n",
       "      <th>1</th>\n",
       "      <td>증보판</td>\n",
       "    </tr>\n",
       "    <tr>\n",
       "      <th>2</th>\n",
       "      <td>서시</td>\n",
       "    </tr>\n",
       "    <tr>\n",
       "      <th>3</th>\n",
       "      <td>자화상</td>\n",
       "    </tr>\n",
       "    <tr>\n",
       "      <th>4</th>\n",
       "      <td>소년</td>\n",
       "    </tr>\n",
       "    <tr>\n",
       "      <th>...</th>\n",
       "      <td>...</td>\n",
       "    </tr>\n",
       "    <tr>\n",
       "      <th>90</th>\n",
       "      <td>트루게네프의 언덕</td>\n",
       "    </tr>\n",
       "    <tr>\n",
       "      <th>91</th>\n",
       "      <td>달을 쏘다</td>\n",
       "    </tr>\n",
       "    <tr>\n",
       "      <th>92</th>\n",
       "      <td>별똥 떨어진 데</td>\n",
       "    </tr>\n",
       "    <tr>\n",
       "      <th>93</th>\n",
       "      <td>화원에 꽃이 핀다</td>\n",
       "    </tr>\n",
       "    <tr>\n",
       "      <th>94</th>\n",
       "      <td>종시</td>\n",
       "    </tr>\n",
       "  </tbody>\n",
       "</table>\n",
       "<p>95 rows × 1 columns</p>\n",
       "</div>"
      ],
      "text/plain": [
       "              작품\n",
       "0   하늘과 바람과 별과 시\n",
       "1            증보판\n",
       "2             서시\n",
       "3            자화상\n",
       "4             소년\n",
       "..           ...\n",
       "90     트루게네프의 언덕\n",
       "91         달을 쏘다\n",
       "92      별똥 떨어진 데\n",
       "93     화원에 꽃이 핀다\n",
       "94            종시\n",
       "\n",
       "[95 rows x 1 columns]"
      ]
     },
     "execution_count": 57,
     "metadata": {},
     "output_type": "execute_result"
    }
   ],
   "source": [
    "work = pd.read_csv(\"work_list.csv\")\n",
    "work"
   ]
  },
  {
   "cell_type": "markdown",
   "id": "fdbb836d",
   "metadata": {},
   "source": [
    "### iframe 내용 가져오기"
   ]
  },
  {
   "cell_type": "code",
   "execution_count": 63,
   "id": "6f2f4984",
   "metadata": {},
   "outputs": [],
   "source": [
    "url_main = \"https://finance.naver.com/\"\n",
    "url_sub = \"marketindex/\"\n",
    "page = url_main + url_sub\n",
    "res = req.get(page)\n",
    "soup = bs(res.content, \"html.parser\")"
   ]
  },
  {
   "cell_type": "code",
   "execution_count": 65,
   "id": "c0e14e34",
   "metadata": {},
   "outputs": [
    {
     "name": "stdout",
     "output_type": "stream",
     "text": [
      "/marketindex/exchangeList.naver\n"
     ]
    }
   ],
   "source": [
    "frameSrc = soup.find('iframe', id=\"frame_ex1\")\n",
    "print(frameSrc.attrs['src'])"
   ]
  },
  {
   "cell_type": "code",
   "execution_count": 70,
   "id": "ed384993",
   "metadata": {},
   "outputs": [],
   "source": [
    "url = url_main+frameSrc.attrs['src']\n",
    "res = req.get(url)\n",
    "soup = bs(res.content, \"html.parser\")"
   ]
  },
  {
   "cell_type": "markdown",
   "id": "35f53d4a",
   "metadata": {},
   "source": [
    "### 통화명"
   ]
  },
  {
   "cell_type": "code",
   "execution_count": 92,
   "id": "b39b8cf5",
   "metadata": {},
   "outputs": [
    {
     "name": "stdout",
     "output_type": "stream",
     "text": [
      "미국 USD\n",
      "유럽연합 EUR\n",
      "일본 JPY (100엔)\n",
      "중국 CNY\n",
      "홍콩 HKD\n",
      "대만 TWD\n",
      "영국 GBP\n",
      "오만 OMR\n",
      "캐나다 CAD\n",
      "스위스 CHF\n",
      "스웨덴 SEK\n",
      "호주 AUD\n",
      "뉴질랜드 NZD\n",
      "체코 CZK\n",
      "칠레 CLP\n",
      "튀르키예 TRY\n",
      "몽골 MNT\n",
      "이스라엘 ILS\n",
      "덴마크 DKK\n",
      "노르웨이 NOK\n",
      "사우디아라비아 SAR\n",
      "쿠웨이트 KWD\n",
      "바레인 BHD\n",
      "아랍에미리트 AED\n",
      "요르단 JOD\n",
      "이집트 EGP\n",
      "태국 THB\n",
      "싱가포르 SGD\n",
      "말레이시아 MYR\n",
      "인도네시아 IDR 100\n",
      "카타르 QAR\n",
      "카자흐스탄 KZT\n",
      "브루나이 BND\n",
      "인도 INR\n",
      "파키스탄 PKR\n",
      "방글라데시 BDT\n",
      "필리핀 PHP\n",
      "멕시코 MXN\n",
      "브라질 BRL\n",
      "베트남 VND 100\n",
      "남아프리카 공화국 ZAR\n",
      "러시아 RUB\n",
      "헝가리 HUF\n",
      "폴란드 PLN\n",
      "스리랑카 LKR\n",
      "알제리 DZD\n",
      "케냐 KES\n",
      "콜롬비아 COP\n",
      "탄자니아 TZS\n",
      "네팔 NPR\n",
      "루마니아 RON\n",
      "리비아 LYD\n",
      "마카오 MOP\n",
      "미얀마 MMK\n",
      "에티오피아 ETB\n",
      "우즈베키스탄 UZS\n",
      "캄보디아 KHR\n",
      "피지 FJD\n"
     ]
    }
   ],
   "source": [
    "moneys = soup.select('td.tit > a')\n",
    "for i in moneys:\n",
    "    print(i.text.strip())"
   ]
  },
  {
   "cell_type": "markdown",
   "id": "0faf234a",
   "metadata": {},
   "source": [
    "### 매매기준율"
   ]
  },
  {
   "cell_type": "code",
   "execution_count": 93,
   "id": "792c0214",
   "metadata": {},
   "outputs": [
    {
     "name": "stdout",
     "output_type": "stream",
     "text": [
      "1,311.70\n",
      "1,437.49\n",
      "996.77\n",
      "190.71\n",
      "167.10\n",
      "43.08\n",
      "1,638.44\n",
      "3,406.84\n",
      "976.15\n",
      "1,448.11\n",
      "127.68\n",
      "886.25\n",
      "827.35\n",
      "61.24\n",
      "1.62\n",
      "68.20\n",
      "0.37\n",
      "365.67\n",
      "192.91\n",
      "127.39\n",
      "349.72\n",
      "4,278.35\n",
      "3,479.03\n",
      "357.11\n",
      "1,849.16\n",
      "42.45\n",
      "38.61\n",
      "989.85\n",
      "298.42\n",
      "8.82\n",
      "358.64\n",
      "2.93\n",
      "989.85\n",
      "15.97\n",
      "4.55\n",
      "12.43\n",
      "24.11\n",
      "72.38\n",
      "258.60\n",
      "5.59\n",
      "73.21\n",
      "16.54\n",
      "3.81\n",
      "307.33\n",
      "4.07\n",
      "9.67\n",
      "9.87\n",
      "0.29\n",
      "0.56\n",
      "9.96\n",
      "291.52\n",
      "275.03\n",
      "162.14\n",
      "0.62\n",
      "24.10\n",
      "0.12\n",
      "0.32\n",
      "596.82\n"
     ]
    }
   ],
   "source": [
    "rate = soup.select('td.sale')\n",
    "for i in rate:\n",
    "    print(i.text.strip())"
   ]
  },
  {
   "cell_type": "code",
   "execution_count": 95,
   "id": "98bffaee",
   "metadata": {},
   "outputs": [],
   "source": [
    "#순번, 통화명, 매매기준율\n",
    "num=[]\n",
    "moneys=[]\n",
    "sales=[]\n",
    "for i in range(len(rate)):\n",
    "    money = soup.select('td.tit > a')[i].text.strip()\n",
    "    sale = soup.select('td.sale')[i].text\n",
    "    num.append(i+1)\n",
    "    moneys.append(money)\n",
    "    sales.append(sale)"
   ]
  },
  {
   "cell_type": "code",
   "execution_count": 98,
   "id": "b11a4746",
   "metadata": {},
   "outputs": [
    {
     "data": {
      "text/plain": [
       "(58, 58, 58)"
      ]
     },
     "execution_count": 98,
     "metadata": {},
     "output_type": "execute_result"
    }
   ],
   "source": [
    "len(num), len(moneys), len(sales)"
   ]
  },
  {
   "cell_type": "code",
   "execution_count": 103,
   "id": "6605f17c",
   "metadata": {},
   "outputs": [
    {
     "data": {
      "text/html": [
       "<div>\n",
       "<style scoped>\n",
       "    .dataframe tbody tr th:only-of-type {\n",
       "        vertical-align: middle;\n",
       "    }\n",
       "\n",
       "    .dataframe tbody tr th {\n",
       "        vertical-align: top;\n",
       "    }\n",
       "\n",
       "    .dataframe thead th {\n",
       "        text-align: right;\n",
       "    }\n",
       "</style>\n",
       "<table border=\"1\" class=\"dataframe\">\n",
       "  <thead>\n",
       "    <tr style=\"text-align: right;\">\n",
       "      <th></th>\n",
       "      <th>통화명</th>\n",
       "      <th>매매기준율</th>\n",
       "    </tr>\n",
       "    <tr>\n",
       "      <th>순번</th>\n",
       "      <th></th>\n",
       "      <th></th>\n",
       "    </tr>\n",
       "  </thead>\n",
       "  <tbody>\n",
       "    <tr>\n",
       "      <th>1</th>\n",
       "      <td>미국 USD</td>\n",
       "      <td>1,311.70</td>\n",
       "    </tr>\n",
       "    <tr>\n",
       "      <th>2</th>\n",
       "      <td>유럽연합 EUR</td>\n",
       "      <td>1,437.49</td>\n",
       "    </tr>\n",
       "    <tr>\n",
       "      <th>3</th>\n",
       "      <td>일본 JPY (100엔)</td>\n",
       "      <td>996.77</td>\n",
       "    </tr>\n",
       "    <tr>\n",
       "      <th>4</th>\n",
       "      <td>중국 CNY</td>\n",
       "      <td>190.71</td>\n",
       "    </tr>\n",
       "    <tr>\n",
       "      <th>5</th>\n",
       "      <td>홍콩 HKD</td>\n",
       "      <td>167.10</td>\n",
       "    </tr>\n",
       "  </tbody>\n",
       "</table>\n",
       "</div>"
      ],
      "text/plain": [
       "              통화명     매매기준율\n",
       "순번                         \n",
       "1          미국 USD  1,311.70\n",
       "2        유럽연합 EUR  1,437.49\n",
       "3   일본 JPY (100엔)    996.77\n",
       "4          중국 CNY    190.71\n",
       "5          홍콩 HKD    167.10"
      ]
     },
     "execution_count": 103,
     "metadata": {},
     "output_type": "execute_result"
    }
   ],
   "source": [
    "# dataframe 순번, 통화명, 매매기준율 , index는 순번\n",
    "df = pd.DataFrame({'순번':num, '통화명':moneys, '매매기준율':sales})\n",
    "df.set_index('순번', inplace=True)\n",
    "df.head()"
   ]
  },
  {
   "cell_type": "code",
   "execution_count": 105,
   "id": "6dd199a5",
   "metadata": {},
   "outputs": [],
   "source": [
    "df.to_csv(\"money.csv\", encoding=\"utf-8\")"
   ]
  },
  {
   "cell_type": "code",
   "execution_count": null,
   "id": "32409ea1",
   "metadata": {},
   "outputs": [],
   "source": []
  }
 ],
 "metadata": {
  "kernelspec": {
   "display_name": "Python 3 (ipykernel)",
   "language": "python",
   "name": "python3"
  },
  "language_info": {
   "codemirror_mode": {
    "name": "ipython",
    "version": 3
   },
   "file_extension": ".py",
   "mimetype": "text/x-python",
   "name": "python",
   "nbconvert_exporter": "python",
   "pygments_lexer": "ipython3",
   "version": "3.9.13"
  }
 },
 "nbformat": 4,
 "nbformat_minor": 5
}
