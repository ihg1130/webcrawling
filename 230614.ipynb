{
 "cells": [
  {
   "cell_type": "markdown",
   "id": "fd6b5e2f",
   "metadata": {},
   "source": [
    "# 한국관광공사"
   ]
  },
  {
   "cell_type": "code",
   "execution_count": 6,
   "id": "efd25e09",
   "metadata": {},
   "outputs": [],
   "source": [
    "from selenium import webdriver  as wb\n",
    "from selenium.webdriver.common.keys import Keys\n",
    "from selenium.webdriver.common.by import By\n",
    "import time\n",
    "import pandas as pd\n",
    "from bs4 import BeautifulSoup as bs"
   ]
  },
  {
   "cell_type": "markdown",
   "id": "ebea6754",
   "metadata": {},
   "source": [
    "- 크롬드라이버 실행 후 한국관광공사 진입하기"
   ]
  },
  {
   "cell_type": "code",
   "execution_count": 2,
   "id": "1368c732",
   "metadata": {},
   "outputs": [],
   "source": [
    "driver=wb.Chrome()"
   ]
  },
  {
   "cell_type": "code",
   "execution_count": 3,
   "id": "2d8fe9af",
   "metadata": {},
   "outputs": [],
   "source": [
    "driver.get(\"https://korean.visitkorea.or.kr\")\n",
    "time.sleep(2)"
   ]
  },
  {
   "cell_type": "markdown",
   "id": "1a2f3829",
   "metadata": {},
   "source": [
    "## 입력창에 검색어 전달하고 검색 실행하기 send_keys() 사용\n",
    "- send_keys()사용\n",
    "- xpath 사용\n",
    "    - find_element(By.XPATH,\"xpath\"값)"
   ]
  },
  {
   "cell_type": "code",
   "execution_count": 4,
   "id": "ba55e820",
   "metadata": {},
   "outputs": [
    {
     "ename": "ElementNotInteractableException",
     "evalue": "Message: element not interactable\n  (Session info: chrome=114.0.5735.133)\nStacktrace:\n0   chromedriver                        0x00000001047d96b8 chromedriver + 4937400\n1   chromedriver                        0x00000001047d0b73 chromedriver + 4901747\n2   chromedriver                        0x000000010438e490 chromedriver + 435344\n3   chromedriver                        0x00000001043cb7fc chromedriver + 686076\n4   chromedriver                        0x00000001043cacfd chromedriver + 683261\n5   chromedriver                        0x00000001043f6012 chromedriver + 860178\n6   chromedriver                        0x00000001043c59c1 chromedriver + 661953\n7   chromedriver                        0x00000001043f61ce chromedriver + 860622\n8   chromedriver                        0x0000000104410e76 chromedriver + 970358\n9   chromedriver                        0x00000001043f5de3 chromedriver + 859619\n10  chromedriver                        0x00000001043c3d7f chromedriver + 654719\n11  chromedriver                        0x00000001043c50de chromedriver + 659678\n12  chromedriver                        0x00000001047952ad chromedriver + 4657837\n13  chromedriver                        0x000000010479a130 chromedriver + 4677936\n14  chromedriver                        0x00000001047a0def chromedriver + 4705775\n15  chromedriver                        0x000000010479b05a chromedriver + 4681818\n16  chromedriver                        0x000000010476d92c chromedriver + 4495660\n17  chromedriver                        0x00000001047b8838 chromedriver + 4802616\n18  chromedriver                        0x00000001047b89b7 chromedriver + 4802999\n19  chromedriver                        0x00000001047c999f chromedriver + 4872607\n20  libsystem_pthread.dylib             0x00007ff80faab259 _pthread_start + 125\n21  libsystem_pthread.dylib             0x00007ff80faa6c7b thread_start + 15\n",
     "output_type": "error",
     "traceback": [
      "\u001b[0;31m---------------------------------------------------------------------------\u001b[0m",
      "\u001b[0;31mElementNotInteractableException\u001b[0m           Traceback (most recent call last)",
      "\u001b[0;32m/var/folders/f_/7gnd_rgs47j399dl8xm_d91w0000gn/T/ipykernel_28238/3572254121.py\u001b[0m in \u001b[0;36m<module>\u001b[0;34m\u001b[0m\n\u001b[1;32m      1\u001b[0m \u001b[0;31m# //*[@id=\"inp_search\"]\u001b[0m\u001b[0;34m\u001b[0m\u001b[0;34m\u001b[0m\u001b[0m\n\u001b[1;32m      2\u001b[0m \u001b[0msearch\u001b[0m\u001b[0;34m=\u001b[0m\u001b[0mdriver\u001b[0m\u001b[0;34m.\u001b[0m\u001b[0mfind_element\u001b[0m\u001b[0;34m(\u001b[0m\u001b[0mBy\u001b[0m\u001b[0;34m.\u001b[0m\u001b[0mXPATH\u001b[0m\u001b[0;34m,\u001b[0m\u001b[0;34m'//*[@id=\"inp_search\"]'\u001b[0m\u001b[0;34m)\u001b[0m\u001b[0;34m\u001b[0m\u001b[0;34m\u001b[0m\u001b[0m\n\u001b[0;32m----> 3\u001b[0;31m \u001b[0msearch\u001b[0m\u001b[0;34m.\u001b[0m\u001b[0msend_keys\u001b[0m\u001b[0;34m(\u001b[0m\u001b[0;34m\"제주도\"\u001b[0m\u001b[0;34m)\u001b[0m\u001b[0;34m\u001b[0m\u001b[0;34m\u001b[0m\u001b[0m\n\u001b[0m\u001b[1;32m      4\u001b[0m \u001b[0;31m# search.send_keys(Keys.ENTER)\u001b[0m\u001b[0;34m\u001b[0m\u001b[0;34m\u001b[0m\u001b[0m\n",
      "\u001b[0;32m/opt/anaconda3/lib/python3.9/site-packages/selenium/webdriver/remote/webelement.py\u001b[0m in \u001b[0;36msend_keys\u001b[0;34m(self, *value)\u001b[0m\n\u001b[1;32m    229\u001b[0m                 \u001b[0mvalue\u001b[0m \u001b[0;34m=\u001b[0m \u001b[0;34m\"\\n\"\u001b[0m\u001b[0;34m.\u001b[0m\u001b[0mjoin\u001b[0m\u001b[0;34m(\u001b[0m\u001b[0mremote_files\u001b[0m\u001b[0;34m)\u001b[0m\u001b[0;34m\u001b[0m\u001b[0;34m\u001b[0m\u001b[0m\n\u001b[1;32m    230\u001b[0m \u001b[0;34m\u001b[0m\u001b[0m\n\u001b[0;32m--> 231\u001b[0;31m         self._execute(\n\u001b[0m\u001b[1;32m    232\u001b[0m             \u001b[0mCommand\u001b[0m\u001b[0;34m.\u001b[0m\u001b[0mSEND_KEYS_TO_ELEMENT\u001b[0m\u001b[0;34m,\u001b[0m \u001b[0;34m{\u001b[0m\u001b[0;34m\"text\"\u001b[0m\u001b[0;34m:\u001b[0m \u001b[0;34m\"\"\u001b[0m\u001b[0;34m.\u001b[0m\u001b[0mjoin\u001b[0m\u001b[0;34m(\u001b[0m\u001b[0mkeys_to_typing\u001b[0m\u001b[0;34m(\u001b[0m\u001b[0mvalue\u001b[0m\u001b[0;34m)\u001b[0m\u001b[0;34m)\u001b[0m\u001b[0;34m,\u001b[0m \u001b[0;34m\"value\"\u001b[0m\u001b[0;34m:\u001b[0m \u001b[0mkeys_to_typing\u001b[0m\u001b[0;34m(\u001b[0m\u001b[0mvalue\u001b[0m\u001b[0;34m)\u001b[0m\u001b[0;34m}\u001b[0m\u001b[0;34m\u001b[0m\u001b[0;34m\u001b[0m\u001b[0m\n\u001b[1;32m    233\u001b[0m         )\n",
      "\u001b[0;32m/opt/anaconda3/lib/python3.9/site-packages/selenium/webdriver/remote/webelement.py\u001b[0m in \u001b[0;36m_execute\u001b[0;34m(self, command, params)\u001b[0m\n\u001b[1;32m    401\u001b[0m             \u001b[0mparams\u001b[0m \u001b[0;34m=\u001b[0m \u001b[0;34m{\u001b[0m\u001b[0;34m}\u001b[0m\u001b[0;34m\u001b[0m\u001b[0;34m\u001b[0m\u001b[0m\n\u001b[1;32m    402\u001b[0m         \u001b[0mparams\u001b[0m\u001b[0;34m[\u001b[0m\u001b[0;34m\"id\"\u001b[0m\u001b[0;34m]\u001b[0m \u001b[0;34m=\u001b[0m \u001b[0mself\u001b[0m\u001b[0;34m.\u001b[0m\u001b[0m_id\u001b[0m\u001b[0;34m\u001b[0m\u001b[0;34m\u001b[0m\u001b[0m\n\u001b[0;32m--> 403\u001b[0;31m         \u001b[0;32mreturn\u001b[0m \u001b[0mself\u001b[0m\u001b[0;34m.\u001b[0m\u001b[0m_parent\u001b[0m\u001b[0;34m.\u001b[0m\u001b[0mexecute\u001b[0m\u001b[0;34m(\u001b[0m\u001b[0mcommand\u001b[0m\u001b[0;34m,\u001b[0m \u001b[0mparams\u001b[0m\u001b[0;34m)\u001b[0m\u001b[0;34m\u001b[0m\u001b[0;34m\u001b[0m\u001b[0m\n\u001b[0m\u001b[1;32m    404\u001b[0m \u001b[0;34m\u001b[0m\u001b[0m\n\u001b[1;32m    405\u001b[0m     \u001b[0;32mdef\u001b[0m \u001b[0mfind_element\u001b[0m\u001b[0;34m(\u001b[0m\u001b[0mself\u001b[0m\u001b[0;34m,\u001b[0m \u001b[0mby\u001b[0m\u001b[0;34m=\u001b[0m\u001b[0mBy\u001b[0m\u001b[0;34m.\u001b[0m\u001b[0mID\u001b[0m\u001b[0;34m,\u001b[0m \u001b[0mvalue\u001b[0m\u001b[0;34m=\u001b[0m\u001b[0;32mNone\u001b[0m\u001b[0;34m)\u001b[0m \u001b[0;34m->\u001b[0m \u001b[0mWebElement\u001b[0m\u001b[0;34m:\u001b[0m\u001b[0;34m\u001b[0m\u001b[0;34m\u001b[0m\u001b[0m\n",
      "\u001b[0;32m/opt/anaconda3/lib/python3.9/site-packages/selenium/webdriver/remote/webdriver.py\u001b[0m in \u001b[0;36mexecute\u001b[0;34m(self, driver_command, params)\u001b[0m\n\u001b[1;32m    438\u001b[0m         \u001b[0mresponse\u001b[0m \u001b[0;34m=\u001b[0m \u001b[0mself\u001b[0m\u001b[0;34m.\u001b[0m\u001b[0mcommand_executor\u001b[0m\u001b[0;34m.\u001b[0m\u001b[0mexecute\u001b[0m\u001b[0;34m(\u001b[0m\u001b[0mdriver_command\u001b[0m\u001b[0;34m,\u001b[0m \u001b[0mparams\u001b[0m\u001b[0;34m)\u001b[0m\u001b[0;34m\u001b[0m\u001b[0;34m\u001b[0m\u001b[0m\n\u001b[1;32m    439\u001b[0m         \u001b[0;32mif\u001b[0m \u001b[0mresponse\u001b[0m\u001b[0;34m:\u001b[0m\u001b[0;34m\u001b[0m\u001b[0;34m\u001b[0m\u001b[0m\n\u001b[0;32m--> 440\u001b[0;31m             \u001b[0mself\u001b[0m\u001b[0;34m.\u001b[0m\u001b[0merror_handler\u001b[0m\u001b[0;34m.\u001b[0m\u001b[0mcheck_response\u001b[0m\u001b[0;34m(\u001b[0m\u001b[0mresponse\u001b[0m\u001b[0;34m)\u001b[0m\u001b[0;34m\u001b[0m\u001b[0;34m\u001b[0m\u001b[0m\n\u001b[0m\u001b[1;32m    441\u001b[0m             \u001b[0mresponse\u001b[0m\u001b[0;34m[\u001b[0m\u001b[0;34m\"value\"\u001b[0m\u001b[0;34m]\u001b[0m \u001b[0;34m=\u001b[0m \u001b[0mself\u001b[0m\u001b[0;34m.\u001b[0m\u001b[0m_unwrap_value\u001b[0m\u001b[0;34m(\u001b[0m\u001b[0mresponse\u001b[0m\u001b[0;34m.\u001b[0m\u001b[0mget\u001b[0m\u001b[0;34m(\u001b[0m\u001b[0;34m\"value\"\u001b[0m\u001b[0;34m,\u001b[0m \u001b[0;32mNone\u001b[0m\u001b[0;34m)\u001b[0m\u001b[0;34m)\u001b[0m\u001b[0;34m\u001b[0m\u001b[0;34m\u001b[0m\u001b[0m\n\u001b[1;32m    442\u001b[0m             \u001b[0;32mreturn\u001b[0m \u001b[0mresponse\u001b[0m\u001b[0;34m\u001b[0m\u001b[0;34m\u001b[0m\u001b[0m\n",
      "\u001b[0;32m/opt/anaconda3/lib/python3.9/site-packages/selenium/webdriver/remote/errorhandler.py\u001b[0m in \u001b[0;36mcheck_response\u001b[0;34m(self, response)\u001b[0m\n\u001b[1;32m    243\u001b[0m                 \u001b[0malert_text\u001b[0m \u001b[0;34m=\u001b[0m \u001b[0mvalue\u001b[0m\u001b[0;34m[\u001b[0m\u001b[0;34m\"alert\"\u001b[0m\u001b[0;34m]\u001b[0m\u001b[0;34m.\u001b[0m\u001b[0mget\u001b[0m\u001b[0;34m(\u001b[0m\u001b[0;34m\"text\"\u001b[0m\u001b[0;34m)\u001b[0m\u001b[0;34m\u001b[0m\u001b[0;34m\u001b[0m\u001b[0m\n\u001b[1;32m    244\u001b[0m             \u001b[0;32mraise\u001b[0m \u001b[0mexception_class\u001b[0m\u001b[0;34m(\u001b[0m\u001b[0mmessage\u001b[0m\u001b[0;34m,\u001b[0m \u001b[0mscreen\u001b[0m\u001b[0;34m,\u001b[0m \u001b[0mstacktrace\u001b[0m\u001b[0;34m,\u001b[0m \u001b[0malert_text\u001b[0m\u001b[0;34m)\u001b[0m  \u001b[0;31m# type: ignore[call-arg]  # mypy is not smart enough here\u001b[0m\u001b[0;34m\u001b[0m\u001b[0;34m\u001b[0m\u001b[0m\n\u001b[0;32m--> 245\u001b[0;31m         \u001b[0;32mraise\u001b[0m \u001b[0mexception_class\u001b[0m\u001b[0;34m(\u001b[0m\u001b[0mmessage\u001b[0m\u001b[0;34m,\u001b[0m \u001b[0mscreen\u001b[0m\u001b[0;34m,\u001b[0m \u001b[0mstacktrace\u001b[0m\u001b[0;34m)\u001b[0m\u001b[0;34m\u001b[0m\u001b[0;34m\u001b[0m\u001b[0m\n\u001b[0m",
      "\u001b[0;31mElementNotInteractableException\u001b[0m: Message: element not interactable\n  (Session info: chrome=114.0.5735.133)\nStacktrace:\n0   chromedriver                        0x00000001047d96b8 chromedriver + 4937400\n1   chromedriver                        0x00000001047d0b73 chromedriver + 4901747\n2   chromedriver                        0x000000010438e490 chromedriver + 435344\n3   chromedriver                        0x00000001043cb7fc chromedriver + 686076\n4   chromedriver                        0x00000001043cacfd chromedriver + 683261\n5   chromedriver                        0x00000001043f6012 chromedriver + 860178\n6   chromedriver                        0x00000001043c59c1 chromedriver + 661953\n7   chromedriver                        0x00000001043f61ce chromedriver + 860622\n8   chromedriver                        0x0000000104410e76 chromedriver + 970358\n9   chromedriver                        0x00000001043f5de3 chromedriver + 859619\n10  chromedriver                        0x00000001043c3d7f chromedriver + 654719\n11  chromedriver                        0x00000001043c50de chromedriver + 659678\n12  chromedriver                        0x00000001047952ad chromedriver + 4657837\n13  chromedriver                        0x000000010479a130 chromedriver + 4677936\n14  chromedriver                        0x00000001047a0def chromedriver + 4705775\n15  chromedriver                        0x000000010479b05a chromedriver + 4681818\n16  chromedriver                        0x000000010476d92c chromedriver + 4495660\n17  chromedriver                        0x00000001047b8838 chromedriver + 4802616\n18  chromedriver                        0x00000001047b89b7 chromedriver + 4802999\n19  chromedriver                        0x00000001047c999f chromedriver + 4872607\n20  libsystem_pthread.dylib             0x00007ff80faab259 _pthread_start + 125\n21  libsystem_pthread.dylib             0x00007ff80faa6c7b thread_start + 15\n"
     ]
    }
   ],
   "source": [
    "# //*[@id=\"inp_search\"]\n",
    "search=driver.find_element(By.XPATH,'//*[@id=\"inp_search\"]')\n",
    "search.send_keys(\"제주도\")\n",
    "# search.send_keys(Keys.ENTER)"
   ]
  },
  {
   "cell_type": "code",
   "execution_count": null,
   "id": "5d4ca085",
   "metadata": {},
   "outputs": [],
   "source": [
    "# click()사용\n",
    "driver.find_element(By.CLASS_NAME,'btn_search').click()"
   ]
  },
  {
   "cell_type": "code",
   "execution_count": null,
   "id": "68db15bf",
   "metadata": {},
   "outputs": [],
   "source": []
  }
 ],
 "metadata": {
  "kernelspec": {
   "display_name": "Python 3 (ipykernel)",
   "language": "python",
   "name": "python3"
  },
  "language_info": {
   "codemirror_mode": {
    "name": "ipython",
    "version": 3
   },
   "file_extension": ".py",
   "mimetype": "text/x-python",
   "name": "python",
   "nbconvert_exporter": "python",
   "pygments_lexer": "ipython3",
   "version": "3.9.13"
  }
 },
 "nbformat": 4,
 "nbformat_minor": 5
}
