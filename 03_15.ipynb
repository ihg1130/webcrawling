{
 "cells": [
  {
   "cell_type": "markdown",
   "id": "2925c00e",
   "metadata": {},
   "source": [
    "-id : 문서안에서 한번만 사용\n",
    "\n",
    "-class : 공통적으로 적용할때 같은 이름으로 중복 가능"
   ]
  },
  {
   "cell_type": "code",
   "execution_count": 2,
   "id": "52354c88",
   "metadata": {},
   "outputs": [],
   "source": [
    "html = \"\"\"\n",
    "<html>\n",
    "<body>\n",
    "    <h1 id=\"title\">글자크기</h1>\n",
    "    <p class=\"cstyle\">원하는 글자 추출</p>\n",
    "    <p id=\"body\" align=\"center\">크롤링 수업시간</p>\n",
    "</body>\n",
    "</html>\n",
    "\"\"\""
   ]
  },
  {
   "cell_type": "code",
   "execution_count": 3,
   "id": "37cff85a",
   "metadata": {},
   "outputs": [],
   "source": [
    "import requests\n",
    "from bs4 import BeautifulSoup"
   ]
  },
  {
   "cell_type": "code",
   "execution_count": 4,
   "id": "423b1379",
   "metadata": {},
   "outputs": [],
   "source": [
    "soup = BeautifulSoup(html, \"html.parser\")"
   ]
  },
  {
   "cell_type": "code",
   "execution_count": 5,
   "id": "227b55ea",
   "metadata": {},
   "outputs": [],
   "source": [
    "#soup"
   ]
  },
  {
   "cell_type": "code",
   "execution_count": 6,
   "id": "b1f50626",
   "metadata": {},
   "outputs": [],
   "source": [
    "data = soup.find(\"h1\", id=\"title\")"
   ]
  },
  {
   "cell_type": "code",
   "execution_count": 7,
   "id": "a3cb339a",
   "metadata": {},
   "outputs": [
    {
     "data": {
      "text/plain": [
       "'글자크기'"
      ]
     },
     "execution_count": 7,
     "metadata": {},
     "output_type": "execute_result"
    }
   ],
   "source": [
    "data.text"
   ]
  },
  {
   "cell_type": "code",
   "execution_count": 9,
   "id": "034459b7",
   "metadata": {},
   "outputs": [
    {
     "data": {
      "text/plain": [
       "'크롤링 수업시간'"
      ]
     },
     "execution_count": 9,
     "metadata": {},
     "output_type": "execute_result"
    }
   ],
   "source": [
    "data3 = soup.find('p', attrs={'align':'center'})\n",
    "data.text"
   ]
  },
  {
   "cell_type": "code",
   "execution_count": 10,
   "id": "4869e315",
   "metadata": {},
   "outputs": [
    {
     "data": {
      "text/plain": [
       "'원하는 글자 추출'"
      ]
     },
     "execution_count": 10,
     "metadata": {},
     "output_type": "execute_result"
    }
   ],
   "source": [
    "data2 = soup.find('p', class_='cstyle')\n",
    "data2.text"
   ]
  },
  {
   "cell_type": "code",
   "execution_count": 12,
   "id": "dcef20d7",
   "metadata": {},
   "outputs": [
    {
     "data": {
      "text/plain": [
       "'대중교통 마스크 의무 해제…대형시설 내 약국도 포함'"
      ]
     },
     "execution_count": 12,
     "metadata": {},
     "output_type": "execute_result"
    }
   ],
   "source": [
    "res = requests.get(\"https://v.daum.net/v/20230315093721901\")\n",
    "soup = BeautifulSoup(res.content, \"html.parser\")\n",
    "title = soup.find(\"h3\", \"tit_view\")\n",
    "title.get_text()"
   ]
  },
  {
   "cell_type": "code",
   "execution_count": 16,
   "id": "4b15d5ee",
   "metadata": {},
   "outputs": [
    {
     "data": {
      "text/plain": [
       "'1,305.20'"
      ]
     },
     "execution_count": 16,
     "metadata": {},
     "output_type": "execute_result"
    }
   ],
   "source": [
    "res = requests.get(\"https://finance.naver.com/marketindex/\")\n",
    "soup = BeautifulSoup(res.content, \"html.parser\")\n",
    "title = soup.find(\"span\", \"value\")\n",
    "title.get_text()"
   ]
  },
  {
   "cell_type": "markdown",
   "id": "0ea367bd",
   "metadata": {},
   "source": [
    "- 제목과 뉴스 내용 가져오기"
   ]
  },
  {
   "cell_type": "code",
   "execution_count": 22,
   "id": "7dd986c3",
   "metadata": {},
   "outputs": [
    {
     "name": "stdout",
     "output_type": "stream",
     "text": [
      "\n",
      "오는 20일부터 버스와 지하철 등 대중교통에 탑승할 때 마스크를 착용하지 않아도 된다. 지난 1월 30일 실내마스크 착용 의무가 해제됐지만 대중교통 내에서는 의무가 유지돼 왔다. 이 때문에 지하철 승강장에서 ‘노마스크’로 열차를 기다리다가 열차가 도착하면 마스크를 써야 했지만, 이번 조치로 이 같은 불편이 없어진다.\n",
      "\n",
      "\n",
      "\n",
      "            14일 오전 서울 신도림역에서 마스크를 쓴 시민이 지하철에 탑승해 있다. /연합뉴스\n",
      "           \n",
      "\n",
      "한창섭 행정안전부 차관(장관 직무대행)은 15일 주재한 코로나19 중앙재난안전대책본부 회의에서 “정부는 20일부터 버스·전철 등 대중교통과 마트·역사 등 대형시설 안의 개방형 약국에 대해서도 마스크 착용 의무를 추가로 해제한다”고 밝혔다.\n",
      "마스크 착용 의무 추가 해제는 1월 말 실내마스크 착용 의무 해제 이후 코로나19 상황이 안정적으로 관리되고 있다고 판단했기 때문이다. 한 차관은 “지난 1월 30일 실내마스크 착용 의무 조정 이후 일 평균 확진자는 38% 신규 위중증 환자는 55% 감소했다”며 “신규 변이도 발생하지 않는 등 방역 상황은 안정적인 것으로 판단된다”고 설명했다.\n",
      "이번 조치로 마스크 착용 의무가 없어지는 대중교통은 시내·시외 버스 등 노선버스, 학교·학원 통학버스 등 전세버스, 지하철 등 도시철도, KTX 등 철도, 항공기, 여객선, 택시 등이다. 대중교통 마스크 해제는 중앙정부 차원의 마스크 착용 의무가 생긴 2020년 10월 이후 2년 5개월 만이다.\n",
      "앞서 정부는 1월 말 실내마스크 착용 의무를 해제하면서 대중교통과 함께 병원·약국, 요양병원·장기요양기관, 정신건강증진시설, 장애인복지시설 등 감염취약시설에서는 마스크 착용 의무를 유지했다. 이번 조치로 대형마트와 전철 역사 등 대형 시설 내 개방되어 있는 구조의 약국도 마스크 착용 의무가 해제됐다. 일반 약국은 코로나19 의심 증상자와 고위험군이 이용한다는 점을 고려해 의무가 유지됐다.\n",
      "한국과 중국 간 국제여객선의 여객 운송도 오는 30일부터 순차적으로 재개된다. 코로나19 사태로 2020년 1월 중단된 후 3년2개월 만이다. 한·중 간 여객선은 현재 재개를 준비 중이다. 4~7월 중 재개될 수 있을 것으로 전망된다.\n",
      "한 차관은 “혼잡시간대 대중교통 이용자, 고위험군, 유증상자분들께는 마스크 착용을 적극 권고드린다”며 “온전한 일상 회복이 되기 위해서는 60세 이상 등 고위험군 보호가 꼭 필요하다”고 했다. 이어 “정부는 고위험군 대상추가 접종률과 치료제 처방률을 높여 중증화율과 치명률을 최소화해 나가고 ‘코로나19 일상 회복 로드맵’도 차질 없이 준비해나가겠다”고 말했다.\n",
      "- Copyright ⓒ 조선비즈 & Chosun.com -\n",
      "\n"
     ]
    }
   ],
   "source": [
    "res = requests.get(\"https://v.daum.net/v/20230315090023438\")\n",
    "soup = BeautifulSoup(res.content, \"html.parser\")\n",
    "title = soup.find(\"section\", attrs={'dmcf-sid':'Uh7js9OK3i'})\n",
    "# title.get_text()\n",
    "print(title.text)"
   ]
  },
  {
   "cell_type": "code",
   "execution_count": 36,
   "id": "d4c05dc2",
   "metadata": {},
   "outputs": [
    {
     "name": "stdout",
     "output_type": "stream",
     "text": [
      "제목 :  버스·전철에서 20일부터 ‘노마스크’…마트 약국도 포함\n",
      "--------------------------------------------------------------------------------\n",
      "버스·전철에서 20일부터 ‘노마스크’…마트 약국도 포함\n",
      " 세종=손덕호 기자 입력 2023. 3. 15. 09:00 수정 2023. 3. 15. 10:17\n",
      "\n",
      "  댓글 0 \n",
      "\n",
      "  요약보기 \n",
      "\n",
      "\n",
      " 자동요약 기사 제목과 주요 문장을 기반으로 자동요약한 결과입니다. 전체 맥락을 이해하기 위해서는 본문 보기를 권장합니다.\n",
      "\n",
      "\n",
      "오는 20일부터 버스와 지하철 등 대중교통에 탑승할 때 마스크를 착용하지 않아도 된다.\n",
      "지난 1월 30일 실내마스크 착용 의무가 해제됐지만 대중교통 내에서는 의무가 유지돼 왔다.\n",
      "앞서 정부는 1월 말 실내마스크 착용 의무를 해제하면서 대중교통과 함께 병원·약국, 요양병원·장기요양기관, 정신건강증진시설, 장애인복지시설 등 감염취약시설에서는 마스크 착용 의무를 유지했다.\n",
      "\n",
      "  닫기 \n",
      "\n",
      "\n",
      "\n",
      "\n",
      "  음성으로 듣기 \n",
      "\n",
      "\n",
      " 음성재생 설정\n",
      "\n",
      "\n",
      "\n",
      "   남성  \n",
      "   여성  \n",
      "\n",
      "\n",
      "   느림  \n",
      "   보통  \n",
      "   빠름  \n",
      " 음성 재생하기\n",
      "\n",
      "  닫기 \n",
      "\n",
      "\n",
      "  음성 재생 중지 \n",
      "\n",
      "\n",
      "  번역 설정 \n",
      "\n",
      "\n",
      " 번역beta Translated by kaka i\n",
      "\n",
      "\n",
      "\n",
      "  한국어 -  \n",
      "  English 영어  \n",
      "  日本語 일본어  \n",
      "  简体中文 중국어  \n",
      "  Nederlands 네델란드어  \n",
      "  Deutsch 독일어  \n",
      "  Русский 러시아어  \n",
      "  Malaysia 말레이시아어  \n",
      "  বাঙ্গোল ভাষা 벵골어  \n",
      "  tiếng Việt 베트남어  \n",
      "  Español 스페인어  \n",
      "  اللغة العربية 아랍어  \n",
      "  Italiano 이탈리아어  \n",
      "  bahasa Indonesia 인도네시아어  \n",
      "  ภาษาไทย 태국어  \n",
      "  Türkçe 터키어  \n",
      "  Português 포르투갈어  \n",
      "  Français 프랑스어  \n",
      "  हिन्दी 힌디어  \n",
      "\n",
      "\n",
      "  닫기 \n",
      "\n",
      "\n",
      "\n",
      "\n",
      "  번역중 Now in translation\n",
      "\n",
      "\n",
      "\n",
      "  글씨크기 조절하기 \n",
      "\n",
      "\n",
      " 글자크기 설정 파란원을 좌우로 움직이시면 글자크기가 변경 됩니다.\n",
      "\n",
      "\n",
      " 가\n",
      "\n",
      "  매우 작은 폰트 \n",
      "  작은 폰트 \n",
      "  보통 폰트 \n",
      "  큰 폰트 \n",
      "  매우 큰 폰트 \n",
      " 가\n",
      "\n",
      "\n",
      "이 글자크기로 변경됩니다.\n",
      "(예시) 가장 빠른 뉴스가 있고 다양한 정보, 쌍방향 소통이 숨쉬는 다음뉴스를 만나보세요. 다음뉴스는 국내외 주요이슈와 실시간 속보, 문화생활 및 다양한 분야의 뉴스를 입체적으로 전달하고 있습니다.\n",
      "\n",
      "\n",
      "  닫기 \n",
      "\n",
      "\n",
      "\n",
      "\n",
      "  인쇄하기 \n",
      "\n",
      "\n",
      "\n",
      "\n",
      "\n",
      "\n",
      " 마트·역사 등 대형시설 안 개방형 약국도 ‘노마스크’“혼잡시간대 대중교통 이용자, 고위험군은 착용 권고”\n",
      "\n",
      "\n",
      "오는 20일부터 버스와 지하철 등 대중교통에 탑승할 때 마스크를 착용하지 않아도 된다. 지난 1월 30일 실내마스크 착용 의무가 해제됐지만 대중교통 내에서는 의무가 유지돼 왔다. 이 때문에 지하철 승강장에서 ‘노마스크’로 열차를 기다리다가 열차가 도착하면 마스크를 써야 했지만, 이번 조치로 이 같은 불편이 없어진다.\n",
      "\n",
      "\n",
      "\n",
      "            14일 오전 서울 신도림역에서 마스크를 쓴 시민이 지하철에 탑승해 있다. /연합뉴스\n",
      "           \n",
      "\n",
      "한창섭 행정안전부 차관(장관 직무대행)은 15일 주재한 코로나19 중앙재난안전대책본부 회의에서 “정부는 20일부터 버스·전철 등 대중교통과 마트·역사 등 대형시설 안의 개방형 약국에 대해서도 마스크 착용 의무를 추가로 해제한다”고 밝혔다.\n",
      "마스크 착용 의무 추가 해제는 1월 말 실내마스크 착용 의무 해제 이후 코로나19 상황이 안정적으로 관리되고 있다고 판단했기 때문이다. 한 차관은 “지난 1월 30일 실내마스크 착용 의무 조정 이후 일 평균 확진자는 38% 신규 위중증 환자는 55% 감소했다”며 “신규 변이도 발생하지 않는 등 방역 상황은 안정적인 것으로 판단된다”고 설명했다.\n",
      "이번 조치로 마스크 착용 의무가 없어지는 대중교통은 시내·시외 버스 등 노선버스, 학교·학원 통학버스 등 전세버스, 지하철 등 도시철도, KTX 등 철도, 항공기, 여객선, 택시 등이다. 대중교통 마스크 해제는 중앙정부 차원의 마스크 착용 의무가 생긴 2020년 10월 이후 2년 5개월 만이다.\n",
      "앞서 정부는 1월 말 실내마스크 착용 의무를 해제하면서 대중교통과 함께 병원·약국, 요양병원·장기요양기관, 정신건강증진시설, 장애인복지시설 등 감염취약시설에서는 마스크 착용 의무를 유지했다. 이번 조치로 대형마트와 전철 역사 등 대형 시설 내 개방되어 있는 구조의 약국도 마스크 착용 의무가 해제됐다. 일반 약국은 코로나19 의심 증상자와 고위험군이 이용한다는 점을 고려해 의무가 유지됐다.\n",
      "한국과 중국 간 국제여객선의 여객 운송도 오는 30일부터 순차적으로 재개된다. 코로나19 사태로 2020년 1월 중단된 후 3년2개월 만이다. 한·중 간 여객선은 현재 재개를 준비 중이다. 4~7월 중 재개될 수 있을 것으로 전망된다.\n",
      "한 차관은 “혼잡시간대 대중교통 이용자, 고위험군, 유증상자분들께는 마스크 착용을 적극 권고드린다”며 “온전한 일상 회복이 되기 위해서는 60세 이상 등 고위험군 보호가 꼭 필요하다”고 했다. 이어 “정부는 고위험군 대상추가 접종률과 치료제 처방률을 높여 중증화율과 치명률을 최소화해 나가고 ‘코로나19 일상 회복 로드맵’도 차질 없이 준비해나가겠다”고 말했다.\n",
      "- Copyright ⓒ 조선비즈 & Chosun.com -\n",
      "\n",
      "\n",
      "- Copyrights ⓒ 조선비즈 & Chosun.com, 무단 전재 및 재배포 금지 - \n",
      "\n",
      "\n",
      " 이 기사에 대해 어떻게 생각하시나요?\n",
      "\n",
      "\n",
      "\n",
      "\n",
      "\n",
      "\n",
      "\n",
      " 조선비즈에서 직접 확인하세요. 해당 언론사로 이동합니다.\n",
      "\n",
      "\n",
      "  ‘SVB 파산’ 美 예금보호 3억원, 韓은 23년째 5000만원... “한도 늘려야”  \n",
      "  \"신체부위 설명해줘\" 음란 대화에 챗GPT는 술술 읊었다  \n",
      "  삼성·LG·엔씨소프트가 투자한 기술… ‘홀로그램’이 뜬다  \n",
      "  1병당 600만원 호가해도 인기… 韓서 1위인 초고가 와인  \n",
      "  尹 '돈잔치' 첫 타깃으로 콕 집은 곳… 희생양 될까 '긴장'  \n",
      "  ‘재계 저승사자’ 이정섭 뜨자 기업들 ‘벌벌’…전례 없는 총수 수사 드라이브  \n",
      "  애플페이, 21일부터 국내 서비스… 쓸 수 있는 카드는?  \n",
      "  ‘진짜 생활고’ 다시 주장한 김새론… “가족 생활비로 남은 돈 없어”  \n",
      "  [르포] \"집에서 갓 만든 맛\" 연매출 1兆의 만두 공장  \n",
      "  잘 나가던 TSMC마저 1분기 성장 둔화… 일부 라인 가동률 40% 이하 추락 전망도\n"
     ]
    }
   ],
   "source": [
    "res = requests.get(\"https://v.daum.net/v/20230315090023438\")\n",
    "soup = BeautifulSoup(res.content, \"html.parser\")\n",
    "content = soup.find(\"article\", id=\"mArticle\").text\n",
    "Realtitle = soup.find(\"h3\", \"tit_view\").text\n",
    "# title.get_text()\n",
    "print(\"제목 : \", Realtitle)\n",
    "print(\"-\"*80)\n",
    "print(content.strip()) #strip() : 공백제거함수"
   ]
  },
  {
   "cell_type": "code",
   "execution_count": 54,
   "id": "18d2605d",
   "metadata": {},
   "outputs": [
    {
     "name": "stdout",
     "output_type": "stream",
     "text": [
      "세종=손덕호 기자\n",
      "입력 2023. 3. 15. 09:00\n",
      "수정 2023. 3. 15. 10:17\n"
     ]
    }
   ],
   "source": [
    "res = requests.get(\"https://v.daum.net/v/20230315090023438\")\n",
    "soup = BeautifulSoup(res.content, \"html.parser\")\n",
    "title = soup.find_all(\"span\", class_=\"txt_info\")\n",
    "for i in title:\n",
    "    print(i.text)\n"
   ]
  },
  {
   "cell_type": "code",
   "execution_count": 55,
   "id": "ec85df2a",
   "metadata": {},
   "outputs": [
    {
     "name": "stdout",
     "output_type": "stream",
     "text": [
      "버스·전철에서 20일부터 ‘노마스크’…마트 약국도 포함\n",
      " 세종=손덕호 기자 입력 2023. 3. 15. 09:00 수정 2023. 3. 15. 10:17\n",
      "\n",
      "  댓글 0 \n",
      "\n",
      "  요약보기 \n",
      "\n",
      "\n",
      " 자동요약 기사 제목과 주요 문장을 기반으로 자동요약한 결과입니다. 전체 맥락을 이해하기 위해서는 본문 보기를 권장합니다.\n",
      "\n",
      "\n",
      "오는 20일부터 버스와 지하철 등 대중교통에 탑승할 때 마스크를 착용하지 않아도 된다.\n",
      "지난 1월 30일 실내마스크 착용 의무가 해제됐지만 대중교통 내에서는 의무가 유지돼 왔다.\n",
      "앞서 정부는 1월 말 실내마스크 착용 의무를 해제하면서 대중교통과 함께 병원·약국, 요양병원·장기요양기관, 정신건강증진시설, 장애인복지시설 등 감염취약시설에서는 마스크 착용 의무를 유지했다.\n",
      "\n",
      "  닫기 \n",
      "\n",
      "\n",
      "\n",
      "\n",
      "  음성으로 듣기 \n",
      "\n",
      "\n",
      " 음성재생 설정\n",
      "\n",
      "\n",
      "\n",
      "   남성  \n",
      "   여성  \n",
      "\n",
      "\n",
      "   느림  \n",
      "   보통  \n",
      "   빠름  \n",
      " 음성 재생하기\n",
      "\n",
      "  닫기 \n",
      "\n",
      "\n",
      "  음성 재생 중지 \n",
      "\n",
      "\n",
      "  번역 설정 \n",
      "\n",
      "\n",
      " 번역beta Translated by kaka i\n",
      "\n",
      "\n",
      "\n",
      "  한국어 -  \n",
      "  English 영어  \n",
      "  日本語 일본어  \n",
      "  简体中文 중국어  \n",
      "  Nederlands 네델란드어  \n",
      "  Deutsch 독일어  \n",
      "  Русский 러시아어  \n",
      "  Malaysia 말레이시아어  \n",
      "  বাঙ্গোল ভাষা 벵골어  \n",
      "  tiếng Việt 베트남어  \n",
      "  Español 스페인어  \n",
      "  اللغة العربية 아랍어  \n",
      "  Italiano 이탈리아어  \n",
      "  bahasa Indonesia 인도네시아어  \n",
      "  ภาษาไทย 태국어  \n",
      "  Türkçe 터키어  \n",
      "  Português 포르투갈어  \n",
      "  Français 프랑스어  \n",
      "  हिन्दी 힌디어  \n",
      "\n",
      "\n",
      "  닫기 \n",
      "\n",
      "\n",
      "\n",
      "\n",
      "  번역중 Now in translation\n",
      "\n",
      "\n",
      "\n",
      "  글씨크기 조절하기 \n",
      "\n",
      "\n",
      " 글자크기 설정 파란원을 좌우로 움직이시면 글자크기가 변경 됩니다.\n",
      "\n",
      "\n",
      " 가\n",
      "\n",
      "  매우 작은 폰트 \n",
      "  작은 폰트 \n",
      "  보통 폰트 \n",
      "  큰 폰트 \n",
      "  매우 큰 폰트 \n",
      " 가\n",
      "\n",
      "\n",
      "이 글자크기로 변경됩니다.\n",
      "(예시) 가장 빠른 뉴스가 있고 다양한 정보, 쌍방향 소통이 숨쉬는 다음뉴스를 만나보세요. 다음뉴스는 국내외 주요이슈와 실시간 속보, 문화생활 및 다양한 분야의 뉴스를 입체적으로 전달하고 있습니다.\n",
      "\n",
      "\n",
      "  닫기 \n",
      "\n",
      "\n",
      "\n",
      "\n",
      "  인쇄하기 \n",
      "\n",
      "\n",
      "\n",
      "\n",
      "\n",
      "\n",
      " 마트·역사 등 대형시설 안 개방형 약국도 ‘노마스크’“혼잡시간대 대중교통 이용자, 고위험군은 착용 권고”\n",
      "\n",
      "\n",
      "오는 20일부터 버스와 지하철 등 대중교통에 탑승할 때 마스크를 착용하지 않아도 된다. 지난 1월 30일 실내마스크 착용 의무가 해제됐지만 대중교통 내에서는 의무가 유지돼 왔다. 이 때문에 지하철 승강장에서 ‘노마스크’로 열차를 기다리다가 열차가 도착하면 마스크를 써야 했지만, 이번 조치로 이 같은 불편이 없어진다.\n",
      "\n",
      "\n",
      "\n",
      "            14일 오전 서울 신도림역에서 마스크를 쓴 시민이 지하철에 탑승해 있다. /연합뉴스\n",
      "           \n",
      "\n",
      "한창섭 행정안전부 차관(장관 직무대행)은 15일 주재한 코로나19 중앙재난안전대책본부 회의에서 “정부는 20일부터 버스·전철 등 대중교통과 마트·역사 등 대형시설 안의 개방형 약국에 대해서도 마스크 착용 의무를 추가로 해제한다”고 밝혔다.\n",
      "마스크 착용 의무 추가 해제는 1월 말 실내마스크 착용 의무 해제 이후 코로나19 상황이 안정적으로 관리되고 있다고 판단했기 때문이다. 한 차관은 “지난 1월 30일 실내마스크 착용 의무 조정 이후 일 평균 확진자는 38% 신규 위중증 환자는 55% 감소했다”며 “신규 변이도 발생하지 않는 등 방역 상황은 안정적인 것으로 판단된다”고 설명했다.\n",
      "이번 조치로 마스크 착용 의무가 없어지는 대중교통은 시내·시외 버스 등 노선버스, 학교·학원 통학버스 등 전세버스, 지하철 등 도시철도, KTX 등 철도, 항공기, 여객선, 택시 등이다. 대중교통 마스크 해제는 중앙정부 차원의 마스크 착용 의무가 생긴 2020년 10월 이후 2년 5개월 만이다.\n",
      "앞서 정부는 1월 말 실내마스크 착용 의무를 해제하면서 대중교통과 함께 병원·약국, 요양병원·장기요양기관, 정신건강증진시설, 장애인복지시설 등 감염취약시설에서는 마스크 착용 의무를 유지했다. 이번 조치로 대형마트와 전철 역사 등 대형 시설 내 개방되어 있는 구조의 약국도 마스크 착용 의무가 해제됐다. 일반 약국은 코로나19 의심 증상자와 고위험군이 이용한다는 점을 고려해 의무가 유지됐다.\n",
      "한국과 중국 간 국제여객선의 여객 운송도 오는 30일부터 순차적으로 재개된다. 코로나19 사태로 2020년 1월 중단된 후 3년2개월 만이다. 한·중 간 여객선은 현재 재개를 준비 중이다. 4~7월 중 재개될 수 있을 것으로 전망된다.\n",
      "한 차관은 “혼잡시간대 대중교통 이용자, 고위험군, 유증상자분들께는 마스크 착용을 적극 권고드린다”며 “온전한 일상 회복이 되기 위해서는 60세 이상 등 고위험군 보호가 꼭 필요하다”고 했다. 이어 “정부는 고위험군 대상추가 접종률과 치료제 처방률을 높여 중증화율과 치명률을 최소화해 나가고 ‘코로나19 일상 회복 로드맵’도 차질 없이 준비해나가겠다”고 말했다.\n",
      "- Copyright ⓒ 조선비즈 & Chosun.com -\n",
      "\n",
      "\n",
      "- Copyrights ⓒ 조선비즈 & Chosun.com, 무단 전재 및 재배포 금지 - \n",
      "\n",
      "\n",
      " 이 기사에 대해 어떻게 생각하시나요?\n",
      "\n",
      "\n",
      "\n",
      "\n",
      "\n",
      "\n",
      "\n",
      " 조선비즈에서 직접 확인하세요. 해당 언론사로 이동합니다.\n",
      "\n",
      "\n",
      "  ‘SVB 파산’ 美 예금보호 3억원, 韓은 23년째 5000만원... “한도 늘려야”  \n",
      "  \"신체부위 설명해줘\" 음란 대화에 챗GPT는 술술 읊었다  \n",
      "  삼성·LG·엔씨소프트가 투자한 기술… ‘홀로그램’이 뜬다  \n",
      "  1병당 600만원 호가해도 인기… 韓서 1위인 초고가 와인  \n",
      "  尹 '돈잔치' 첫 타깃으로 콕 집은 곳… 희생양 될까 '긴장'  \n",
      "  ‘재계 저승사자’ 이정섭 뜨자 기업들 ‘벌벌’…전례 없는 총수 수사 드라이브  \n",
      "  애플페이, 21일부터 국내 서비스… 쓸 수 있는 카드는?  \n",
      "  ‘진짜 생활고’ 다시 주장한 김새론… “가족 생활비로 남은 돈 없어”  \n",
      "  [르포] \"집에서 갓 만든 맛\" 연매출 1兆의 만두 공장  \n",
      "  업계 1위 TSMC마저 삐끗… 주문 급감에 가동률 '뚝'\n"
     ]
    }
   ],
   "source": [
    "res = requests.get(\"https://v.daum.net/v/20230315090023438\")\n",
    "soup = BeautifulSoup(res.content, \"html.parser\")\n",
    "title = soup.find(\"article\", class_=\"box_view\").text\n",
    "# title.get_text()\n",
    "print(title.strip())"
   ]
  },
  {
   "cell_type": "code",
   "execution_count": 41,
   "id": "e05a85a7",
   "metadata": {},
   "outputs": [
    {
     "data": {
      "text/plain": [
       "'python is fun'"
      ]
     },
     "execution_count": 41,
     "metadata": {},
     "output_type": "execute_result"
    }
   ],
   "source": [
    "s=\"              python is fun    \"\n",
    "s.strip()"
   ]
  },
  {
   "cell_type": "markdown",
   "id": "3f6f6382",
   "metadata": {},
   "source": [
    "\n"
   ]
  },
  {
   "cell_type": "code",
   "execution_count": 56,
   "id": "bc36218b",
   "metadata": {},
   "outputs": [],
   "source": [
    "html = \"\"\"\n",
    "<html>\n",
    "<body id=\"me\">\n",
    "<div id=\"smart\">\n",
    "      <h1 id=\"title\">스마트 미디어 도서</h1>\n",
    "      <ul class=\"items\">\n",
    "          <li>파이썬입문</li>\n",
    "          <li>머신러닝</li>\n",
    "          <li>딥러닝입문</li>\n",
    "      </ul>\n",
    " </div> \n",
    "</body>\n",
    "</html>\n",
    "\"\"\""
   ]
  },
  {
   "cell_type": "markdown",
   "id": "4f69a698",
   "metadata": {},
   "source": [
    "### 태그에 id가 smart이고 그아래 h1 요소값을 가져오기\n",
    "### div#smart > h1\n",
    "\n"
   ]
  },
  {
   "cell_type": "code",
   "execution_count": 59,
   "id": "b8399ec8",
   "metadata": {},
   "outputs": [
    {
     "data": {
      "text/plain": [
       "'스마트 미디어 도서'"
      ]
     },
     "execution_count": 59,
     "metadata": {},
     "output_type": "execute_result"
    }
   ],
   "source": [
    "soup = BeautifulSoup(html, \"html.parser\")\n",
    "data = soup.select_one('div#smart > h1').text\n",
    "data"
   ]
  },
  {
   "cell_type": "code",
   "execution_count": 73,
   "id": "b2fd0e2b",
   "metadata": {},
   "outputs": [
    {
     "data": {
      "text/plain": [
       "[<li>파이썬입문</li>, <li>머신러닝</li>, <li>딥러닝입문</li>]"
      ]
     },
     "execution_count": 73,
     "metadata": {},
     "output_type": "execute_result"
    }
   ],
   "source": [
    "data1 = soup.select(\"div#smart>ul.items >li\")\n",
    "data1"
   ]
  },
  {
   "cell_type": "code",
   "execution_count": 74,
   "id": "5e2bb53a",
   "metadata": {},
   "outputs": [
    {
     "name": "stdout",
     "output_type": "stream",
     "text": [
      "파이썬입문\n",
      "머신러닝\n",
      "딥러닝입문\n"
     ]
    }
   ],
   "source": [
    "for i in data1:\n",
    "    print(i.text)"
   ]
  },
  {
   "cell_type": "code",
   "execution_count": 99,
   "id": "3b68a3e0",
   "metadata": {},
   "outputs": [],
   "source": [
    "html2=\"\"\"\n",
    "<html >\n",
    "<body>\n",
    "    <h1>시장에서 사야할 과일 목록</h1>\n",
    "    <div>\n",
    "        <p id=\"fruits1\" class=\"name1\">바나나\n",
    "            <span class=\"price\">3000</span>\n",
    "            <span class=\"count\">10개</span>\n",
    "            <a href=\"http://www.banana.com\">banana.com</a>\n",
    "        </p>\n",
    "    </div>\n",
    "    <div>\n",
    "        <p id=\"fruits2\" class=\"name2\">채라\n",
    "            <span class=\"price\">2000</span>\n",
    "            <span class=\"count\">5개</span>\n",
    "            <span href=\"http://www.cherry.com\">cherry.com</span>\n",
    "        </p>\n",
    "    </div>\n",
    "</body>\n",
    "</html>\n",
    "\"\"\""
   ]
  },
  {
   "cell_type": "code",
   "execution_count": 100,
   "id": "730bda9a",
   "metadata": {},
   "outputs": [],
   "source": [
    "import requests\n",
    "from bs4 import BeautifulSoup\n",
    "soup = BeautifulSoup(html2, \"html.parser\")"
   ]
  },
  {
   "cell_type": "code",
   "execution_count": 101,
   "id": "5cb2d818",
   "metadata": {
    "scrolled": true
   },
   "outputs": [
    {
     "data": {
      "text/plain": [
       "[<p class=\"name1\" id=\"fruits1\">바나나\n",
       "             <span class=\"price\">3000</span>\n",
       " <span class=\"count\">10개</span>\n",
       " <a href=\"http://www.banana.com\">banana.com</a>\n",
       " </p>]"
      ]
     },
     "execution_count": 101,
     "metadata": {},
     "output_type": "execute_result"
    }
   ],
   "source": [
    "# 1. 클래스명이 name1 찾기 : select\n",
    "soup.select(\".name1\")"
   ]
  },
  {
   "cell_type": "code",
   "execution_count": 102,
   "id": "190b5e77",
   "metadata": {},
   "outputs": [
    {
     "data": {
      "text/plain": [
       "[<span class=\"price\">3000</span>,\n",
       " <span class=\"count\">10개</span>,\n",
       " <span class=\"price\">2000</span>,\n",
       " <span class=\"count\">5개</span>,\n",
       " <span href=\"http://www.cherry.com\">cherry.com</span>]"
      ]
     },
     "execution_count": 102,
     "metadata": {},
     "output_type": "execute_result"
    }
   ],
   "source": [
    "# div>p>span\n",
    "soup.select(\"div>p>span\")"
   ]
  },
  {
   "cell_type": "code",
   "execution_count": 103,
   "id": "24056771",
   "metadata": {},
   "outputs": [
    {
     "data": {
      "text/plain": [
       "[<span class=\"price\">3000</span>]"
      ]
     },
     "execution_count": 103,
     "metadata": {},
     "output_type": "execute_result"
    }
   ],
   "source": [
    "soup.select(\"div>p.name1>span.price\")"
   ]
  },
  {
   "cell_type": "code",
   "execution_count": 104,
   "id": "7844826c",
   "metadata": {},
   "outputs": [
    {
     "data": {
      "text/plain": [
       "'3000'"
      ]
     },
     "execution_count": 104,
     "metadata": {},
     "output_type": "execute_result"
    }
   ],
   "source": [
    "# 바나나 가격 출력\n",
    "soup.select_one(\"div>p.name1>span.price\").text"
   ]
  },
  {
   "cell_type": "markdown",
   "id": "254a6458",
   "metadata": {},
   "source": [
    "- select('태그명[속성1]')"
   ]
  },
  {
   "cell_type": "code",
   "execution_count": 108,
   "id": "22ccb19b",
   "metadata": {},
   "outputs": [
    {
     "data": {
      "text/plain": [
       "[<a href=\"http://www.banana.com\">banana.com</a>]"
      ]
     },
     "execution_count": 108,
     "metadata": {},
     "output_type": "execute_result"
    }
   ],
   "source": [
    "soup.select('a[href]')"
   ]
  },
  {
   "cell_type": "code",
   "execution_count": null,
   "id": "d1def9c2",
   "metadata": {},
   "outputs": [],
   "source": []
  }
 ],
 "metadata": {
  "kernelspec": {
   "display_name": "Python 3 (ipykernel)",
   "language": "python",
   "name": "python3"
  },
  "language_info": {
   "codemirror_mode": {
    "name": "ipython",
    "version": 3
   },
   "file_extension": ".py",
   "mimetype": "text/x-python",
   "name": "python",
   "nbconvert_exporter": "python",
   "pygments_lexer": "ipython3",
   "version": "3.9.13"
  }
 },
 "nbformat": 4,
 "nbformat_minor": 5
}
