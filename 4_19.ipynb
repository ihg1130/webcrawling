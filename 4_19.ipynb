{
 "cells": [
  {
   "cell_type": "code",
   "execution_count": 1,
   "id": "66a7878c",
   "metadata": {
    "scrolled": false
   },
   "outputs": [
    {
     "name": "stdout",
     "output_type": "stream",
     "text": [
      "삼성전자, 伊토일렛페이퍼 협업 한정판 '비스포크 냉장고' 공개 \n",
      " http://www.newsis.com/view/?id=NISX20230418_0002270442&cID=13001&pID=13000\n",
      "KB증권 \"삼성전자 반도체 감산 확대 기대…외국인 순매수\" \n",
      " https://www.yna.co.kr/view/AKR20230419035400002?input=1195m\n",
      "삼성, 22일부터 'GSAT' 진행…삼성전자 등 19곳 공채 \n",
      " https://daily.hankooki.com/news/articleView.html?idxno=947369\n",
      "삼성전자, 밀라노 가구 박람회 참가…'비스포크' 가전 전시 \n",
      " http://www.newsis.com/view/?id=NISX20230417_0002268730&cID=13001&pID=13000\n"
     ]
    }
   ],
   "source": [
    "import requests as req\n",
    "from bs4 import BeautifulSoup as bs\n",
    "import pandas as pd\n",
    "res=req.get(\"https://search.naver.com/search.naver?where=nexearch&sm=top_hty&fbm=1&ie=utf8&query=%EC%82%BC%EC%84%B1%EC%A0%84%EC%9E%90\")\n",
    "soup=bs(res.content,\"html.parser\")\n",
    "# select  \n",
    "links=soup.select(\".news_tit\")\n",
    "for i in links:\n",
    "    title=i.text\n",
    "    url=i.attrs['href']\n",
    "    print(title,\"\\n\",url)"
   ]
  },
  {
   "cell_type": "code",
   "execution_count": 8,
   "id": "e3e3a9f5",
   "metadata": {},
   "outputs": [
    {
     "name": "stdout",
     "output_type": "stream",
     "text": [
      "Requirement already satisfied: pyautogui in c:\\users\\mac021\\anaconda3\\lib\\site-packages (0.9.53)\n",
      "Requirement already satisfied: PyTweening>=1.0.1 in c:\\users\\mac021\\anaconda3\\lib\\site-packages (from pyautogui) (1.0.4)\n",
      "Requirement already satisfied: pyscreeze>=0.1.21 in c:\\users\\mac021\\anaconda3\\lib\\site-packages (from pyautogui) (0.1.28)\n",
      "Requirement already satisfied: pygetwindow>=0.0.5 in c:\\users\\mac021\\anaconda3\\lib\\site-packages (from pyautogui) (0.0.9)\n",
      "Requirement already satisfied: mouseinfo in c:\\users\\mac021\\anaconda3\\lib\\site-packages (from pyautogui) (0.1.3)\n",
      "Requirement already satisfied: pymsgbox in c:\\users\\mac021\\anaconda3\\lib\\site-packages (from pyautogui) (1.0.9)\n",
      "Requirement already satisfied: pyrect in c:\\users\\mac021\\anaconda3\\lib\\site-packages (from pygetwindow>=0.0.5->pyautogui) (0.2.0)\n",
      "Requirement already satisfied: pyperclip in c:\\users\\mac021\\anaconda3\\lib\\site-packages (from mouseinfo->pyautogui) (1.8.2)\n"
     ]
    }
   ],
   "source": [
    "!pip install pyautogui"
   ]
  },
  {
   "cell_type": "code",
   "execution_count": 10,
   "id": "edf40102",
   "metadata": {},
   "outputs": [],
   "source": [
    "import pyautogui"
   ]
  },
  {
   "cell_type": "code",
   "execution_count": 4,
   "id": "8a76040a",
   "metadata": {},
   "outputs": [],
   "source": [
    "import requests as req\n",
    "from bs4 import BeautifulSoup as bs\n",
    "import pandas as pd"
   ]
  },
  {
   "cell_type": "code",
   "execution_count": 21,
   "id": "00704735",
   "metadata": {},
   "outputs": [
    {
     "name": "stdout",
     "output_type": "stream",
     "text": [
      "보은 '회인ㅎㅇ', 청년마을 만들기 공모 최종 선정 \n",
      " https://www.ccdailynews.com/news/articleView.html?idxno=2197264\n",
      "보은군, ‘23년 행안부 청년마을 만들기 공모 ‘회인ㅎㅇ(하이)’마을 선정 \n",
      " http://www.breaknews.com/958601\n",
      "싱어송라이터 heya ㅎㅇ(해야), 래퍼 대니와 신곡 '브런치' 9월 1일 발표 \n",
      " http://www.e2news.com/news/articleView.html?idxno=245051\n",
      "한우&한돈 ㅎㅇ…오퀴즈는 \"OO\" \n",
      " http://www.econonews.co.kr/news/articleView.html?idxno=277770\n"
     ]
    }
   ],
   "source": [
    "keyword=pyautogui.prompt(\"검색어 입력\")\n",
    "#keyword=input(\"검색어 입력\")\n",
    "res=req.get(\"https://search.naver.com/search.naver?where=nexearch&sm=top_hty&fbm=1&ie=utf8&query=\"+keyword)\n",
    "soup=bs(res.content,\"html.parser\")\n",
    "# select  \n",
    "links=soup.select(\".news_tit\")\n",
    "for i in links:\n",
    "    title=i.text\n",
    "    url=i.attrs['href']\n",
    "    print(title,\"\\n\",url)"
   ]
  },
  {
   "cell_type": "code",
   "execution_count": 20,
   "id": "8ce7cdb3",
   "metadata": {},
   "outputs": [
    {
     "name": "stdout",
     "output_type": "stream",
     "text": [
      "美국방부, '한국에 사과할거냐' 묻자 \"한국과 아주 좋은 관계\" \n",
      " https://www.yna.co.kr/view/AKR20230418004700071?input=1195m\n",
      "한국 최고 부자, 이재용 아니고 이 사람 \n",
      " https://www.munhwa.com/news/view.html?no=2023041801039910126004\n",
      "\"한국 온난화, 세계 평균보다 빠르다...10년간 3조7천억 원 손실\" \n",
      " https://www.ytn.co.kr/_ln/0103_202304181325162258\n",
      "“한국영화 최고”… 마블 거장도 봉준호팬 인증 \n",
      " https://www.seoul.co.kr/news/newsView.php?id=20230419020006&wlog_tag3=naver\n"
     ]
    }
   ],
   "source": [
    "keyword=pyautogui.prompt(\"검색어 입력\")\n",
    "#keyword=input(\"검색어 입력\")\n",
    "res=req.get(f\"https://search.naver.com/search.naver?where=nexearch&sm=top_hty&fbm=1&ie=utf8&query={keyword}\")\n",
    "soup=bs(res.content,\"html.parser\")\n",
    "# select  \n",
    "links=soup.select(\".news_tit\")\n",
    "for i in links:\n",
    "    title=i.text\n",
    "    url=i.attrs['href']\n",
    "    print(title,\"\\n\",url)"
   ]
  },
  {
   "cell_type": "markdown",
   "id": "021ee852",
   "metadata": {},
   "source": [
    "## 여러 페이지 가져오기"
   ]
  },
  {
   "cell_type": "code",
   "execution_count": 23,
   "id": "e86d18be",
   "metadata": {},
   "outputs": [
    {
     "name": "stdout",
     "output_type": "stream",
     "text": [
      "삼성전자, 伊토일렛페이퍼 협업 한정판 '비스포크 냉장고' 공개 \n",
      " http://www.newsis.com/view/?id=NISX20230418_0002270442&cID=13001&pID=13000\n",
      "KB증권 \"삼성전자 반도체 감산 확대 기대…외국인 순매수\" \n",
      " https://www.yna.co.kr/view/AKR20230419035400002?input=1195m\n",
      "삼성, 22일부터 'GSAT' 진행…삼성전자 등 19곳 공채 \n",
      " https://daily.hankooki.com/news/articleView.html?idxno=947369\n",
      "삼성전자, 밀라노 가구 박람회 참가…'비스포크' 가전 전시 \n",
      " http://www.newsis.com/view/?id=NISX20230417_0002268730&cID=13001&pID=13000\n",
      "삼성전자, 伊 크리에이티브 스튜디오와 첫 협업…비스포크 냉장고 공개 \n",
      " https://www.news1.kr/articles/5018793\n",
      "삼성전자, 디지털 헬스케어 오픈소스 '헬스 스택' 첫 공개 \n",
      " https://www.nocutnews.co.kr/news/5929182\n",
      "삼성전자서비스, 장애인·고령자 위한 특화 서비스 강화 \n",
      " https://zdnet.co.kr/view/?no=20230419083943\n",
      "삼성전자, 흑역사 '4나노' 반전…TSMC 추격 발판 만들까 \n",
      " http://www.newsis.com/view/?id=NISX20230418_0002271587&cID=13001&pID=13000\n",
      "삼성전자, 美 기술 전시회서 ‘삼성 헬스 스택’ 공개 \n",
      " https://biz.chosun.com/it-science/ict/2023/04/18/WCIVD2B55RA6FCHZK5LCPELCLI/?utm_source=naver&utm_medium=original&utm_campaign=biz\n",
      "구글 충격에 빠뜨린 삼성전자…설마 진짜 바꾸려나 \n",
      " https://www.mk.co.kr/article/10714899\n",
      "구글 충격에 빠뜨린 삼성전자…설마 진짜 바꾸려나 \n",
      " https://www.mk.co.kr/article/10714899\n",
      "삼성전자 빙 채택한다는 소식으로 알파벳 2.8% 급락(상보) \n",
      " https://www.news1.kr/articles/5018561\n",
      "삼성전자, 세계 최대 헬스케어 전시회서 '삼성 헬스 스택' 공개 \n",
      " http://www.newsis.com/view/?id=NISX20230418_0002270320&cID=13001&pID=13000\n",
      "삼성전자, 폐휴대폰 모아 지구 지킨다 \n",
      " http://www.edaily.co.kr/news/newspath.asp?newsid=02345206635577104\n",
      "[PS 산업] LG전자, 삼성전자 \n",
      " https://www.psnews.co.kr/news/articleView.html?idxno=2022914\n",
      "[단독] 삼성전자 노조, '임금인상 6% 최종안' 제시…조정신청 예고도 \n",
      " https://biz.sbs.co.kr/article_hub/20000113892?division=NAVER\n",
      "삼성전자, '지구의 날' 맞아 폐휴대폰 수거 캠페인 \n",
      " https://www.nocutnews.co.kr/news/5928390\n",
      "구글, 폴더블폰 '픽셀 포드' 6월 출시…삼성전자와 경쟁 예상 \n",
      " https://www.cstimes.com/news/articleView.html?idxno=540544\n",
      "삼성전자, '지구의날' 맞아 국내외 사업장서 폐휴대폰 수거 \n",
      " https://www.yna.co.kr/view/AKR20230417017000003?input=1195m\n",
      "삼성전자 분기 영업익 추월한 LG전자 \n",
      " https://www.mk.co.kr/article/10712426\n",
      "삼성전자 파워가 이 정도라니...세계 최고기업도 쩔쩔맨다는데 [월가월부] \n",
      " https://www.mk.co.kr/article/10715912\n",
      "자사주 사놓은 삼성전자 경영진 '미소' \n",
      " https://www.mk.co.kr/article/10714670\n",
      "[PS 기업/산업] SK에코플랜트, SKT, 삼성SDI, 삼성전자, LG전자 \n",
      " https://www.psnews.co.kr/news/articleView.html?idxno=2023174\n",
      "알파벳, 삼성전자의 검색엔진 대체 논의 소식에 급락 \n",
      " https://www.hankyung.com/economy/article/202304174121i\n",
      "“나도 삼성전자株 사둘걸”...1년간 87억어치 사모은 임원들 \n",
      " https://www.mk.co.kr/article/10714431\n",
      "\"잠잠해질 만하면 또\"…삼성전자-LGD, 동맹설 지속되는 이유 \n",
      " http://www.inews24.com/view/1586168\n",
      "삼성전자·SK하이닉스, AI 효과로 뜨는 'HBM' 시장서 90% 점유율 차지 \n",
      " https://view.asiae.co.kr/article/2023041817265691912\n",
      "\"삼성전자, 좋아질 일만 남았다…외국인 순매수 이어질 것\" \n",
      " http://www.wowtv.co.kr/NewsCenter/News/Read?articleId=A202304190088&t=NN\n",
      "성지에선 ‘갤럭시S23’가 초특가… 삼성전자 판매량에 촉매제 될까 \n",
      " https://biz.chosun.com/it-science/ict/2023/04/18/QGBTNCNMFRGGJNTESBXVITF7BA/?utm_source=naver&utm_medium=original&utm_campaign=biz\n",
      "UBS \"삼성전자, 구글 떠날 가능성 낮아…알파벳 '매수'유지\" \n",
      " https://www.hankyung.com/economy/article/202304187146i\n",
      "삼성전자 자원 순환 캠페인 \n",
      " http://www.dt.co.kr/contents.html?article_no=2023041702109932078004&ref=naver\n",
      "삼성전자도 직격탄 맞은 반도체 불황…\"메모리 기업 '재무완충력' 주목해야\" \n",
      " https://www.bloter.net/news/articleView.html?idxno=600770\n",
      "\"삼성전자 감산, 업황 반등 앞당겨도 강도 개선까지는 불확실\" \n",
      " https://www.yna.co.kr/view/AKR20230417128700002?input=1195m\n",
      "[특징주] 맥스트, 삼성전자와 공급계약 2건 체결 소식에 급등 \n",
      " https://www.ajunews.com/view/20230419094529684\n",
      "'삼성전자 쏠림'의 명암 \n",
      " http://www.journalist.or.kr/news/article.html?no=53473\n",
      "영업익 10조도 아슬아슬…삼성전자 올해 모바일·TV에 달렸다 \n",
      " https://www.dailian.co.kr/news/view/1224088/?sc=Naver\n",
      "삼성전자, 오는 22일 지구의 날 폐휴대폰 수거 캠페인 펼친다 \n",
      " https://news.kmib.co.kr/article/view.asp?arcid=0924297237&code=11151400&cp=nv\n",
      "삼성전자, 특정 소리 차단 '우영우' 위한 앱 내놨다 \n",
      " https://biz.newdaily.co.kr/site/data/html/2023/04/17/2023041700235.html\n",
      "삼성전자, '지구의 날' 맞아 폐휴대전화 수거 캠페인 진행 \n",
      " https://www.yna.co.kr/view/PYH20230417007800013?input=1196m\n",
      "삼성전자, '지구의 날' 맞아 폐휴대전화 수거 캠페인 진행 \n",
      " https://www.yna.co.kr/view/PYH20230417007900013?input=1196m\n",
      "삼성전자 Neo QLED 신제품, 英 탄소저감인증 받아 \n",
      " https://www.news1.kr/articles/5016802\n",
      "삼성전자, 평균 4.1% 임금 인상…등기임원 보수한도 인상 보류 \n",
      " https://www.yna.co.kr/view/AKR20230414081200003?input=1195m\n",
      "삼성전자, 미국 헬스케어 전시회서 '삼성 헬스 스택' 공개 \n",
      " http://www.srtimes.kr/news/articleView.html?idxno=134118\n",
      "삼성전자서비스, 장애인·고령자 특화 서비스 확대 \n",
      " http://moneys.mt.co.kr/news/mwView.php?no=2023041909124130128\n",
      "삼성전자, 밀라노 가구 박람회 참가 \n",
      " https://www.news1.kr/photos/view/?5942941\n",
      "삼성전자서비스, 장애인·고령자 위한 특화 서비스 강화 \n",
      " https://www.cstimes.com/news/articleView.html?idxno=540536\n",
      "삼성전자, 밀라노 가구 박람회서 가전 ‘친환경성·초연결성·디자인’ 강조한... \n",
      " https://biz.chosun.com/it-science/ict/2023/04/17/42KP4SD4Q5CN3LCHU6VSNM2F7E/?utm_source=naver&utm_medium=original&utm_campaign=biz\n",
      "삼성전자, 이탈리아 스튜디오와 협업…'한정판 비스포크 냉장고' \n",
      " http://www.wowtv.co.kr/NewsCenter/News/Read?articleId=A202304180103&t=NN\n",
      "삼성전자, 세계 최대 헬스케어 기술 전시회서 '헬스 스택' 공개 \n",
      " https://www.aitimes.com/news/articleView.html?idxno=150575\n",
      "\"이재용 삼성전자 회장 미등기, 준법위 입장 아냐\" \n",
      " https://www.ebn.co.kr/news/view/1574606/?sc=Naver\n",
      "삼성전자, 美 헬스케어 전시회서 '삼성 헬스 스택' 공개 \n",
      " https://www.newsclaim.co.kr/news/articleView.html?idxno=3017369\n",
      "삼성전자, '지구의 날' 맞아…폐휴대폰 수거 캠페인 진행 \n",
      " http://www.incheonilbo.com/news/articleView.html?idxno=1190151\n",
      "삼성전자, 세계 최대 헬스케어 기술 전시회서 '삼성 헬스 스택' 공개 \n",
      " http://www.newspim.com/news/view/20230418000125\n",
      "삼성전자, 임금 4.1% 인상키로…노조 \"노사협의회 입장일뿐\" \n",
      " http://www.newsis.com/view/?id=NISX20230414_0002267046&cID=13001&pID=13000\n",
      "삼성전자, 美 전시회서 '삼성 헬스 스택' 첫 공개 \n",
      " http://www.sisafocus.co.kr/news/articleView.html?idxno=295791\n",
      "삼성전자, 헬스케어 전시회서 '삼성 헬스 스택' 공개 \n",
      " http://www.asiaa.co.kr/news/articleView.html?idxno=122266\n",
      "삼성전자, '지구의 날' 맞아 ?폐휴대폰 수거 캠페인 \n",
      " https://www.dnews.co.kr/uhtml/view.jsp?idxno=202304170838499680030\n",
      "삼성전자 비스포크 伊 공략...토일렛페이퍼 콜라보 냉장고 전시 \n",
      " http://www.4th.kr/news/articleView.html?idxno=2037819\n",
      "칸타 광고 어워즈 선정...삼성전자 ‘더 프리스타일’ 프로젝터, ‘가장 효과... \n",
      " https://www.mk.co.kr/article/10716028\n",
      "삼성전자, 웨어러블 기기 활용 '삼성 헬스 스택' 프로젝트 공개 \n",
      " http://www.startuptoday.co.kr/news/articleView.html?idxno=127939\n",
      "삼성전자, 밀라노 가구박람회서 '비스포크 라이프' 알린다 \n",
      " https://www.asiatoday.co.kr/view.php?key=20230417010009328\n",
      "삼성전자, 이탈리아 크리에이티브 스튜디오 '토일렛페이퍼'와 팝업 이벤트 진... \n",
      " http://www.paxetv.com/news/articleView.html?idxno=173737\n",
      "삼성전자 때문? 알파벳 주가 급락-MS는 상승[딥다이브] \n",
      " https://www.donga.com/news/Economy/article/all/20230418/118882560/1\n",
      "삼성전자, 웨어러블 기기 개발용 '삼성 헬스 스택' 공개 \n",
      " https://www.businessplus.kr/news/articleView.html?idxno=41611\n",
      "구글 '접는 폰' 5월 발표·6월 출시…삼성전자 폴더블폰과 경쟁 예고 \n",
      " http://www.topstarnews.net/news/articleView.html?idxno=15324870\n",
      "‘실적 한파’ 삼성전자, 임금 4.1% 인상 합의...임원은 인상 보류 \n",
      " https://www.chosun.com/economy/economy_general/2023/04/14/23HCKEXTZ5CLHEHW3MKZ5TIYO4/?utm_source=naver&utm_medium=referral&utm_campaign=naver-news\n",
      "삼성전자, 밀라노 가구 박람회 참가…'비스포크 라이프' 전시 \n",
      " https://www.ddaily.co.kr/news/article.html?no=261962\n",
      "삼성전자, 지구의 날 맞아 전세계서 폐휴대폰 수거 활동 \n",
      " http://www.metroseoul.co.kr/article/20230417500138\n",
      "삼성전자, 이탈리아 '토일렛페이퍼'와 협업한 '비스포크 냉장고' 선봬 \n",
      " http://www.thebigdata.co.kr/view.php?ud=20230418090659949162abca1943_23\n",
      "삼성전자, '지구의 날' 맞아 폐휴대폰 수거 캠페인 실시 \n",
      " http://www.seoulwire.com/news/articleView.html?idxno=499244\n",
      "삼성전자, 밀라노 가구 박람회서 '비스포크 라이프' 선보여 \n",
      " https://www.cstimes.com/news/articleView.html?idxno=540192\n",
      "삼성전자, 세계 최대 헬스케어 기술 전시회서 '삼성 헬스 스택' 공개 \n",
      " http://sports.chosun.com/news/ntype.htm?id=202304180100144190017575&servicedate=20230418\n",
      "삼성전자, '지구의 날' 맞아 폐휴대폰 수거 캠페인 진행 \n",
      " https://www.polinews.co.kr/news/articleView.html?idxno=607738\n",
      "이재용 \"지역과 함께 성장\"…삼성전자, 'C랩 삼각벨트' \n",
      " http://www.newsis.com/view/?id=NISX20230413_0002265915&cID=13001&pID=13000\n",
      "삼성전자, 이탈리아 크리에이티브 스튜디오 '토일렛페이퍼' 협업 한정판 비스... \n",
      " https://www.cnet.co.kr/view/?no=20230418104834\n",
      "“지속가능한 비스포크 선보일 것”…삼성전자, 글로벌 최대 디자인·가구 박... \n",
      " http://news.heraldcorp.com/view.php?ud=20230417000267\n",
      "삼성전자, 伊 밀라노 가구 박람회서 '비스포크' 가전 선봬 \n",
      " http://www.meconomynews.com/news/articleView.html?idxno=76836\n",
      "삼성전자, 세계 최대 헬스케어 기술 전시회서 ‘삼성 헬스 스택’ 공개 \n",
      " https://www.cnbnews.com/news/article.html?no=597526\n",
      "삼성전자, 세계 최대 헬스케어 기술 전시회서 '삼성 헬스 스택' 공개 \n",
      " http://www.issuenbiz.com/news/articleView.html?idxno=23654\n",
      "삼성전자, 세계 최대 헬스케어 기술展서 '삼성 헬스 스택' 공개 \n",
      " http://www.newsdream.kr/news/articleView.html?idxno=41843\n",
      "쓰레기 '줍줍'하더니…삼성전자 초봉 버는 이 부부 \n",
      " https://www.sedaily.com/NewsView/29OC6MNNTL\n",
      "삼성전자, 이탈리아'토일렛페이퍼'와 협업...한정판 디자인 '비스포크 냉장고... \n",
      " http://www.lkp.news/news/articleView.html?idxno=31090\n",
      "삼성전자, 올해 임금 4.1% 오른다…'월 1회 휴무'도 신설 \n",
      " http://www.wowtv.co.kr/NewsCenter/News/Read?articleId=A202304140187&t=NN\n",
      "삼성전자서비스, 장애인·고령자 위한 특화 서비스 강화 \n",
      " https://www.yna.co.kr/view/PYH20230419009400013?input=1196m\n",
      "삼성전자서비스, 장애인·고령자 위한 특화 서비스 강화 \n",
      " https://www.yna.co.kr/view/PYH20230419009600013?input=1196m\n",
      "삼성전자서비스, 장애인·고령자 위한 특화 서비스 강화 \n",
      " https://www.yna.co.kr/view/PYH20230419009700013?input=1196m\n",
      "삼성전자서비스, 장애인·고령자 위한 특화 서비스 강화 \n",
      " https://www.yna.co.kr/view/PYH20230419009500013?input=1196m\n",
      "\"한 명의 고객도 놓치지 않는다\" 삼성전자서비스, 장애인·고령자 특화 서비스... \n",
      " https://www.autodaily.co.kr/news/articleView.html?idxno=505526\n",
      "삼성전자 '지구의 날' 기념 폐휴대폰 수거 캠페인 실시 \n",
      " http://www.wsobi.com/news/articleView.html?idxno=197905\n",
      "외국인 '삼성전자 사랑'…이달 1.9조 순매수 \n",
      " https://www.hankyung.com/finance/article/2023041736111\n"
     ]
    }
   ],
   "source": [
    "keyword=pyautogui.prompt(\"검색어 입력\")\n",
    "#keyword=input(\"검색어 입력\")\n",
    "#( 첫번째 숫자, 최대값, 더하는 값)\n",
    "for i in range(1, 91, 10):\n",
    "    res=req.get(f\"https://search.naver.com/search.naver?where=news&sm=tab_pge&query=%EC%82%BC%EC%84%B1%EC%A0%84%EC%9E%90&sort=0&photo=0&field=0&pd=0&ds=&de=&cluster_rank=104&mynews=0&office_type=0&office_section_code=0&news_office_checked=&nso=so:r,p:all,a:all&start={i}\")\n",
    "    soup=bs(res.content,\"html.parser\")\n",
    "# select  \n",
    "    links=soup.select(\".news_tit\")\n",
    "    for i in links:\n",
    "        title=i.text\n",
    "        url=i.attrs['href']\n",
    "        print(title,\"\\n\",url)"
   ]
  },
  {
   "cell_type": "code",
   "execution_count": 27,
   "id": "a2804e77",
   "metadata": {},
   "outputs": [
    {
     "name": "stdout",
     "output_type": "stream",
     "text": [
      "========================1페이지입니다=======================\n",
      "삼성전자, 伊토일렛페이퍼 협업 한정판 '비스포크 냉장고' 공개 \n",
      " http://www.newsis.com/view/?id=NISX20230418_0002270442&cID=13001&pID=13000\n",
      "KB증권 \"삼성전자 반도체 감산 확대 기대…외국인 순매수\" \n",
      " https://www.yna.co.kr/view/AKR20230419035400002?input=1195m\n",
      "삼성, 22일부터 'GSAT' 진행…삼성전자 등 19곳 공채 \n",
      " https://daily.hankooki.com/news/articleView.html?idxno=947369\n",
      "삼성전자, 밀라노 가구 박람회 참가…'비스포크' 가전 전시 \n",
      " http://www.newsis.com/view/?id=NISX20230417_0002268730&cID=13001&pID=13000\n",
      "삼성전자, 伊 크리에이티브 스튜디오와 첫 협업…비스포크 냉장고 공개 \n",
      " https://www.news1.kr/articles/5018793\n",
      "삼성전자, 디지털 헬스케어 오픈소스 '헬스 스택' 첫 공개 \n",
      " https://www.nocutnews.co.kr/news/5929182\n",
      "삼성전자서비스, 장애인·고령자 위한 특화 서비스 강화 \n",
      " https://zdnet.co.kr/view/?no=20230419083943\n",
      "삼성전자, ‘2023 월드IT쇼’ 참가…‘갤S23’ 체험공간 구성 \n",
      " http://www.edaily.co.kr/news/newspath.asp?newsid=01981126635577760\n",
      "\"혁신 기술 총집합\"…삼성·LG전자, 2023 월드IT쇼 참가 \n",
      " https://www.ajunews.com/view/20230419090110628\n",
      "\"삼성전자와 공급 계약 2건 체결\"…맥스트 주가 13%대 '급등' \n",
      " https://www.hankyung.com/finance/article/2023041977406\n",
      "========================2페이지입니다=======================\n",
      "KB증권 \"삼성전자 반도체 감산 확대 기대…외국인 순매수\" \n",
      " https://www.yna.co.kr/view/AKR20230419035400002?input=1195m\n",
      "삼성전자, 상반기 GSAT 온라인으로 진행 \n",
      " https://www.yna.co.kr/view/PYH20230418155300013?input=1196m\n",
      "삼성전자, 밀라노 가구 박람회 참가…'비스포크' 가전 전시 \n",
      " http://www.newsis.com/view/?id=NISX20230417_0002268730&cID=13001&pID=13000\n",
      "삼성전자, '토일렛페이퍼'와 팝업 이벤트 개최 \n",
      " https://www.yna.co.kr/view/PYH20230418008200013?input=1196m\n",
      "삼성전자, 미 헬스케어 기술 전시회서 '삼성 헬스 스택' 공개 \n",
      " https://www.yna.co.kr/view/AKR20230418022300003?input=1195m\n",
      "삼성전자서비스, 장애인·고령자 위한 특화 서비스 강화 \n",
      " https://zdnet.co.kr/view/?no=20230419083943\n",
      "삼성전자, ‘2023 월드IT쇼’ 참가…‘갤S23’ 체험공간 구성 \n",
      " http://www.edaily.co.kr/news/newspath.asp?newsid=01981126635577760\n",
      "삼성전자, 흑역사 '4나노' 반전…TSMC 추격 발판 만들까 \n",
      " http://www.newsis.com/view/?id=NISX20230418_0002271587&cID=13001&pID=13000\n",
      "삼성전자, 美 기술 전시회서 ‘삼성 헬스 스택’ 공개 \n",
      " https://biz.chosun.com/it-science/ict/2023/04/18/WCIVD2B55RA6FCHZK5LCPELCLI/?utm_source=naver&utm_medium=original&utm_campaign=biz\n",
      "외국인, 삼성전자 등 대형주 담는다 \n",
      " http://www.newsis.com/view/?id=NISX20230418_0002270556&cID=15001&pID=15000\n",
      "========================3페이지입니다=======================\n",
      "삼성전자, 상반기 GSAT 온라인으로 진행 \n",
      " https://www.yna.co.kr/view/PYH20230418155300013?input=1196m\n",
      "삼성전자, 밀라노 가구 박람회 참가…'비스포크' 가전 전시 \n",
      " http://www.newsis.com/view/?id=NISX20230417_0002268730&cID=13001&pID=13000\n",
      "삼성전자, '토일렛페이퍼'와 팝업 이벤트 개최 \n",
      " https://www.yna.co.kr/view/PYH20230418008200013?input=1196m\n",
      "삼성전자, 미 헬스케어 기술 전시회서 '삼성 헬스 스택' 공개 \n",
      " https://www.yna.co.kr/view/AKR20230418022300003?input=1195m\n",
      "삼성전자서비스, 장애인·고령자 위한 특화 서비스 강화 \n",
      " https://zdnet.co.kr/view/?no=20230419083943\n",
      "삼성전자, ‘2023 월드IT쇼’ 참가…‘갤S23’ 체험공간 구성 \n",
      " http://www.edaily.co.kr/news/newspath.asp?newsid=01981126635577760\n",
      "삼성전자, 흑역사 '4나노' 반전…TSMC 추격 발판 만들까 \n",
      " http://www.newsis.com/view/?id=NISX20230418_0002271587&cID=13001&pID=13000\n",
      "삼성전자, 美 기술 전시회서 ‘삼성 헬스 스택’ 공개 \n",
      " https://biz.chosun.com/it-science/ict/2023/04/18/WCIVD2B55RA6FCHZK5LCPELCLI/?utm_source=naver&utm_medium=original&utm_campaign=biz\n",
      "외국인, 삼성전자 등 대형주 담는다 \n",
      " http://www.newsis.com/view/?id=NISX20230418_0002270556&cID=15001&pID=15000\n",
      "\"혁신 기술 총집합\"…삼성·LG전자, 2023 월드IT쇼 참가 \n",
      " https://www.ajunews.com/view/20230419090110628\n"
     ]
    }
   ],
   "source": [
    "keyword=pyautogui.prompt(\"검색어 입력\")\n",
    "pagNum=1\n",
    "for i in range(1, 30, 10):\n",
    "    print(f\"========================{pagNum}페이지입니다=======================\")\n",
    "    res=req.get(f\"https://search.naver.com/search.naver?where=news&sm=tab_pge&query=%EC%82%BC%EC%84%B1%EC%A0%84%EC%9E%90&sort=0&photo=0&field=0&pd=0&ds=&de=&cluster_rank=104&mynews=0&office_type=0&office_section_code=0&news_office_checked=&nso=so:r,p:all,a:all&start={pagNum}\")\n",
    "    soup=bs(res.content,\"html.parser\")\n",
    "# select  \n",
    "    links=soup.select(\".news_tit\")\n",
    "    for i in links:\n",
    "        title=i.text\n",
    "        url=i.attrs['href']\n",
    "        print(title,\"\\n\",url)\n",
    "    pagNum+=1"
   ]
  },
  {
   "cell_type": "markdown",
   "id": "efebf5e8",
   "metadata": {},
   "source": [
    "## 주식 현재가 정보수집\n",
    "-https://finance.naver.com/item/sise.naver?code=015760\n",
    "\n",
    "-종목코드: 015760"
   ]
  },
  {
   "cell_type": "code",
   "execution_count": 30,
   "id": "6fb55842",
   "metadata": {},
   "outputs": [
    {
     "name": "stdout",
     "output_type": "stream",
     "text": [
      "18920\n"
     ]
    }
   ],
   "source": [
    "url=\"https://finance.naver.com/item/sise.naver?code=015760\"\n",
    "res=req.get(url)\n",
    "soup=bs(res.content, \"lxml\")\n",
    "price=soup.select_one(\"#_nowVal\").text\n",
    "price=price.replace(\",\",\"\")\n",
    "print(price)\n",
    "    "
   ]
  },
  {
   "cell_type": "code",
   "execution_count": 45,
   "id": "00478962",
   "metadata": {},
   "outputs": [
    {
     "name": "stdout",
     "output_type": "stream",
     "text": [
      "한국전력\n",
      "18780\n",
      "신세계\n",
      "219000\n",
      "하나금융지주\n",
      "42350\n",
      "삼성증권\n",
      "34650\n",
      "KT&G\n",
      "86000\n"
     ]
    }
   ],
   "source": [
    "codes = ['015760' ,'004170' ,'086790' ,'016360' ,'033780']\n",
    "# 반복문 사용후 시세 가져오기\n",
    "for code in codes:\n",
    "#for i in range(0, 4, 1):\n",
    "    url=f\"https://finance.naver.com/item/sise.naver?code={code}\"\n",
    "    res=req.get(url)\n",
    "    soup=bs(res.content, \"lxml\")\n",
    "    name=soup.select_one(\"div.wrap_company > h2 > a\").text\n",
    "    price=soup.select_one(\"#_nowVal\").text\n",
    "    price=price.replace(\",\",\"\")\n",
    "    print(name)\n",
    "    print(price)"
   ]
  },
  {
   "cell_type": "code",
   "execution_count": 41,
   "id": "32a8e6f3",
   "metadata": {},
   "outputs": [
    {
     "name": "stdout",
     "output_type": "stream",
     "text": [
      "제이름은dfs\n"
     ]
    }
   ],
   "source": [
    "name=\"dfs\"\n",
    "print(f\"제이름은{name}\")\n",
    "      "
   ]
  },
  {
   "cell_type": "code",
   "execution_count": 42,
   "id": "7e5d91e9",
   "metadata": {},
   "outputs": [
    {
     "name": "stdout",
     "output_type": "stream",
     "text": [
      "나는 coffee를 좋아하고 하루에 3잔씩 마십니다.\n"
     ]
    }
   ],
   "source": [
    "s=\"coffee\"\n",
    "num=3\n",
    "print(f\"나는 {s}를 좋아하고 하루에 {num}잔씩 마십니다.\")"
   ]
  },
  {
   "cell_type": "markdown",
   "id": "e0ae931c",
   "metadata": {},
   "source": [
    "## 네이버 종목시세 엑셀에 저장하기\n",
    "- openpyxl"
   ]
  },
  {
   "cell_type": "code",
   "execution_count": 47,
   "id": "db8fd0c1",
   "metadata": {},
   "outputs": [],
   "source": [
    "import openpyxl"
   ]
  },
  {
   "cell_type": "code",
   "execution_count": 48,
   "id": "09f7e389",
   "metadata": {},
   "outputs": [],
   "source": [
    "#1 엑셀 만들기\n",
    "wb = openpyxl.Workbook()\n",
    "#2 엑셀 워크시트 만들기\n",
    "ws=wb.create_sheet(\"네이버 주식\")\n",
    "#3 데이터 추가하기\n",
    "ws['A1']='종목'\n",
    "ws['B1']='현재가'\n",
    "ws['A2']='한국전력'\n",
    "ws['A3']='신세계'\n",
    "ws['A4']='하나금융지주'\n",
    "ws['A5']='삼성증권'\n",
    "ws['A6']='KT&G'\n",
    "# 엑셀 저장하기\n",
    "wb.save('stock.xlsx')"
   ]
  },
  {
   "cell_type": "code",
   "execution_count": 53,
   "id": "ab0d6d0e",
   "metadata": {},
   "outputs": [],
   "source": [
    "# 엑셀 불러오기\n",
    "wb=openpyxl.load_workbook('stock.xlsx')\n",
    "# 엑셀 시트 선택하기\n",
    "ws=wb['네이버 주식']\n",
    "#여러 종목의 시세를 가져와서 엑셀에 쓰기\n",
    "codes = ['015760' ,'004170' ,'086790' ,'016360' ,'033780']\n",
    "row=2\n",
    "for code in codes:\n",
    "#for i in range(0, 4, 1):\n",
    "    url=f\"https://finance.naver.com/item/sise.naver?code={code}\"\n",
    "    res=req.get(url)\n",
    "    soup=bs(res.content, \"lxml\")\n",
    "    price=soup.select_one(\"#_nowVal\").text\n",
    "    price=price.replace(\",\",\"\")\n",
    "    ws[f\"B{row}\"]=int(price)\n",
    "    row+=1\n",
    "wb.save('stock.xlsx')"
   ]
  },
  {
   "cell_type": "code",
   "execution_count": null,
   "id": "a84ab600",
   "metadata": {},
   "outputs": [],
   "source": []
  },
  {
   "cell_type": "code",
   "execution_count": null,
   "id": "a7a17993",
   "metadata": {},
   "outputs": [],
   "source": []
  },
  {
   "cell_type": "code",
   "execution_count": null,
   "id": "f4071da8",
   "metadata": {},
   "outputs": [],
   "source": []
  }
 ],
 "metadata": {
  "kernelspec": {
   "display_name": "Python 3 (ipykernel)",
   "language": "python",
   "name": "python3"
  },
  "language_info": {
   "codemirror_mode": {
    "name": "ipython",
    "version": 3
   },
   "file_extension": ".py",
   "mimetype": "text/x-python",
   "name": "python",
   "nbconvert_exporter": "python",
   "pygments_lexer": "ipython3",
   "version": "3.9.13"
  }
 },
 "nbformat": 4,
 "nbformat_minor": 5
}
