{
 "cells": [
  {
   "cell_type": "code",
   "execution_count": 7,
   "id": "66a7878c",
   "metadata": {
    "scrolled": false
   },
   "outputs": [
    {
     "name": "stdout",
     "output_type": "stream",
     "text": [
      "\"최고의 TV 경험\"…삼성전자, 런던·뉴욕에 게임 체험존 선봬 \n",
      " https://www.hankyung.com/economy/article/202304250223g\n",
      "[단독]“삼성전자 폴더블폰 180도 안 펴짐” 문제 쉬쉬…애니콜 화형식 정신 ... \n",
      " https://economist.co.kr/article/view/ecn202304250030\n",
      "삼성전자, '기후변화주간' 맞아 글로벌 소등 캠페인 \n",
      " http://www.newsis.com/view/?id=NISX20230425_0002279036&cID=13001&pID=13000\n",
      "포스코·삼성전자 \"불황극복 함께\" 기술협력도 강화 \n",
      " http://news.mt.co.kr/mtview.php?no=2023042509295265854\n"
     ]
    }
   ],
   "source": [
    "import requests as req\n",
    "from bs4 import BeautifulSoup as bs\n",
    "import pandas as pd\n",
    "res=req.get(\"https://search.naver.com/search.naver?where=nexearch&sm=top_hty&fbm=1&ie=utf8&query=%EC%82%BC%EC%84%B1%EC%A0%84%EC%9E%90\")\n",
    "soup=bs(res.content,\"html.parser\")\n",
    "# select  \n",
    "links=soup.select(\".news_tit\")\n",
    "for i in links:\n",
    "    title=i.text\n",
    "    url=i.attrs['href']\n",
    "    print(title,\"\\n\",url)"
   ]
  },
  {
   "cell_type": "code",
   "execution_count": 22,
   "id": "e3e3a9f5",
   "metadata": {},
   "outputs": [
    {
     "name": "stdout",
     "output_type": "stream",
     "text": [
      "Requirement already satisfied: pyautogui in c:\\users\\mac012\\anaconda3\\lib\\site-packages (0.9.53)\n",
      "Requirement already satisfied: pygetwindow>=0.0.5 in c:\\users\\mac012\\anaconda3\\lib\\site-packages (from pyautogui) (0.0.9)\n",
      "Requirement already satisfied: pymsgbox in c:\\users\\mac012\\anaconda3\\lib\\site-packages (from pyautogui) (1.0.9)\n",
      "Requirement already satisfied: pyscreeze>=0.1.21 in c:\\users\\mac012\\anaconda3\\lib\\site-packages (from pyautogui) (0.1.28)\n",
      "Requirement already satisfied: mouseinfo in c:\\users\\mac012\\anaconda3\\lib\\site-packages (from pyautogui) (0.1.3)\n",
      "Requirement already satisfied: PyTweening>=1.0.1 in c:\\users\\mac012\\anaconda3\\lib\\site-packages (from pyautogui) (1.0.4)\n",
      "Requirement already satisfied: pyrect in c:\\users\\mac012\\anaconda3\\lib\\site-packages (from pygetwindow>=0.0.5->pyautogui) (0.2.0)\n",
      "Requirement already satisfied: pyperclip in c:\\users\\mac012\\anaconda3\\lib\\site-packages (from mouseinfo->pyautogui) (1.8.2)\n"
     ]
    }
   ],
   "source": [
    "!pip install pyautogui"
   ]
  },
  {
   "cell_type": "code",
   "execution_count": 23,
   "id": "edf40102",
   "metadata": {},
   "outputs": [],
   "source": [
    "import pyautogui"
   ]
  },
  {
   "cell_type": "code",
   "execution_count": 27,
   "id": "8a76040a",
   "metadata": {},
   "outputs": [],
   "source": [
    "import requests as req\n",
    "from bs4 import BeautifulSoup as bs\n",
    "import pandas as pd"
   ]
  },
  {
   "cell_type": "code",
   "execution_count": 30,
   "id": "00704735",
   "metadata": {},
   "outputs": [
    {
     "name": "stdout",
     "output_type": "stream",
     "text": [
      "[<a class=\"news_tit\" href=\"https://www.hankyung.com/economy/article/202304250388g\" onclick=\"return goOtherCR(this, 'a=nws_all*h.tit&amp;r=1&amp;i=88000107_000000000000000004836748&amp;g=015.0004836748&amp;u='+urlencode(this.href));\" target=\"_blank\" title=\"LG엔솔 '마더 라인' 구축…오창 에너지플랜트에 6000억 투자\"><mark>LG</mark>엔솔 '마더 라인' 구축…오창 에너지플랜트에 6000억 투자</a>, <a class=\"news_tit\" href=\"https://www.news1.kr/articles/5026540\" onclick=\"return goOtherCR(this, 'a=nws_all*h.tit&amp;r=4&amp;i=08138263_000000000000000006768188&amp;g=421.0006768188&amp;u='+urlencode(this.href));\" target=\"_blank\" title=\"'LG서 분가' 구본준號 LX, 2년만에 대기업집단으로…재계 44위\">'<mark>LG</mark>서 분가' 구본준號 LX, 2년만에 대기업집단으로…재계 44위</a>, <a class=\"news_tit\" href=\"https://www.yna.co.kr/view/PYH20230424008200013?input=1196m\" onclick=\"return goOtherCR(this, 'a=nws_all*e.tit&amp;r=7&amp;i=880000D8_000000000000000013898456&amp;g=001.0013898456&amp;u='+urlencode(this.href));\" target=\"_blank\" title=\"LG마그나, '전기자동차 체험교실' 개최\"><mark>LG</mark>마그나, '전기자동차 체험교실' 개최</a>, <a class=\"news_tit\" href=\"https://www.etoday.co.kr/news/view/2243563\" onclick=\"return goOtherCR(this, 'a=nws_all*b.tit&amp;r=8&amp;i=88000393_000000000000000001844410&amp;g=5003.0001844410&amp;u='+urlencode(this.href));\" target=\"_blank\" title=\"LG전자 임직원들 헌혈증 기부 릴레이\"><mark>LG</mark>전자 임직원들 헌혈증 기부 릴레이</a>]\n",
      "LG엔솔 '마더 라인' 구축…오창 에너지플랜트에 6000억 투자 \n",
      " https://www.hankyung.com/economy/article/202304250388g\n",
      "'LG서 분가' 구본준號 LX, 2년만에 대기업집단으로…재계 44위 \n",
      " https://www.news1.kr/articles/5026540\n",
      "LG마그나, '전기자동차 체험교실' 개최 \n",
      " https://www.yna.co.kr/view/PYH20230424008200013?input=1196m\n",
      "LG전자 임직원들 헌혈증 기부 릴레이 \n",
      " https://www.etoday.co.kr/news/view/2243563\n"
     ]
    }
   ],
   "source": [
    "keyword=pyautogui.prompt(\"검색어 입력\")\n",
    "#keyword=input(\"검색어 입력\")\n",
    "res=req.get(\"https://search.naver.com/search.naver?where=nexearch&sm=top_hty&fbm=1&ie=utf8&query=\"+keyword)\n",
    "soup=bs(res.content,\"html.parser\")\n",
    "# select  \n",
    "links=soup.select(\".news_tit\")\n",
    "# print(links)\n",
    "for i in links:\n",
    "    title=i.text\n",
    "    url=i.attrs['href']\n",
    "    print(title,\"\\n\",url)"
   ]
  },
  {
   "cell_type": "code",
   "execution_count": 26,
   "id": "8ce7cdb3",
   "metadata": {},
   "outputs": [
    {
     "name": "stdout",
     "output_type": "stream",
     "text": [
      "\"최고의 TV 경험\"…삼성전자, 런던·뉴욕에 게임 체험존 선봬 \n",
      " https://www.hankyung.com/economy/article/202304250223g\n",
      "[단독]“삼성전자 폴더블폰 180도 안 펴짐” 문제 쉬쉬…애니콜 화형식 정신 ... \n",
      " https://economist.co.kr/article/view/ecn202304250030\n",
      "삼성바이오에피스, 미국서 안질환 바이오시밀러 3상 데이터 공개 \n",
      " http://moneys.mt.co.kr/news/mwView.php?no=2023042508544044566\n",
      "한은 \"삼성전자 반도체 감산 조치 적절\" \n",
      " http://www.inews24.com/view/1588574\n"
     ]
    }
   ],
   "source": [
    "keyword=pyautogui.prompt(\"검색어 입력\")\n",
    "#keyword=input(\"검색어 입력\")\n",
    "res=req.get(f\"https://search.naver.com/search.naver?where=nexearch&sm=top_hty&fbm=1&ie=utf8&query={keyword}\")\n",
    "soup=bs(res.content,\"html.parser\")\n",
    "# select  \n",
    "links=soup.select(\".news_tit\")\n",
    "for i in links:\n",
    "    title=i.text\n",
    "    url=i.attrs['href']\n",
    "    print(title,\"\\n\",url)"
   ]
  },
  {
   "cell_type": "markdown",
   "id": "021ee852",
   "metadata": {},
   "source": [
    "## 여러 페이지 가져오기"
   ]
  },
  {
   "cell_type": "code",
   "execution_count": 32,
   "id": "e86d18be",
   "metadata": {},
   "outputs": [
    {
     "name": "stdout",
     "output_type": "stream",
     "text": [
      "'LG서 분가' 구본준號 LX, 2년만에 대기업집단으로…재계 44위 \n",
      " https://www.news1.kr/articles/5026540\n",
      "LG엔솔 '마더 라인' 구축…오창 에너지플랜트에 6000억 투자 \n",
      " https://www.hankyung.com/economy/article/202304250388g\n",
      "LG마그나, '전기자동차 체험교실' 개최 \n",
      " https://www.yna.co.kr/view/PYH20230424008200013?input=1196m\n",
      "LG전자 임직원들 헌혈증 기부 릴레이 \n",
      " https://www.etoday.co.kr/news/view/2243563\n",
      "LG전자, 국내 9개 사업장서 '헌혈증' 기부 릴레이 \n",
      " http://www.newsis.com/view/?id=NISX20230425_0002279185&cID=13001&pID=13000\n",
      "대한적십자사, LG헬로비전와 업무협약 \n",
      " https://zdnet.co.kr/view/?no=20230425115425\n",
      "LGU+, 서빙로봇 출시···최대 40kg 운반 \n",
      " http://sports.khan.co.kr/news/sk_index.html?art_id=202304251056003&sec_id=561101&pt=nv\n",
      "신형 LG 클로이 나왔다 \n",
      " https://www.econovill.com/news/articleView.html?idxno=609880\n",
      "LX, LG서 독립 2년만에 대기업으로…재계 44위 안착 \n",
      " https://magazine.hankyung.com/business/article/202304251754b\n",
      "LG유플러스, 신형 LG 클로이 ‘U+서빙로봇’ 출시 \n",
      " https://economist.co.kr/article/view/ecn202304250008\n",
      "LG에너지솔루션, 오창 에너지플랜트에 6000억원 투자...'마더 라인' 구축 \n",
      " https://www.bloter.net/news/articleView.html?idxno=600973\n",
      "LG 트윈스, 26일 잠실 SSG전에서 팔로워 애칭 공모전 당선자 시구 \n",
      " https://www.starnewskorea.com/stview.php?no=2023042510340254729\n",
      "'도루 성공률 최하위' LG 감독 \"잃은 것보다 얻은 게 많아\" \n",
      " https://www.yna.co.kr/view/AKR20230425153300007?input=1195m\n",
      "삼성·LG도 반한 전자세정…국세청, 홈택스 수출 \n",
      " https://www.hankyung.com/finance/article/202304251016i\n",
      "\"TV·냉장고만 팔아선 생존 못한다\"…'가전의 LG' 환골탈태 \n",
      " https://www.hankyung.com/economy/article/2023042495271\n",
      "LG유플러스, 6G 커버리지 확장 기술 실증 \n",
      " https://www.etnews.com/20230424000262\n",
      "[초점] \"이건 韓에 안될 걸?\"…자체 부품 늘리는 애플, 삼성·LG 찾는 이유 \n",
      " http://www.inews24.com/view/1588632\n",
      "배터리 개발·검증 국내서..LG엔솔, 오창 마더팩토리化 가속도 \n",
      " http://news.mt.co.kr/mtview.php?no=2023042508024896617\n",
      "현대차와 K드림팀 띄운다...LG엔솔·SK온 美 공략 강화 \n",
      " http://news.mt.co.kr/mtview.php?no=2023042513133177611\n",
      "\"지능형거울 기술 선점\"…LGU+, 6G 시대 준비 '순항'(종합) \n",
      " https://www.dailian.co.kr/news/view/1226411/?sc=Naver\n",
      "키움 안우진-LG 오스틴, 4월 ‘쉘힐릭스플레이어’ 투타 선두 \n",
      " https://sports.donga.com/article/all/20230425/118998205/1\n",
      "LG마그나, 초등학교서 전기차 체험교실 개최 \n",
      " https://www.yna.co.kr/view/AKR20230424016900003?input=1195m\n",
      "'공동 1위' 김혜성-박민우 그리고 '뛰는 LG'…흥미로운 초반 '대도 레이스' \n",
      " https://www.news1.kr/articles/5026438\n",
      "100%인 적 없는 LG 타선, 꽉 차 보이게 만드는 ‘오스틴 파워’ \n",
      " http://sports.khan.co.kr/news/sk_index.html?art_id=202304251504003&sec_id=510201&pt=nv\n",
      "LX그룹, LG서 독립 2년만에 대기업집단 지정 \n",
      " http://www.dt.co.kr/contents.html?article_no=2023042502109958063006&ref=naver\n",
      "\"6G 시대, 우리가 먼저\"…LGU+ '주파수 커버리지 확장' 기술 개발 \n",
      " http://www.newsis.com/view/?id=NISX20230424_0002277607&cID=10406&pID=13100\n",
      "LG이노텍 초박형 자성부품 '넥슬림' 美 에디슨 어워즈 수상 \n",
      " https://www.yna.co.kr/view/AKR20230424019000003?input=1195m\n",
      "LG이노텍, 美 최고 권위 발명상 받았다 \n",
      " https://www.mk.co.kr/article/10719965\n",
      "LG전자 노경, 사내 헌혈행사 재개…1000장 기부 돌파 \n",
      " http://www.shinailbo.co.kr/news/articleView.html?idxno=1693443\n",
      "창문형 에어컨 시장 3년간 10배 커지자…삼성·LG도 눈독[biz-플러스] \n",
      " https://www.sedaily.com/NewsView/29OFTL0AYR\n",
      "SK온·LG엔솔, 현대차 美배터리 합작공장 구체적 방안 나오나 \n",
      " http://www.newspim.com/news/view/20230425000400\n",
      "LG, ‘잠실 예수’ 앞세워 1위 탈환 노린다 \n",
      " https://www.mk.co.kr/article/10720689\n",
      "[IS 이슈] '타격 8관왕' LG, '홈런 2위' 두산...작전 야구 하는 게 맞나요? \n",
      " https://isplus.com/article/view/isp202304250072\n",
      "[통신 소식] SK텔레콤·KT·LG유플러스 外 \n",
      " https://www.asiatime.co.kr/article/20230425500102\n",
      "LG, 김현수 허리 통증으로 선발 제외 \"최소 이틀 완전 휴식\" \n",
      " https://www.xportsnews.com/article/1716634\n",
      "LG에너지솔루션, '오창 에너지플랜트'에 6천억원 투자…'마더 라인' 구축 \n",
      " https://biz.sbs.co.kr/article_hub/20000114940?division=NAVER\n",
      "“전기차가 뭘까요?” 일일 초등교사 된 LG마그나 직원들 \n",
      " https://biz.chosun.com/it-science/ict/2023/04/24/CDOCZPOWLRGLTI4NY4MIE346X4/?utm_source=naver&utm_medium=original&utm_campaign=biz\n",
      "LG전자, 국내 9개 사업장서 헌혈증 기부 릴레이 진행 \n",
      " https://www.cstimes.com/news/articleView.html?idxno=541337\n",
      "LG에너지솔루션, 오창에 6000억 투자해 '마더 팩토리' 구축 \n",
      " https://www.asiatoday.co.kr/view.php?key=20230425010014204\n",
      "LGU+, 신형 'U+서빙로봇' 출시… 모바일 앱도 만든다 \n",
      " https://www.ebn.co.kr/news/view/1575249/?sc=Naver\n",
      "LGU+ \"6G 주파수 대역 뒷받침하는 RIS 기술 개발 성공\" \n",
      " http://www.fnnews.com/news/202304241132170965\n",
      "LG전자, 임직원 헌혈증 기부 릴레이 진행 \n",
      " http://www.finomy.com/news/articleView.html?idxno=129020\n",
      "LG U+, LG클로이 서브봇 활용해 'U+서빙로봇' 서비스 출시 \n",
      " http://www.metroseoul.co.kr/article/20230425500244\n",
      "LG엔솔, 오창 에너지플랜트 6천억 투자 \n",
      " http://amenews.kr/news/view.php?idx=53429\n",
      "LGU+·포항공대, 6G 핵심 주파수 기술 실증 성공 \n",
      " https://isplus.com/article/view/isp202304240035\n",
      "LG유플러스, 신형 LG 클로이 'U+서빙로봇' 출시 \n",
      " http://www.paxetv.com/news/articleView.html?idxno=174243\n",
      "LG엔솔, 오창에 6000억 투자…기술 허브 ‘마더' 키운다 \n",
      " https://www.viva100.com/main/view.php?key=20230425010007476\n",
      "LG마그나, 인천 초등학교서 전기차 체험교실 운영 \n",
      " https://isplus.com/article/view/isp202304240160\n",
      "LG엔솔, 오창 에너지플랜트 글로벌 기술 허브 만든다 \n",
      " http://www.m-i.kr/news/articleView.html?idxno=1007890\n",
      "LG전자, 국내 9개 사업장서 헌혈증 기부 릴레이 \n",
      " https://view.asiae.co.kr/article/2023042507502842731\n",
      "LX그룹, LG 분가 2년 만에 재계 44위 대기업으로 성장 \n",
      " https://www.smartfn.co.kr/article/view/sfn202304250065\n",
      "LG이노텍, 초슬림 모듈용 부품으로 美 에디슨 어워즈 수상 \n",
      " http://www.edaily.co.kr/news/newspath.asp?newsid=01554726635579400\n",
      "\"노사가 뜻 모았다\"...LG전자, 헌혈증 기부 릴레이 \n",
      " http://www.paxetv.com/news/articleView.html?idxno=174328\n",
      "LG전자, 헌혈증 기부 릴레이 27일까지 진행…임직원 자발적 참여 이어져 \n",
      " https://www.viva100.com/main/view.php?key=20230425010007572\n",
      "\"6G 핵심기술 확보\"...LGU+, 차세대 네트워크 기술 경쟁 '시동' \n",
      " http://news.mt.co.kr/mtview.php?no=2023042409312775125\n",
      "LG유플·포항공대, 6G 서비스 위한 주파수 커버리지 확장 기술 개발 \n",
      " https://www.mk.co.kr/article/10720096\n",
      "포스코, 5대그룹 우뚝…자산기준 삼성 SK 현대차 LG 순 \n",
      " https://magazine.hankyung.com/business/article/202304251334b\n",
      "LGU+, 신형 LG 클로이 활용 ‘U+서빙로봇’ 출시 \n",
      " https://www.ddaily.co.kr/news/article.html?no=262547\n",
      "TV·냉장고만큼 커지는 로봇·솔루션…'LG 간판사업' 확 바뀐다 \n",
      " https://www.hankyung.com/economy/article/2023042494531\n",
      "LG엔솔, 오창 에너지플랜트 6000억 투자…'마더팩토리' 육성 \n",
      " http://www.shinailbo.co.kr/news/articleView.html?idxno=1693375\n",
      "LG마그나, 인천 청람초서 전기차 체험교실 열어 \n",
      " https://it.chosun.com/site/data/html_dir/2023/04/24/2023042400904.html\n",
      "LG전자, 국내 9개 사업장에서 헌혈증 기부 릴레이 \n",
      " http://www.4th.kr/news/articleView.html?idxno=2038291\n",
      "LG전자, 노경 뜻 모아 헌혈증 기부 릴레이 진행...따뜻한 사랑 모아 전한다 \n",
      " http://www.nextdaily.co.kr/news/articleView.html?idxno=217996\n",
      "LG엔솔, 오창 ‘마더 팩토리 프로젝트’에 4조 6000억 투자 \n",
      " https://www.hellot.net/news/article.html?no=77379\n",
      "대한적십자사-LG헬로비전, 인도주의 사업 상호 협력 MOU 체결 \n",
      " https://www.venturesquare.net/878894\n",
      "LGU+, 차세대 '6G 커버리지' 확대 기술 실증 \n",
      " https://biz.newdaily.co.kr/site/data/html/2023/04/24/2023042400032.html\n",
      "LG유플러스, 클로이 3세대 활용한 'U+서빙로봇' 출시 \n",
      " http://www.smedaily.co.kr/news/articleView.html?idxno=255326\n",
      "LG엔솔 오창 에너지플랜트, 마더팩토리 육성 본격화 \n",
      " http://www.businesskorea.co.kr/news/articleView.html?idxno=113464\n",
      "\"중계기 없이 음영지역 해소\"…LGU+ 차세대 네트워크 기술 선점 \n",
      " http://news.mt.co.kr/mtview.php?no=2023042412283913529\n",
      "LG전자, 국내 9개 사업장서 헌혈증 기부 릴레이 진행 \n",
      " https://www.ziksir.com/news/articleView.html?idxno=36333\n",
      "로이터 \"GM, 삼성SDI와 배터리 공장 설립 계획\"…LG엔솔 자리 채우나 \n",
      " https://www.ajunews.com/view/20230425072838189\n",
      "LG에너지솔루션, 오창 에너지 플랜트 글로벌 기술 허브로 육성 \n",
      " http://www.sisafocus.co.kr/news/articleView.html?idxno=296163\n",
      "LG유플러스, 신형 LG 클로이 ‘U+서빙로봇’ 출시 \n",
      " https://www.nspna.com/news/?mode=view&newsid=633806\n",
      "LG유플러스 “6G시대 주파수 커버리지 확장 기술 실증” \n",
      " http://news.heraldcorp.com/view.php?ud=20230424000449\n",
      "[천병혁의 야구세상] '닥치고 도루' 유례없는 LG의 '발야구', 과연 득실은? \n",
      " https://www.yna.co.kr/view/AKR20230421012000007?input=1195m\n",
      "LG U+, 신형 LG 클로이 'U+서빙로봇' 출시 \n",
      " https://www.ziksir.com/news/articleView.html?idxno=36343\n",
      "LG마그나, 초등생 대상 ‘전기자동차 체험교실’ \n",
      " http://news.heraldcorp.com/view.php?ud=20230424000421\n",
      "LG유플러스, 신형 클로이 'U+서빙로봇' 출시 \n",
      " https://www.delighti.co.kr/news/articleView.html?idxno=53944\n",
      "LG이노텍, 초대형·초슬림 TV 핵심 기술로 美 최고 권위 ‘에디슨 어워즈’ 수... \n",
      " https://economist.co.kr/article/view/ecn202304240019\n",
      "[통신 소식] SK텔레콤·KT·LG유플러스 外 \n",
      " https://www.asiatime.co.kr/article/20230424500142\n",
      "LG전자, 임직원 헌혈증 기부 릴레이 진행 \n",
      " http://www.asiaa.co.kr/news/articleView.html?idxno=123159\n",
      "LG전자, 국내 9개 사업장서 ‘헌혈증 기부 릴레이’ 펼쳐 \n",
      " https://www.news2day.co.kr/article/20230425500083\n",
      "LG마그나, \"전기차의 미래 만들 꿈나무 키워요\" \n",
      " http://www.financialreview.co.kr/news/articleView.html?idxno=24142\n",
      "LG전자 노사, 헌혈증 릴레이 기부 \n",
      " http://www.popcornnews.net/news/articleView.html?idxno=38873\n",
      "LG전자, 勞使 합심해 희귀질환 어린이 '헌혈증 기부 캠페인' 진행 \n",
      " http://www.meconomynews.com/news/articleView.html?idxno=77067\n",
      "LG엔솔, 오창 에너지플랜트에 6000억 원 투자… ‘마더 라인’ 구축 \n",
      " http://www.skyedaily.com/news/news_view.html?ID=189700\n",
      "부품 독립 장담한 애플, 삼성-LG 디스플레이 의존도 60% 이상 차지! \n",
      " https://kr.aving.net/news/articleView.html?idxno=1778575\n",
      "LG유플러스, 11시간 주행하는 서빙로봇 서비스 출시 \n",
      " http://news.bizwatch.co.kr/article/mobile/2023/04/25/0029\n",
      "한걸음 다가온 6G…LGU+, ‘타일’ 한 장에 전파 흐름 내 맘대로 \n",
      " https://www.sedaily.com/NewsView/29OFFGR6D1\n",
      "LG유플러스, 신형 LG 클로이 'U+ 서빙 로봇' 출시 \n",
      " http://www.wolyo.co.kr/news/articleView.html?idxno=223511\n"
     ]
    }
   ],
   "source": [
    "keyword=pyautogui.prompt(\"검색어 입력\")\n",
    "#keyword=input(\"검색어 입력\")\n",
    "#( 첫번째 숫자, 최대값, 더하는 값)\n",
    "for i in range(1, 91, 10):\n",
    "    res=req.get(f\"https://search.naver.com/search.naver?where=news&sm=tab_pge&query={keyword}&sort=0&photo=0&field=0&pd=0&ds=&de=&cluster_rank=104&mynews=0&office_type=0&office_section_code=0&news_office_checked=&nso=so:r,p:all,a:all&start={i}\")\n",
    "    soup=bs(res.content,\"html.parser\")\n",
    "# select  \n",
    "    links=soup.select(\".news_tit\")\n",
    "    for i in links:\n",
    "        title=i.text\n",
    "        url=i.attrs['href']\n",
    "        print(title,\"\\n\",url)"
   ]
  },
  {
   "cell_type": "code",
   "execution_count": 35,
   "id": "a2804e77",
   "metadata": {},
   "outputs": [
    {
     "name": "stdout",
     "output_type": "stream",
     "text": [
      "========================1페이지입니다=======================\n",
      "\"최고의 TV 경험\"…삼성전자, 런던·뉴욕에 게임 체험존 선봬 \n",
      " https://www.hankyung.com/economy/article/202304250223g\n",
      "[단독]“삼성전자 폴더블폰 180도 안 펴짐” 문제 쉬쉬…애니콜 화형식 정신 ... \n",
      " https://economist.co.kr/article/view/ecn202304250030\n",
      "포스코-삼성전자, 철강재 3년 계약…기술 협력 강화 \n",
      " http://www.newsis.com/view/?id=NISX20230425_0002280082&cID=13001&pID=13000\n",
      "\"지구야 아프지마\" 삼성전자 글로벌 소등 캠페인 \n",
      " http://www.fnnews.com/news/202304250956018703\n",
      "한은 \"삼성전자 반도체 감산 조치 적절\" \n",
      " http://www.inews24.com/view/1588574\n",
      "삼성전자, 10분 소등으로 소나무 770그루 1년치 CO2흡수량 절감 \n",
      " https://www.yna.co.kr/view/AKR20230425025400003?input=1195m\n",
      "삼성전자, MS와 런던∙뉴욕에 게이밍 허브 체험존 열어 \n",
      " https://biz.chosun.com/it-science/ict/2023/04/25/QFF5VL3QM5EVNIC57OJ7JXVSCM/?utm_source=naver&utm_medium=original&utm_campaign=biz\n",
      "현대차, 영업익 상장사 첫 1위 기록…삼성전자 제쳤다 \n",
      " http://news.tf.co.kr/read/economy/2014022.htm\n",
      "[주가동향] 삼성전자, 재고 정점 및 주가 상승은 2분기부터 \n",
      " http://www.joseilbo.com/news/news_read.php?uid=484790&class=53&grp=\n",
      "삼성전자, ‘미·중 대결’에 서서히 빨려 들어가나 \n",
      " https://news.kbs.co.kr/news/view.do?ncd=7659129&ref=A\n",
      "========================2페이지입니다=======================\n",
      "[단독]“삼성전자 폴더블폰 180도 안 펴짐” 문제 쉬쉬…애니콜 화형식 정신 ... \n",
      " https://economist.co.kr/article/view/ecn202304250030\n",
      "포스코-삼성전자, 철강재 3년 계약…기술 협력 강화 \n",
      " http://www.newsis.com/view/?id=NISX20230425_0002280082&cID=13001&pID=13000\n",
      "삼성전자, '기후변화주간' 맞아 글로벌 소등 캠페인 \n",
      " http://www.newsis.com/view/?id=NISX20230425_0002279036&cID=13001&pID=13000\n",
      "한은 \"삼성전자 반도체 감산 조치 적절\" \n",
      " http://www.inews24.com/view/1588574\n",
      "삼성전자, 10분 소등으로 소나무 770그루 1년치 CO2흡수량 절감 \n",
      " https://www.yna.co.kr/view/AKR20230425025400003?input=1195m\n",
      "삼성전자, MS와 런던∙뉴욕에 게이밍 허브 체험존 열어 \n",
      " https://biz.chosun.com/it-science/ict/2023/04/25/QFF5VL3QM5EVNIC57OJ7JXVSCM/?utm_source=naver&utm_medium=original&utm_campaign=biz\n",
      "삼성전자 추월한 현대차...1분기 영업이익 3조6000억원 \n",
      " https://economist.co.kr/article/view/ecn202304250032\n",
      "KB증권 \"삼성전자 감산규모 기대 이상…2분기가 재고 정점\" \n",
      " https://www.yna.co.kr/view/AKR20230425029000002?input=1195m\n",
      "삼성전자, ‘미·중 대결’에 서서히 빨려 들어가나 \n",
      " https://news.kbs.co.kr/news/view.do?ncd=7659129&ref=A\n",
      "삼성전자, '얼루어 그린 캠페인' 참가...ESG 푸드 라이프 알린다 \n",
      " https://zdnet.co.kr/view/?no=20230424092552\n",
      "========================3페이지입니다=======================\n",
      "포스코-삼성전자, 철강재 3년 계약…기술 협력 강화 \n",
      " http://www.newsis.com/view/?id=NISX20230425_0002280082&cID=13001&pID=13000\n",
      "삼성전자, '기후변화주간' 맞아 글로벌 소등 캠페인 \n",
      " http://www.newsis.com/view/?id=NISX20230425_0002279036&cID=13001&pID=13000\n",
      "한은 \"삼성전자 반도체 감산 조치 적절\" \n",
      " http://www.inews24.com/view/1588574\n",
      "삼성전자, 10분 소등으로 소나무 770그루 1년치 CO2흡수량 절감 \n",
      " https://www.yna.co.kr/view/AKR20230425025400003?input=1195m\n",
      "삼성전자, MS와 런던∙뉴욕에 게이밍 허브 체험존 열어 \n",
      " https://biz.chosun.com/it-science/ict/2023/04/25/QFF5VL3QM5EVNIC57OJ7JXVSCM/?utm_source=naver&utm_medium=original&utm_campaign=biz\n",
      "삼성전자 추월한 현대차...1분기 영업이익 3조6000억원 \n",
      " https://economist.co.kr/article/view/ecn202304250032\n",
      "KB증권 \"삼성전자 감산규모 기대 이상…2분기가 재고 정점\" \n",
      " https://www.yna.co.kr/view/AKR20230425029000002?input=1195m\n",
      "삼성전자, ‘미·중 대결’에 서서히 빨려 들어가나 \n",
      " https://news.kbs.co.kr/news/view.do?ncd=7659129&ref=A\n",
      "삼성전자, '얼루어 그린 캠페인' 참가...ESG 푸드 라이프 알린다 \n",
      " https://zdnet.co.kr/view/?no=20230424092552\n",
      "삼성전자, MS와 함께 런던·뉴욕 중심가에 게이밍 허브 체험 공간 마련 \n",
      " https://www.yna.co.kr/view/PYH20230425017300013?input=1196m\n"
     ]
    }
   ],
   "source": [
    "keyword=pyautogui.prompt(\"검색어 입력\")\n",
    "pagNum=1\n",
    "for i in range(1, 30, 10):\n",
    "    print(f\"========================{pagNum}페이지입니다=======================\")\n",
    "    res=req.get(f\"https://search.naver.com/search.naver?where=news&sm=tab_pge&query={keyword}&sort=0&photo=0&field=0&pd=0&ds=&de=&cluster_rank=104&mynews=0&office_type=0&office_section_code=0&news_office_checked=&nso=so:r,p:all,a:all&start={pagNum}\")\n",
    "    soup=bs(res.content,\"html.parser\")\n",
    "# select  \n",
    "    links=soup.select(\".news_tit\")\n",
    "    for i in links:\n",
    "        title=i.text\n",
    "        url=i.attrs['href']\n",
    "        print(title,\"\\n\",url)\n",
    "    pagNum+=1"
   ]
  },
  {
   "cell_type": "markdown",
   "id": "efebf5e8",
   "metadata": {},
   "source": [
    "## 주식 현재가 정보수집\n",
    "-https://finance.naver.com/item/sise.naver?code=015760\n",
    "\n",
    "-종목코드: 015760"
   ]
  },
  {
   "cell_type": "code",
   "execution_count": 15,
   "id": "6fb55842",
   "metadata": {},
   "outputs": [
    {
     "name": "stdout",
     "output_type": "stream",
     "text": [
      "18560\n"
     ]
    }
   ],
   "source": [
    "url=\"https://finance.naver.com/item/sise.naver?code=015760\"\n",
    "res=req.get(url)\n",
    "soup=bs(res.content, \"lxml\")\n",
    "price=soup.select_one(\"#_nowVal\").text\n",
    "price=price.replace(\",\",\"\")\n",
    "print(price)\n",
    "    "
   ]
  },
  {
   "cell_type": "code",
   "execution_count": 16,
   "id": "00478962",
   "metadata": {},
   "outputs": [
    {
     "name": "stdout",
     "output_type": "stream",
     "text": [
      "한국전력\n",
      "18560\n",
      "신세계\n",
      "203000\n",
      "하나금융지주\n",
      "42100\n",
      "삼성증권\n",
      "34250\n",
      "KT&G\n",
      "86000\n"
     ]
    }
   ],
   "source": [
    "codes = ['015760' ,'004170' ,'086790' ,'016360' ,'033780']\n",
    "# 반복문 사용후 시세 가져오기\n",
    "for code in codes:\n",
    "#for i in range(0, 4, 1):\n",
    "    url=f\"https://finance.naver.com/item/sise.naver?code={code}\"\n",
    "    res=req.get(url)\n",
    "    soup=bs(res.content, \"lxml\")\n",
    "    name=soup.select_one(\"div.wrap_company > h2 > a\").text\n",
    "    price=soup.select_one(\"#_nowVal\").text\n",
    "    price=price.replace(\",\",\"\")\n",
    "    print(name)\n",
    "    print(price)"
   ]
  },
  {
   "cell_type": "code",
   "execution_count": 17,
   "id": "32a8e6f3",
   "metadata": {},
   "outputs": [
    {
     "name": "stdout",
     "output_type": "stream",
     "text": [
      "제이름은dfs\n"
     ]
    }
   ],
   "source": [
    "name=\"dfs\"\n",
    "print(f\"제이름은{name}\")\n",
    "      "
   ]
  },
  {
   "cell_type": "code",
   "execution_count": 18,
   "id": "7e5d91e9",
   "metadata": {},
   "outputs": [
    {
     "name": "stdout",
     "output_type": "stream",
     "text": [
      "나는 coffee를 좋아하고 하루에 3잔씩 마십니다.\n"
     ]
    }
   ],
   "source": [
    "s=\"coffee\"\n",
    "num=3\n",
    "print(f\"나는 {s}를 좋아하고 하루에 {num}잔씩 마십니다.\")"
   ]
  },
  {
   "cell_type": "markdown",
   "id": "e0ae931c",
   "metadata": {},
   "source": [
    "## 네이버 종목시세 엑셀에 저장하기\n",
    "- openpyxl"
   ]
  },
  {
   "cell_type": "code",
   "execution_count": 19,
   "id": "db8fd0c1",
   "metadata": {},
   "outputs": [],
   "source": [
    "import openpyxl"
   ]
  },
  {
   "cell_type": "code",
   "execution_count": 38,
   "id": "09f7e389",
   "metadata": {},
   "outputs": [],
   "source": [
    "#1 엑셀 만들기\n",
    "wb = openpyxl.Workbook()\n",
    "#2 엑셀 워크시트 만들기\n",
    "ws=wb.create_sheet(\"네이버 주식\")\n",
    "#3 데이터 추가하기\n",
    "ws['A1']='종목'\n",
    "ws['B1']='현재가'\n",
    "ws['A2']='한국전력'\n",
    "ws['A3']='신세계'\n",
    "ws['A4']='하나금융지주'\n",
    "ws['A5']='삼성증권'\n",
    "ws['A6']='KT&G'\n",
    "# 엑셀 저장하기\n",
    "wb.save('stock.xlsx')"
   ]
  },
  {
   "cell_type": "code",
   "execution_count": 39,
   "id": "ab0d6d0e",
   "metadata": {},
   "outputs": [],
   "source": [
    "# 엑셀 불러오기\n",
    "wb=openpyxl.load_workbook('stock.xlsx')\n",
    "# 엑셀 시트 선택하기\n",
    "ws=wb['네이버 주식']\n",
    "#여러 종목의 시세를 가져와서 엑셀에 쓰기\n",
    "codes = ['015760' ,'004170' ,'086790' ,'016360' ,'033780']\n",
    "row=2\n",
    "for code in codes:\n",
    "#for i in range(0, 4, 1):\n",
    "    url=f\"https://finance.naver.com/item/sise.naver?code={code}\"\n",
    "    res=req.get(url)\n",
    "    soup=bs(res.content, \"lxml\")\n",
    "    price=soup.select_one(\"#_nowVal\").text\n",
    "    price=price.replace(\",\",\"\")\n",
    "    ws[f\"B{row}\"]=int(price)\n",
    "    row+=1\n",
    "wb.save('stock.xlsx')"
   ]
  },
  {
   "cell_type": "code",
   "execution_count": null,
   "id": "a84ab600",
   "metadata": {},
   "outputs": [],
   "source": []
  },
  {
   "cell_type": "code",
   "execution_count": null,
   "id": "a7a17993",
   "metadata": {},
   "outputs": [],
   "source": []
  },
  {
   "cell_type": "code",
   "execution_count": null,
   "id": "f4071da8",
   "metadata": {},
   "outputs": [],
   "source": []
  }
 ],
 "metadata": {
  "kernelspec": {
   "display_name": "Python 3 (ipykernel)",
   "language": "python",
   "name": "python3"
  },
  "language_info": {
   "codemirror_mode": {
    "name": "ipython",
    "version": 3
   },
   "file_extension": ".py",
   "mimetype": "text/x-python",
   "name": "python",
   "nbconvert_exporter": "python",
   "pygments_lexer": "ipython3",
   "version": "3.9.13"
  }
 },
 "nbformat": 4,
 "nbformat_minor": 5
}
