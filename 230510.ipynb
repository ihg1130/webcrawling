{
 "cells": [
  {
   "cell_type": "markdown",
   "id": "c14a97a3",
   "metadata": {},
   "source": [
    "#### 유튜브정보 수집 \n",
    "- 유트브 창띄우고\n",
    "- 빅데이터 키워드 입력하고 엔터 (id:search-icon-legacy)\n",
    "- 현재페이지에서 5번 스크롤링하기 \n",
    "- 영상제목/영상주소/조회수"
   ]
  },
  {
   "cell_type": "code",
   "execution_count": 6,
   "id": "81b92d01",
   "metadata": {},
   "outputs": [],
   "source": [
    "from selenium import webdriver  as wb\n",
    "from selenium.webdriver.common.keys import Keys\n",
    "from selenium.webdriver.common.by import By\n",
    "import time\n",
    "import pandas as pd\n",
    "from bs4 import BeautifulSoup as bs"
   ]
  },
  {
   "cell_type": "code",
   "execution_count": 2,
   "id": "09f12b55",
   "metadata": {},
   "outputs": [],
   "source": [
    "url=\"https://www.youtube.com/\"\n",
    "url_sub=\"results?search_query=\"\n",
    "query=\"빅데이터\"\n",
    "driver=wb.Chrome()\n",
    "driver.get(url+url_sub+query)"
   ]
  },
  {
   "cell_type": "code",
   "execution_count": 3,
   "id": "17b19c0b",
   "metadata": {},
   "outputs": [],
   "source": [
    "#현재 페이지에서 5번 크롤링 하기 \n",
    "for i in range(5):\n",
    "    body=driver.find_element(By.TAG_NAME,'body')\n",
    "    body.send_keys(Keys.PAGE_DOWN)\n",
    "    time.sleep(1)"
   ]
  },
  {
   "cell_type": "code",
   "execution_count": 4,
   "id": "183abf85",
   "metadata": {},
   "outputs": [],
   "source": [
    "soup = bs(driver.page_source,'html.parser')"
   ]
  },
  {
   "cell_type": "code",
   "execution_count": 5,
   "id": "d2a39116",
   "metadata": {},
   "outputs": [],
   "source": [
    "# 제목 가져오기\n",
    "title = soup.find_all('a', id='video-title')"
   ]
  },
  {
   "cell_type": "code",
   "execution_count": 6,
   "id": "13d690f1",
   "metadata": {},
   "outputs": [
    {
     "data": {
      "text/plain": [
       "22"
      ]
     },
     "execution_count": 6,
     "metadata": {},
     "output_type": "execute_result"
    }
   ],
   "source": [
    "len(title)"
   ]
  },
  {
   "cell_type": "code",
   "execution_count": 7,
   "id": "7eeacd2c",
   "metadata": {},
   "outputs": [
    {
     "name": "stdout",
     "output_type": "stream",
     "text": [
      "빅데이터란? (What is Big Data?)\n",
      "빅 데이터 3분 요약\n",
      "단순히 큰(BIG) 데이터가 아닌 빅데이터! Data Technology에 대해 알아보겠습니다.\n",
      "변화를 빠르게 파악해야 살아남는다❗ 빅데이터 전문가가 꼽은 미래를 이끌 키워드는?｜차이나는 클라스｜JTBC 220724 방송\n",
      "빅데이터는 이것만 기억하면 된다!｜서가명강 - 빅데이터로 성공하기 1강(서울대 산업공학과 조성준 교수) ｜(ENG sub) What is Big Data?\n",
      "[이슈 픽! 쌤과 함께] 빅데이터 전문가 송길영이 말하는 '빅데이터란 무엇인가?' KBS 29291118 방송\n",
      "10분으로 알아보는 빅데이터 기술 & 사례들! | 십분AI 마지막 강의\n",
      "미래의 석유?! 4차 산업혁명의 핵심 기술, 빅데이터\n",
      "생활 17. 빅데이터 이해와 활용\n",
      "승무패 28회차 - EPL, 라리가 경기\n",
      "제발 '이때까지' 기다리세요. 10년에 한 번 오는 기회 반드시 옵니다. 꼭 잡으세요 (김기원 대표, 리치고 / 4부)\n",
      "[에디터픽] ‘괴물 폭염’ 찾아온다.. \"韓 한 해 절반이 여름\" / YTN\n",
      "\"내돈내투\"라지만...김남국, 위믹스 125만 개와 몰빵 투자 논란/김남국 소유 추정 '코인 지갑' 주소-거래내역 공개돼/나흘 만에 사과 [이슈 톺아보기] MBN뉴스23.05.10\n",
      "대왕 요구르트 등장…빅데이터가 만든 대박상품 / SBS\n",
      "실생활에 밀접하게 다가온 빅데이터 기술 / YTN 사이언스\n",
      "[2023 빅데이터분석기사 필기 1과목] Chapter 1. 01. 빅데이터 개요 및 활용 1\n",
      "💎빅데이터 세상, 연봉 바꾸는 법! 돈벌이 되는 데이터 미래직업 총정리! - 조성준 교수 '빅데이터 커리어 가이드북' 김미경의 북토크\n",
      "[빅데이터로 보는 부산 이슈] 해양·전세·국제\n",
      "'불편한 친분' 사절. 송길영 빅데이터 분석가가 말하는 우리 사회 '관계의 변화' ㅣ KBS빅체인지 2030 하이라이트 221120 방송\n",
      "빅데이터 취업준비 이렇게 하시면 됩니다 | 프로그래밍 언어, 책 추천\n",
      "[2023 수제비] 빅데이터분석기사 필기 - 두음쌤 1과목\n",
      "최고 전문가에게 듣는 데이터, AI 커리어 완벽 가이드\n"
     ]
    }
   ],
   "source": [
    "for t in title:\n",
    "    print(t.text.strip())"
   ]
  },
  {
   "cell_type": "code",
   "execution_count": 8,
   "id": "aed19bc3",
   "metadata": {},
   "outputs": [
    {
     "name": "stdout",
     "output_type": "stream",
     "text": [
      "/watch?v=6MrCdXBlmqM&pp=ygUM67mF642w7J207YSw\n",
      "/watch?v=l2RBzee3Ag4&pp=ygUM67mF642w7J207YSw\n",
      "/watch?v=DQFj41o_Bhs&pp=ygUM67mF642w7J207YSw\n",
      "/watch?v=EdCwsSg8vlw&pp=ygUM67mF642w7J207YSw\n",
      "/watch?v=PBaUjMgRIx0&pp=ygUM67mF642w7J207YSw\n",
      "/watch?v=2A8NelGuWgI&pp=ygUM67mF642w7J207YSw\n",
      "/watch?v=Jd_fK-6dfcI&pp=ygUM67mF642w7J207YSw\n",
      "/watch?v=00fUsFLRW54&pp=ygUM67mF642w7J207YSw\n",
      "/watch?v=NyZItXNOpE4&pp=ygUM67mF642w7J207YSw\n",
      "/watch?v=5RCc_bOQcwg&pp=ygUM67mF642w7J207YSw\n",
      "/watch?v=1yfmW4oE8go&pp=ygUM67mF642w7J207YSw\n",
      "/watch?v=k_amGIH-GLg&pp=ygUM67mF642w7J207YSw\n",
      "/watch?v=idYVXOyS9fI&pp=ygUM67mF642w7J207YSw\n",
      "/watch?v=Spp39BgpsNk&pp=ygUM67mF642w7J207YSw\n",
      "/watch?v=r_7w1bzYeSo&pp=ygUM67mF642w7J207YSw\n",
      "/watch?v=xBfnjBTJR7Y&pp=ygUM67mF642w7J207YSw\n",
      "/watch?v=pErU1Hit_2g&pp=ygUM67mF642w7J207YSw\n",
      "/watch?v=uge3wN6L6jo&pp=ygUM67mF642w7J207YSw\n",
      "/watch?v=Ry2J2c4oYiQ&pp=ygUM67mF642w7J207YSw\n",
      "/watch?v=7wQvqD89hCU&pp=ygUM67mF642w7J207YSw\n",
      "/watch?v=rjjlXKUYT3U&pp=ygUM67mF642w7J207YSw\n",
      "/watch?v=nPjsKGi1EIQ&pp=ygUM67mF642w7J207YSw\n"
     ]
    }
   ],
   "source": [
    "# 영상주소 가져오기\n",
    "video_url = soup.find_all('a', id='video-title')\n",
    "\n",
    "for t in video_url :\n",
    "    print(t['href'])"
   ]
  },
  {
   "cell_type": "code",
   "execution_count": 18,
   "id": "c3fda011",
   "metadata": {},
   "outputs": [
    {
     "name": "stdout",
     "output_type": "stream",
     "text": [
      "영상제목 빅데이터란? (What is Big Data?)\n",
      "영상주소 www.youtube.com/watch?v=6MrCdXBlmqM&pp=ygUM67mF642w7J207YSw\n",
      "--------------------------------------------------\n",
      "영상제목 빅 데이터 3분 요약\n",
      "영상주소 www.youtube.com/watch?v=l2RBzee3Ag4&pp=ygUM67mF642w7J207YSw\n",
      "--------------------------------------------------\n",
      "영상제목 단순히 큰(BIG) 데이터가 아닌 빅데이터! Data Technology에 대해 알아보겠습니다.\n",
      "영상주소 www.youtube.com/watch?v=DQFj41o_Bhs&pp=ygUM67mF642w7J207YSw\n",
      "--------------------------------------------------\n",
      "영상제목 변화를 빠르게 파악해야 살아남는다❗ 빅데이터 전문가가 꼽은 미래를 이끌 키워드는?｜차이나는 클라스｜JTBC 220724 방송\n",
      "영상주소 www.youtube.com/watch?v=EdCwsSg8vlw&pp=ygUM67mF642w7J207YSw\n",
      "--------------------------------------------------\n",
      "영상제목 빅데이터는 이것만 기억하면 된다!｜서가명강 - 빅데이터로 성공하기 1강(서울대 산업공학과 조성준 교수) ｜(ENG sub) What is Big Data?\n",
      "영상주소 www.youtube.com/watch?v=PBaUjMgRIx0&pp=ygUM67mF642w7J207YSw\n",
      "--------------------------------------------------\n",
      "영상제목 [이슈 픽! 쌤과 함께] 빅데이터 전문가 송길영이 말하는 '빅데이터란 무엇인가?' KBS 29291118 방송\n",
      "영상주소 www.youtube.com/watch?v=2A8NelGuWgI&pp=ygUM67mF642w7J207YSw\n",
      "--------------------------------------------------\n",
      "영상제목 10분으로 알아보는 빅데이터 기술 & 사례들! | 십분AI 마지막 강의\n",
      "영상주소 www.youtube.com/watch?v=Jd_fK-6dfcI&pp=ygUM67mF642w7J207YSw\n",
      "--------------------------------------------------\n",
      "영상제목 미래의 석유?! 4차 산업혁명의 핵심 기술, 빅데이터\n",
      "영상주소 www.youtube.com/watch?v=00fUsFLRW54&pp=ygUM67mF642w7J207YSw\n",
      "--------------------------------------------------\n",
      "영상제목 생활 17. 빅데이터 이해와 활용\n",
      "영상주소 www.youtube.com/watch?v=NyZItXNOpE4&pp=ygUM67mF642w7J207YSw\n",
      "--------------------------------------------------\n",
      "영상제목 승무패 28회차 - EPL, 라리가 경기\n",
      "영상주소 www.youtube.com/watch?v=5RCc_bOQcwg&pp=ygUM67mF642w7J207YSw\n",
      "--------------------------------------------------\n",
      "영상제목 제발 '이때까지' 기다리세요. 10년에 한 번 오는 기회 반드시 옵니다. 꼭 잡으세요 (김기원 대표, 리치고 / 4부)\n",
      "영상주소 www.youtube.com/watch?v=1yfmW4oE8go&pp=ygUM67mF642w7J207YSw\n",
      "--------------------------------------------------\n",
      "영상제목 [에디터픽] ‘괴물 폭염’ 찾아온다.. \"韓 한 해 절반이 여름\" / YTN\n",
      "영상주소 www.youtube.com/watch?v=k_amGIH-GLg&pp=ygUM67mF642w7J207YSw\n",
      "--------------------------------------------------\n",
      "영상제목 \"내돈내투\"라지만...김남국, 위믹스 125만 개와 몰빵 투자 논란/김남국 소유 추정 '코인 지갑' 주소-거래내역 공개돼/나흘 만에 사과 [이슈 톺아보기] MBN뉴스23.05.10\n",
      "영상주소 www.youtube.com/watch?v=idYVXOyS9fI&pp=ygUM67mF642w7J207YSw\n",
      "--------------------------------------------------\n",
      "영상제목 대왕 요구르트 등장…빅데이터가 만든 대박상품 / SBS\n",
      "영상주소 www.youtube.com/watch?v=Spp39BgpsNk&pp=ygUM67mF642w7J207YSw\n",
      "--------------------------------------------------\n",
      "영상제목 실생활에 밀접하게 다가온 빅데이터 기술 / YTN 사이언스\n",
      "영상주소 www.youtube.com/watch?v=r_7w1bzYeSo&pp=ygUM67mF642w7J207YSw\n",
      "--------------------------------------------------\n",
      "영상제목 [2023 빅데이터분석기사 필기 1과목] Chapter 1. 01. 빅데이터 개요 및 활용 1\n",
      "영상주소 www.youtube.com/watch?v=xBfnjBTJR7Y&pp=ygUM67mF642w7J207YSw\n",
      "--------------------------------------------------\n",
      "영상제목 💎빅데이터 세상, 연봉 바꾸는 법! 돈벌이 되는 데이터 미래직업 총정리! - 조성준 교수 '빅데이터 커리어 가이드북' 김미경의 북토크\n",
      "영상주소 www.youtube.com/watch?v=pErU1Hit_2g&pp=ygUM67mF642w7J207YSw\n",
      "--------------------------------------------------\n",
      "영상제목 [빅데이터로 보는 부산 이슈] 해양·전세·국제\n",
      "영상주소 www.youtube.com/watch?v=uge3wN6L6jo&pp=ygUM67mF642w7J207YSw\n",
      "--------------------------------------------------\n",
      "영상제목 '불편한 친분' 사절. 송길영 빅데이터 분석가가 말하는 우리 사회 '관계의 변화' ㅣ KBS빅체인지 2030 하이라이트 221120 방송\n",
      "영상주소 www.youtube.com/watch?v=Ry2J2c4oYiQ&pp=ygUM67mF642w7J207YSw\n",
      "--------------------------------------------------\n",
      "영상제목 빅데이터 취업준비 이렇게 하시면 됩니다 | 프로그래밍 언어, 책 추천\n",
      "영상주소 www.youtube.com/watch?v=7wQvqD89hCU&pp=ygUM67mF642w7J207YSw\n",
      "--------------------------------------------------\n",
      "영상제목 [2023 수제비] 빅데이터분석기사 필기 - 두음쌤 1과목\n",
      "영상주소 www.youtube.com/watch?v=rjjlXKUYT3U&pp=ygUM67mF642w7J207YSw\n",
      "--------------------------------------------------\n",
      "영상제목 최고 전문가에게 듣는 데이터, AI 커리어 완벽 가이드\n",
      "영상주소 www.youtube.com/watch?v=nPjsKGi1EIQ&pp=ygUM67mF642w7J207YSw\n",
      "--------------------------------------------------\n"
     ]
    }
   ],
   "source": [
    "nums = []\n",
    "titles = []\n",
    "video_urls = []\n",
    "url_main = 'www.youtube.com'\n",
    "length = soup.find_all('a', id='video-title')\n",
    "\n",
    "for i in range(len(length)) :\n",
    "    title = soup.find_all('a', id='video-title')[i].text.strip()\n",
    "    video_url = soup.find_all('a', id='video-title')[i]['href']\n",
    "        \n",
    "    nums.append(i+1)\n",
    "    titles.append(title)\n",
    "    video_urls.append(url_main + video_url)\n",
    "    \n",
    "    print(\"영상제목 \" + title)\n",
    "    print(\"영상주소 \" + url_main + video_url)\n",
    "    print(\"-\" * 50)"
   ]
  },
  {
   "cell_type": "code",
   "execution_count": 21,
   "id": "5b3a2f4b",
   "metadata": {},
   "outputs": [
    {
     "data": {
      "text/html": [
       "<div>\n",
       "<style scoped>\n",
       "    .dataframe tbody tr th:only-of-type {\n",
       "        vertical-align: middle;\n",
       "    }\n",
       "\n",
       "    .dataframe tbody tr th {\n",
       "        vertical-align: top;\n",
       "    }\n",
       "\n",
       "    .dataframe thead th {\n",
       "        text-align: right;\n",
       "    }\n",
       "</style>\n",
       "<table border=\"1\" class=\"dataframe\">\n",
       "  <thead>\n",
       "    <tr style=\"text-align: right;\">\n",
       "      <th></th>\n",
       "      <th>title</th>\n",
       "      <th>href</th>\n",
       "    </tr>\n",
       "    <tr>\n",
       "      <th>num</th>\n",
       "      <th></th>\n",
       "      <th></th>\n",
       "    </tr>\n",
       "  </thead>\n",
       "  <tbody>\n",
       "    <tr>\n",
       "      <th>1</th>\n",
       "      <td>빅데이터란? (What is Big Data?)</td>\n",
       "      <td>www.youtube.com/watch?v=6MrCdXBlmqM&amp;pp=ygUM67m...</td>\n",
       "    </tr>\n",
       "    <tr>\n",
       "      <th>2</th>\n",
       "      <td>빅 데이터 3분 요약</td>\n",
       "      <td>www.youtube.com/watch?v=l2RBzee3Ag4&amp;pp=ygUM67m...</td>\n",
       "    </tr>\n",
       "    <tr>\n",
       "      <th>3</th>\n",
       "      <td>단순히 큰(BIG) 데이터가 아닌 빅데이터! Data Technology에 대해 알...</td>\n",
       "      <td>www.youtube.com/watch?v=DQFj41o_Bhs&amp;pp=ygUM67m...</td>\n",
       "    </tr>\n",
       "    <tr>\n",
       "      <th>4</th>\n",
       "      <td>변화를 빠르게 파악해야 살아남는다❗ 빅데이터 전문가가 꼽은 미래를 이끌 키워드는?｜...</td>\n",
       "      <td>www.youtube.com/watch?v=EdCwsSg8vlw&amp;pp=ygUM67m...</td>\n",
       "    </tr>\n",
       "    <tr>\n",
       "      <th>5</th>\n",
       "      <td>빅데이터는 이것만 기억하면 된다!｜서가명강 - 빅데이터로 성공하기 1강(서울대 산업...</td>\n",
       "      <td>www.youtube.com/watch?v=PBaUjMgRIx0&amp;pp=ygUM67m...</td>\n",
       "    </tr>\n",
       "  </tbody>\n",
       "</table>\n",
       "</div>"
      ],
      "text/plain": [
       "                                                 title  \\\n",
       "num                                                      \n",
       "1                           빅데이터란? (What is Big Data?)   \n",
       "2                                          빅 데이터 3분 요약   \n",
       "3    단순히 큰(BIG) 데이터가 아닌 빅데이터! Data Technology에 대해 알...   \n",
       "4    변화를 빠르게 파악해야 살아남는다❗ 빅데이터 전문가가 꼽은 미래를 이끌 키워드는?｜...   \n",
       "5    빅데이터는 이것만 기억하면 된다!｜서가명강 - 빅데이터로 성공하기 1강(서울대 산업...   \n",
       "\n",
       "                                                  href  \n",
       "num                                                     \n",
       "1    www.youtube.com/watch?v=6MrCdXBlmqM&pp=ygUM67m...  \n",
       "2    www.youtube.com/watch?v=l2RBzee3Ag4&pp=ygUM67m...  \n",
       "3    www.youtube.com/watch?v=DQFj41o_Bhs&pp=ygUM67m...  \n",
       "4    www.youtube.com/watch?v=EdCwsSg8vlw&pp=ygUM67m...  \n",
       "5    www.youtube.com/watch?v=PBaUjMgRIx0&pp=ygUM67m...  "
      ]
     },
     "execution_count": 21,
     "metadata": {},
     "output_type": "execute_result"
    }
   ],
   "source": [
    "data = {'num' : nums, 'title' : titles, 'href' : video_urls}\n",
    "\n",
    "youtube = pd.DataFrame(data)\n",
    "youtube.set_index('num', inplace=True)\n",
    "youtube.head()"
   ]
  },
  {
   "cell_type": "markdown",
   "id": "a030561f",
   "metadata": {},
   "source": [
    "#### 한솥도시락의 이름, 가격정보 수집"
   ]
  },
  {
   "cell_type": "code",
   "execution_count": 7,
   "id": "ed07c7bd",
   "metadata": {},
   "outputs": [],
   "source": [
    "url = \"https://www.hsd.co.kr/menu/menu_list\"\n",
    "\n",
    "# 크롬창 띄우기\n",
    "driver = wb.Chrome()\n",
    "driver.get(url)"
   ]
  },
  {
   "cell_type": "code",
   "execution_count": 8,
   "id": "7df8225f",
   "metadata": {},
   "outputs": [],
   "source": [
    "for i in range(10):\n",
    "    body = driver.find_element(By.TAG_NAME, 'body')\n",
    "    body.send_keys(Keys.PAGE_DOWN)\n",
    "    time.sleep(1)"
   ]
  },
  {
   "cell_type": "code",
   "execution_count": 9,
   "id": "8a1c5319",
   "metadata": {},
   "outputs": [],
   "source": [
    "btn_more = driver.find_element(By.CLASS_NAME,'c_05')\n",
    "for i in range(1) :\n",
    "    btn_more.click()\n",
    "    time.sleep(1)"
   ]
  },
  {
   "cell_type": "code",
   "execution_count": 10,
   "id": "7cd6f38a",
   "metadata": {},
   "outputs": [],
   "source": [
    "soup = bs(driver.page_source, 'html.parser')"
   ]
  },
  {
   "cell_type": "code",
   "execution_count": 11,
   "id": "31f4646e",
   "metadata": {},
   "outputs": [
    {
     "name": "stdout",
     "output_type": "stream",
     "text": [
      "통살 오징어튀김\n",
      "미나리 오징어 덮밥(매운맛)\n",
      "미나리 오징어 덮밥(오리지널)\n",
      "카츠카츠 도시락\n",
      "아보카도 훈제 닭가슴살 명란 비빔밥\n",
      "아보카도 소불고기 명란 비빔밥\n",
      "해바라기\n",
      "매화\n",
      "진달래\n",
      "개나리\n",
      "돈까스도련님고기고기\n",
      "탕수육도련님고기고기\n",
      "새치 고기고기\n",
      "돈치 고기고기\n",
      "숯불직화구이\n",
      "소불고기\n",
      "메가치킨제육\n",
      "칠리 찹쌀탕수육도련님\n",
      "동백\n",
      "치킨제육\n",
      "돈까스도련님\n",
      "제육볶음\n",
      "돈치스팸 도시락\n",
      "제육 김치찌개 정식\n",
      "제육 김치 부대찌개 정식\n",
      "돈치스팸 김치 부대찌개 정식\n",
      "빅치킨마요 김치 부대찌개 정식\n",
      "치킨마요 김치 부대찌개 정식\n",
      "빅치킨마요 김치찌개 정식\n",
      "치킨마요 김치찌개 정식\n",
      "새후마요\n",
      "메가스팸마요\n",
      "스팸마요\n",
      "메가치킨마요\n",
      "왕치킨마요\n",
      "빅치킨마요\n",
      "치킨마요\n",
      "참치마요\n",
      "돈치마요\n",
      "돈까스 카레\n",
      "스팸 김치볶음밥\n",
      "김치볶음밥\n",
      "스팸철판볶음밥\n",
      "소불고기 철판볶음밥\n",
      "나시고랭\n",
      "묵은지 김치찌개\n",
      "김치 부대찌개\n",
      "숯불직화구이 덮밥\n",
      "마파두부 덮밥\n",
      "왕카레돈까스덮밥\n",
      "새우돈까스 덮밥\n",
      "돈까스 덮밥\n",
      "소불고기 감초고추장 비빔밥\n",
      "시골제육 두부강된장 비빔밥\n",
      "참치야채 감초고추장\n",
      "튼튼도시락\n",
      "토네이도 소세지 파스타\n",
      "트리플 치즈 파스타\n",
      "토마토 미트 파스타\n",
      "반찬 묵은지김치찌개\n",
      "반찬 카레\n",
      "반찬 순살 고등어 간장구이\n",
      "반찬 김치 부대찌개\n",
      "반찬 치킨\n",
      "반찬 고기고기\n",
      "반찬 돈까스 도련님\n",
      "반찬 제육볶음\n",
      "반찬 토네이도 소세지\n",
      "반찬 반달돈까스\n",
      "치즈버터 해시 포테이토 스틱\n",
      "허니버터 해시 포테이토 스틱\n",
      "해시 포테이토 스틱\n",
      "뉴 감자고로케\n",
      "미니 찹쌀핫도그\n",
      "미니 찹쌀탕수육\n",
      "케이준후라이\n",
      "통현미 닭강정(소)\n",
      "통현미 닭강정(중)\n",
      "후라이드 순살(중)\n",
      "후라이드 순살(소)_양념치킨소스\n",
      "후라이드 순살(소)_케이준소스\n",
      "오리지널 닭강정(중)\n",
      "오리지널 닭강정(소)\n",
      "반찬 무생채\n",
      "3종 미니반찬B\n",
      "3종 미니반찬A\n",
      "오징어젓갈\n",
      "한솥 두부강된장소스\n",
      "한솥 감초볶음고추장소스\n",
      "볶음김치\n",
      "김치\n",
      "무말랭이 무침\n",
      "한솥밥\n",
      "현미밥\n",
      "리얼 티라미수 찰떡\n",
      "리얼꿀 미니호떡\n"
     ]
    }
   ],
   "source": [
    "length = soup.find_all(\"h4\", 'h fz_03')\n",
    "len(length)\n",
    "\n",
    "for i in length :\n",
    "    print(i.text)"
   ]
  },
  {
   "cell_type": "code",
   "execution_count": 12,
   "id": "92667427",
   "metadata": {},
   "outputs": [
    {
     "data": {
      "text/plain": [
       "(96, 96, 96)"
      ]
     },
     "execution_count": 12,
     "metadata": {},
     "output_type": "execute_result"
    }
   ],
   "source": [
    "num = [] # 순번\n",
    "names = [] # 도시락 이름\n",
    "prices = [] # 도시락 가격\n",
    "\n",
    "for i in range(len(length)) :\n",
    "    name = soup.find_all('h4', 'h fz_03')[i].text.strip()\n",
    "    price = soup.select('div.item-text > div > strong')[i].text\n",
    "    \n",
    "    num.append(i+1)\n",
    "    names.append(name)\n",
    "    prices.append(price)\n",
    "    \n",
    "len(num), len(names), len(prices)    "
   ]
  },
  {
   "cell_type": "code",
   "execution_count": 47,
   "id": "1773cdd5",
   "metadata": {},
   "outputs": [
    {
     "data": {
      "text/html": [
       "<div>\n",
       "<style scoped>\n",
       "    .dataframe tbody tr th:only-of-type {\n",
       "        vertical-align: middle;\n",
       "    }\n",
       "\n",
       "    .dataframe tbody tr th {\n",
       "        vertical-align: top;\n",
       "    }\n",
       "\n",
       "    .dataframe thead th {\n",
       "        text-align: right;\n",
       "    }\n",
       "</style>\n",
       "<table border=\"1\" class=\"dataframe\">\n",
       "  <thead>\n",
       "    <tr style=\"text-align: right;\">\n",
       "      <th></th>\n",
       "      <th>도시락 이름</th>\n",
       "      <th>도시락 가격</th>\n",
       "    </tr>\n",
       "    <tr>\n",
       "      <th>순번</th>\n",
       "      <th></th>\n",
       "      <th></th>\n",
       "    </tr>\n",
       "  </thead>\n",
       "  <tbody>\n",
       "    <tr>\n",
       "      <th>1</th>\n",
       "      <td>송정식 떡갈비 도시락</td>\n",
       "      <td>6,900</td>\n",
       "    </tr>\n",
       "    <tr>\n",
       "      <th>2</th>\n",
       "      <td>카츠카츠 도시락</td>\n",
       "      <td>4,800</td>\n",
       "    </tr>\n",
       "    <tr>\n",
       "      <th>3</th>\n",
       "      <td>아보카도 훈제 닭가슴살 명란 비빔밥</td>\n",
       "      <td>6,500</td>\n",
       "    </tr>\n",
       "    <tr>\n",
       "      <th>4</th>\n",
       "      <td>아보카도 소불고기 명란 비빔밥</td>\n",
       "      <td>6,500</td>\n",
       "    </tr>\n",
       "    <tr>\n",
       "      <th>5</th>\n",
       "      <td>새후마요</td>\n",
       "      <td>4,500</td>\n",
       "    </tr>\n",
       "  </tbody>\n",
       "</table>\n",
       "</div>"
      ],
      "text/plain": [
       "                 도시락 이름 도시락 가격\n",
       "순번                            \n",
       "1           송정식 떡갈비 도시락  6,900\n",
       "2              카츠카츠 도시락  4,800\n",
       "3   아보카도 훈제 닭가슴살 명란 비빔밥  6,500\n",
       "4      아보카도 소불고기 명란 비빔밥  6,500\n",
       "5                  새후마요  4,500"
      ]
     },
     "execution_count": 47,
     "metadata": {},
     "output_type": "execute_result"
    }
   ],
   "source": [
    "lunch = {'순번' : num, '도시락 이름' : names, '도시락 가격' : prices}\n",
    "\n",
    "lunchs = pd.DataFrame(lunch, columns=['순번', '도시락 이름', '도시락 가격'])\n",
    "lunchs.set_index('순번', inplace=True)\n",
    "lunchs.head()"
   ]
  },
  {
   "cell_type": "code",
   "execution_count": 48,
   "id": "f51cbf23",
   "metadata": {},
   "outputs": [],
   "source": [
    "lunchs.to_csv('lunch.csv', index=False, encoding='euc-kr')"
   ]
  },
  {
   "cell_type": "markdown",
   "id": "464c9021",
   "metadata": {},
   "source": [
    "#### 네이버에서 스티브잡스를 검색해보고 이미지를 크롤링하기"
   ]
  },
  {
   "cell_type": "code",
   "execution_count": 49,
   "id": "83717398",
   "metadata": {},
   "outputs": [],
   "source": [
    "# 파일 시스템을 위한 라이브러리(파일, 폴더에 접근)\n",
    "import os\n",
    "# 이미지의 url값을 파일로 변형시켜주는 라이브러리\n",
    "from urllib.request import urlretrieve"
   ]
  },
  {
   "cell_type": "code",
   "execution_count": 50,
   "id": "ae69406a",
   "metadata": {},
   "outputs": [],
   "source": [
    "# 1. 크롬창 열고 네이버 접속하기\n",
    "driver = wb.Chrome()\n",
    "driver.get(\"http://www.naver.com\")"
   ]
  },
  {
   "cell_type": "code",
   "execution_count": 51,
   "id": "ecef6102",
   "metadata": {},
   "outputs": [],
   "source": [
    "# 2. 원하는 키워드 입력하고 엔터\n",
    "search = driver.find_element(By.ID, 'query')\n",
    "search.send_keys('스티브잡스')\n",
    "search.send_keys(Keys.ENTER)"
   ]
  },
  {
   "cell_type": "code",
   "execution_count": 67,
   "id": "aca76e7c",
   "metadata": {},
   "outputs": [],
   "source": [
    "# 3. 이미지 탭 클릭하기\n",
    "# div.lnb_group > div > ul > li:nth-child(2) > a\n",
    "image_tab = driver.find_element(By.CSS_SELECTOR, 'div.lnb_group > div > ul > li:nth-child(2) > a')\n",
    "image_tab.click()"
   ]
  },
  {
   "cell_type": "code",
   "execution_count": 68,
   "id": "75ceca05",
   "metadata": {},
   "outputs": [
    {
     "data": {
      "text/plain": [
       "50"
      ]
     },
     "execution_count": 68,
     "metadata": {},
     "output_type": "execute_result"
    }
   ],
   "source": [
    "# 4. 이미지 수집\n",
    "# 4.1 이미지태그 수집\n",
    "imgs = driver.find_elements(By.CSS_SELECTOR,'img._image._listImage')\n",
    "len(imgs)"
   ]
  },
  {
   "cell_type": "code",
   "execution_count": 71,
   "id": "d3d76274",
   "metadata": {},
   "outputs": [
    {
     "data": {
      "text/plain": [
       "50"
      ]
     },
     "execution_count": 71,
     "metadata": {},
     "output_type": "execute_result"
    }
   ],
   "source": [
    "# 4.2 이미지 태그안에 있는 src속성값을 가져오기\n",
    "# get_attribute() : 속성값을 가져오는 함수\n",
    "img_url = []\n",
    "\n",
    "for img in imgs :\n",
    "    img_url.append(img.get_attribute('src'))\n",
    "\n",
    "len(img_url)"
   ]
  },
  {
   "cell_type": "code",
   "execution_count": 73,
   "id": "9cfdd7e2",
   "metadata": {},
   "outputs": [],
   "source": [
    "# 4.3 다운로드 받을 폴더 만들기\n",
    "# /Users/mac/Desktop/Coding/polytech/2학년 1학기/웹크롤링/img/stevejobs\n",
    "# 경로에 img폴더가 있는지 확인\n",
    "if not os.path.isdir('/Users/mac/Desktop/Coding/polytech/2학년 1학기/웹크롤링/img/stevejobs') :\n",
    "    os.mkdir('/Users/mac/Desktop/Coding/polytech/2학년 1학기/웹크롤링/img/stevejobs')"
   ]
  },
  {
   "cell_type": "code",
   "execution_count": 75,
   "id": "65bf1572",
   "metadata": {},
   "outputs": [],
   "source": [
    "# 5. img폴더에 이미지 저장\n",
    "count = 1\n",
    "\n",
    "for i in img_url :\n",
    "    urlretrieve(i, '/Users/mac/Desktop/Coding/polytech/2학년 1학기/웹크롤링/img/stevejobs/' + str(count) + \".jpg\")\n",
    "    count += 1"
   ]
  },
  {
   "cell_type": "code",
   "execution_count": null,
   "id": "6f0c7864",
   "metadata": {},
   "outputs": [],
   "source": []
  }
 ],
 "metadata": {
  "kernelspec": {
   "display_name": "Python 3 (ipykernel)",
   "language": "python",
   "name": "python3"
  },
  "language_info": {
   "codemirror_mode": {
    "name": "ipython",
    "version": 3
   },
   "file_extension": ".py",
   "mimetype": "text/x-python",
   "name": "python",
   "nbconvert_exporter": "python",
   "pygments_lexer": "ipython3",
   "version": "3.9.13"
  }
 },
 "nbformat": 4,
 "nbformat_minor": 5
}
