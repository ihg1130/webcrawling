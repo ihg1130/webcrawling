{
 "cells": [
  {
   "cell_type": "markdown",
   "id": "1bd14a9f",
   "metadata": {},
   "source": [
    "- 글자4에 대한 설명\n",
    "#### 용어 종리"
   ]
  },
  {
   "cell_type": "markdown",
   "id": "fefc609c",
   "metadata": {},
   "source": [
    "<pre>\n",
    "첫번쨰 줄\n",
    "두번째 줄\n",
    "세번째 줄\n",
    "</pre>\n"
   ]
  },
  {
   "cell_type": "markdown",
   "id": "1e7aa0dd",
   "metadata": {},
   "source": [
    "#### 크롤링\n",
    "- 인터넷 사이트의 페이지를 수집해서 분류하는것\n",
    "\n",
    "#### 스크래핑\n",
    "- http를 통해서 웹사이트의 내용을 긁어서 원하는 형태로 가공하는것\n",
    "    - request: 웹페이지를 가져오는 라이브러리\n",
    "    - bs4 : 웹페이지를 분석하는 라이브러리\n",
    "    "
   ]
  },
  {
   "cell_type": "code",
   "execution_count": 1,
   "id": "5b2984bd",
   "metadata": {},
   "outputs": [],
   "source": [
    "# 1, 라이브러리 import\n",
    "import requests\n",
    "from bs4 import BeautifulSoup"
   ]
  },
  {
   "cell_type": "code",
   "execution_count": 3,
   "id": "714256c4",
   "metadata": {},
   "outputs": [],
   "source": [
    "# 2. 웹페이지 가져오기 : get('주소')\n",
    "res = requests.get(\"https://v.daum.net/v/20230308102540253\")"
   ]
  },
  {
   "cell_type": "code",
   "execution_count": 5,
   "id": "f825a46e",
   "metadata": {},
   "outputs": [],
   "source": [
    "#실제 받아온 문서 확인\n",
    "# print(res.content)"
   ]
  },
  {
   "cell_type": "markdown",
   "id": "0e4eb268",
   "metadata": {},
   "source": [
    "#### http 프로토콜 상태 규칙 status code : 요청과 응답상황을 표현\n",
    "- 200 : 성공\n",
    "- 404 : 페이지 없음\n",
    "- 500 : 서버 오류\n",
    "- 302 : 페이지 이동"
   ]
  },
  {
   "cell_type": "code",
   "execution_count": 6,
   "id": "abb47705",
   "metadata": {},
   "outputs": [
    {
     "name": "stdout",
     "output_type": "stream",
     "text": [
      "200\n"
     ]
    }
   ],
   "source": [
    "print(res.status_code)"
   ]
  },
  {
   "cell_type": "markdown",
   "id": "d8a66e5e",
   "metadata": {},
   "source": [
    "#### 웹페이지 파싱하기\n",
    "- 파싱(parsing) : 문자열의 의미분석\n",
    "- 파서(paser) : ; lxml, html5lib, html.parser"
   ]
  },
  {
   "cell_type": "code",
   "execution_count": 12,
   "id": "07b73657",
   "metadata": {},
   "outputs": [],
   "source": [
    "# 3. 웹페이지 파싱하기\n",
    "soup = BeautifulSoup(res.content, \"html.parser\")"
   ]
  },
  {
   "cell_type": "code",
   "execution_count": 13,
   "id": "ebe4d73e",
   "metadata": {},
   "outputs": [],
   "source": [
    "#soup"
   ]
  },
  {
   "cell_type": "markdown",
   "id": "4d18335a",
   "metadata": {},
   "source": [
    "#### 필요한 데이터 추출하기\n",
    "- find() = 원하는 부분을 지정\n",
    "- get_text() = 추출한 부분을 가져올 수 있음"
   ]
  },
  {
   "cell_type": "code",
   "execution_count": 15,
   "id": "1cd2f16c",
   "metadata": {},
   "outputs": [
    {
     "data": {
      "text/plain": [
       "<title>달 궤도 유인비행 '아르테미스2' 내년 11월 말 발사</title>"
      ]
     },
     "execution_count": 15,
     "metadata": {},
     "output_type": "execute_result"
    }
   ],
   "source": [
    "# 4. 필요한 데이터 찾기\n",
    "title = soup.find(\"title\")\n",
    "title"
   ]
  },
  {
   "cell_type": "code",
   "execution_count": 17,
   "id": "09248f5c",
   "metadata": {},
   "outputs": [
    {
     "data": {
      "text/plain": [
       "\"달 궤도 유인비행 '아르테미스2' 내년 11월 말 발사\""
      ]
     },
     "execution_count": 17,
     "metadata": {},
     "output_type": "execute_result"
    }
   ],
   "source": [
    "title.get_text()"
   ]
  },
  {
   "cell_type": "code",
   "execution_count": 19,
   "id": "db8202a7",
   "metadata": {},
   "outputs": [
    {
     "data": {
      "text/plain": [
       "'[JMS 쇼크] \"주님, 반신욕해요\" 선정성에 조성현 PD \"10분의 1도 안 돼\" 항변'"
      ]
     },
     "execution_count": 19,
     "metadata": {},
     "output_type": "execute_result"
    }
   ],
   "source": [
    "res = requests.get(\"https://v.daum.net/v/20230308093040693\")\n",
    "soup = BeautifulSoup(res.content, \"lxml\")\n",
    "title = soup.find(\"title\")\n",
    "title.get_text()"
   ]
  },
  {
   "cell_type": "markdown",
   "id": "53fb6655",
   "metadata": {},
   "source": [
    "#### string, text 차이\n",
    "- string : 태그 하위의 문자열을 객체화시켜서 문자열이 없으면 None값을 반환\n",
    "- text : 하위자식태그의 텍스트까지 문자열로 반환\n",
    "- 하위태그에 테스트까지 문자열을 파싱할경우 text를 사용하는게 좋음"
   ]
  },
  {
   "cell_type": "code",
   "execution_count": 20,
   "id": "05aa0fab",
   "metadata": {},
   "outputs": [],
   "source": [
    "# 분석대상 \n",
    "html = \"\"\"\n",
    "<html>\n",
    "<body>\n",
    "  <h1>글자크기</h1>\n",
    "  <h2>글자크기2</h2>\n",
    "  <p>원하는 글자 추출</p>\n",
    "  <p>크롤링 수업시간 </p>\n",
    "  <p></p>\n",
    "  <ul>\n",
    "      <li><a href=\"http://www.daum.net\">daum</a></li>\n",
    "      <li><a href=\"http://www.naver.com\">naver</a></li>\n",
    "  </ul>\n",
    "</body>\n",
    "</html>  \"\"\""
   ]
  },
  {
   "cell_type": "code",
   "execution_count": 21,
   "id": "4d77bf01",
   "metadata": {},
   "outputs": [],
   "source": [
    "soup = BeautifulSoup(html, \"html.parser\")"
   ]
  },
  {
   "cell_type": "code",
   "execution_count": 22,
   "id": "ced60adf",
   "metadata": {},
   "outputs": [],
   "source": [
    "data = soup.find('h1')"
   ]
  },
  {
   "cell_type": "code",
   "execution_count": 23,
   "id": "37c3cf77",
   "metadata": {},
   "outputs": [
    {
     "data": {
      "text/plain": [
       "'글자크기'"
      ]
     },
     "execution_count": 23,
     "metadata": {},
     "output_type": "execute_result"
    }
   ],
   "source": [
    "data.string"
   ]
  },
  {
   "cell_type": "markdown",
   "id": "bebf1a78",
   "metadata": {},
   "source": [
    "find_all() = 여러개 태그를 한꺼번에 추출"
   ]
  },
  {
   "cell_type": "code",
   "execution_count": 24,
   "id": "fe0c48a3",
   "metadata": {},
   "outputs": [
    {
     "data": {
      "text/plain": [
       "'글자크기'"
      ]
     },
     "execution_count": 24,
     "metadata": {},
     "output_type": "execute_result"
    }
   ],
   "source": [
    "data.text"
   ]
  },
  {
   "cell_type": "code",
   "execution_count": 34,
   "id": "59ef8ee3",
   "metadata": {},
   "outputs": [
    {
     "data": {
      "text/plain": [
       "[<p>원하는 글자 추출</p>, <p>크롤링 수업시간 </p>, <p></p>]"
      ]
     },
     "execution_count": 34,
     "metadata": {},
     "output_type": "execute_result"
    }
   ],
   "source": [
    "data = soup.find_all('p')\n",
    "data"
   ]
  },
  {
   "cell_type": "code",
   "execution_count": 38,
   "id": "fa34ff48",
   "metadata": {},
   "outputs": [
    {
     "name": "stdout",
     "output_type": "stream",
     "text": [
      "원하는 글자 추출\n",
      "크롤링 수업시간 \n",
      "None\n"
     ]
    }
   ],
   "source": [
    "for i in data:\n",
    "    print(i.string)"
   ]
  },
  {
   "cell_type": "code",
   "execution_count": 39,
   "id": "85f7b282",
   "metadata": {},
   "outputs": [
    {
     "name": "stdout",
     "output_type": "stream",
     "text": [
      "원하는 글자 추출\n",
      "크롤링 수업시간 \n",
      "\n"
     ]
    }
   ],
   "source": [
    "for i in data:\n",
    "    print(i.text)"
   ]
  },
  {
   "cell_type": "code",
   "execution_count": 40,
   "id": "ae7da127",
   "metadata": {},
   "outputs": [
    {
     "data": {
      "text/plain": [
       "[<a href=\"http://www.daum.net\">daum</a>,\n",
       " <a href=\"http://www.naver.com\">naver</a>]"
      ]
     },
     "execution_count": 40,
     "metadata": {},
     "output_type": "execute_result"
    }
   ],
   "source": [
    "data = soup.find_all('a')\n",
    "data"
   ]
  },
  {
   "cell_type": "markdown",
   "id": "afc61fe3",
   "metadata": {},
   "source": [
    "#### 태그의 속성값 출력"
   ]
  },
  {
   "cell_type": "code",
   "execution_count": 47,
   "id": "61b6c27d",
   "metadata": {},
   "outputs": [
    {
     "name": "stdout",
     "output_type": "stream",
     "text": [
      "daum >> http://www.daum.net\n",
      "naver >> http://www.naver.com\n"
     ]
    }
   ],
   "source": [
    "data=soup.find_all('a')\n",
    "for i in data:\n",
    "    link=i.attrs['href']\n",
    "    add=i.text\n",
    "    print(add ,\">>\",link)"
   ]
  },
  {
   "cell_type": "code",
   "execution_count": null,
   "id": "55e4e9dc",
   "metadata": {},
   "outputs": [],
   "source": []
  }
 ],
 "metadata": {
  "kernelspec": {
   "display_name": "Python 3 (ipykernel)",
   "language": "python",
   "name": "python3"
  },
  "language_info": {
   "codemirror_mode": {
    "name": "ipython",
    "version": 3
   },
   "file_extension": ".py",
   "mimetype": "text/x-python",
   "name": "python",
   "nbconvert_exporter": "python",
   "pygments_lexer": "ipython3",
   "version": "3.9.13"
  }
 },
 "nbformat": 4,
 "nbformat_minor": 5
}
